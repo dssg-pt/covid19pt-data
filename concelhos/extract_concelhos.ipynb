{
 "cells": [
  {
   "cell_type": "code",
   "execution_count": null,
   "metadata": {},
   "outputs": [],
   "source": [
    "import glob\n",
    "import os\n",
    "import re\n",
    "import warnings\n",
    "import pandas as pd\n",
    "import tabula\n",
    "\n",
    "path_to_pdfs = \"../dgs-reports-archive/\""
   ]
  },
  {
   "cell_type": "code",
   "execution_count": null,
   "metadata": {},
   "outputs": [],
   "source": [
    "def extract_table(file, page = 3):\n",
    "    \"\"\"\n",
    "    Extract the main table with concelhos data.\n",
    "    file: path to pdf file\n",
    "    page: specify pdf page\n",
    "    \"\"\"\n",
    "    raw_tables = tabula.read_pdf(file, pages = page, lattice=True, stream = False, multiple_tables=True)\n",
    "    tab_widths = [x.shape[1] for x in raw_tables]\n",
    "    return raw_tables[tab_widths.index(max(tab_widths))]\n",
    "    \n",
    "    \n",
    "def validate_table(t):\n",
    "    \"\"\"\n",
    "    Checks if extracted table has expected data\n",
    "    \"\"\"\n",
    "    keywords = ['CONCELHO', 'Lisboa', 'Condeixa-a-Nova', 'Portimão']\n",
    "    \n",
    "    for k in keywords:\n",
    "        assert any(t[0].astype('str').str.contains(k)), f\"Selected table does not include {k}\"\n",
    "        \n",
    "        \n",
    "def clean_table(t):\n",
    "    \"\"\"\n",
    "    reshapes and cleans tabula extracted concelhos data\n",
    "    \"\"\"\n",
    "    t = t.loc[~t[0].apply(lambda x: str(x)[:3].isupper())]\n",
    "    t = pd.concat([t.rename(columns={i: \"concelho\", i+1: \"casos\"}).iloc[:,[i,i+1]] for i in range(0,t.shape[1], 2)],\n",
    "                  axis = 0, ignore_index = True)\n",
    "    t.dropna(inplace = True)\n",
    "    t['concelho'] = t['concelho'].apply(lambda x: re.sub('\\\\r', ' ', x))\n",
    "    t['casos'].astype('int')        \n",
    "\n",
    "    return t\n",
    "\n",
    "\n",
    "def get_date(file):\n",
    "    \"\"\"\n",
    "    get datestamp from file path\n",
    "    \"\"\"\n",
    "    \n",
    "    x = re.search('\\d{2}_\\d{2}_\\d{4}.pdf', str(file))\n",
    "    x = x.group().split('.pdf')[0]\n",
    "    return re.sub('_', '-', x)"
   ]
  },
  {
   "cell_type": "code",
   "execution_count": null,
   "metadata": {},
   "outputs": [],
   "source": [
    "reports = os.listdir(path_to_pdfs)\n",
    "tables = []\n",
    "\n",
    "for rep_num in range(22, len(reports)+2): # first table with concelhos: 22\n",
    "    \n",
    "    try:\n",
    "        file = glob.glob(f\"{path_to_pdfs}*-{str(rep_num).zfill(2)}_*\")[0]\n",
    "        print(f\"Processing {get_date(file)}...\")\n",
    "    except:\n",
    "        warnings.warn(f\"* Relatorio {rep_num} is not available *\")\n",
    "        continue\n",
    "        \n",
    "    x = extract_table(file, 3)\n",
    "\n",
    "    try:\n",
    "        validate_table(x)\n",
    "    except:\n",
    "        warnings.warn('Data is invalid and was not saved')\n",
    "        continue\n",
    "    \n",
    "    try:\n",
    "        x = clean_table(x)\n",
    "    except:\n",
    "        warnings.warn('Data is invalid and was not saved')\n",
    "        continue\n",
    "        \n",
    "    x['dia'] = get_date(file)\n",
    "        \n",
    "    print(f\"   extracted {x.shape[0]} concelhos\")\n",
    "    \n",
    "    tables.append(x)"
   ]
  },
  {
   "cell_type": "code",
   "execution_count": null,
   "metadata": {},
   "outputs": [],
   "source": [
    "final = pd.concat(tables, axis=0, ignore_index=True)"
   ]
  },
  {
   "cell_type": "code",
   "execution_count": null,
   "metadata": {},
   "outputs": [],
   "source": [
    "final.to_csv('concelhos.csv', index=False)"
   ]
  },
  {
   "cell_type": "code",
   "execution_count": null,
   "metadata": {},
   "outputs": [],
   "source": []
  }
 ],
 "metadata": {
  "kernelspec": {
   "display_name": "Python 3",
   "language": "python",
   "name": "python3"
  },
  "language_info": {
   "codemirror_mode": {
    "name": "ipython",
    "version": 3
   },
   "file_extension": ".py",
   "mimetype": "text/x-python",
   "name": "python",
   "nbconvert_exporter": "python",
   "pygments_lexer": "ipython3",
   "version": "3.8.2"
  }
 },
 "nbformat": 4,
 "nbformat_minor": 4
}
