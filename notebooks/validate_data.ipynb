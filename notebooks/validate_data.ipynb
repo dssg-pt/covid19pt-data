{
 "metadata": {
  "language_info": {
   "codemirror_mode": {
    "name": "ipython",
    "version": 3
   },
   "file_extension": ".py",
   "mimetype": "text/x-python",
   "name": "python",
   "nbconvert_exporter": "python",
   "pygments_lexer": "ipython3",
   "version": "3.8.2-final"
  },
  "orig_nbformat": 2,
  "kernelspec": {
   "name": "python3",
   "display_name": "Python 3",
   "language": "python"
  }
 },
 "nbformat": 4,
 "nbformat_minor": 2,
 "cells": [
  {
   "cell_type": "code",
   "execution_count": null,
   "metadata": {},
   "outputs": [],
   "source": [
    "from pathlib import Path\n",
    "import pandas as pd"
   ]
  },
  {
   "cell_type": "code",
   "execution_count": null,
   "metadata": {},
   "outputs": [],
   "source": [
    "DATA_FILEPATH = Path.cwd() / '..' / 'data.csv'\n",
    "data = pd.read_csv(DATA_FILEPATH)\n"
   ]
  },
  {
   "cell_type": "code",
   "execution_count": null,
   "metadata": {},
   "outputs": [],
   "source": [
    "# Verify \"ativos\" is 'confirmados' minus 'recuperados' minus 'obitos'\n",
    "df = data.copy()\n",
    "# column 'calc' becomes 'confirmados' minus 'obitos' minus 'recuperados'\n",
    "df['calc'] = df['confirmados'] - df['recuperados'] - df['obitos']\n",
    "# NaN means we don't know the number. Let's make those '0' to simplify here\n",
    "df.fillna(0, inplace=True)\n",
    "# column 'diff' becomes the difference betwen calc and ativos\n",
    "df['diff'] = df['calc'] - df['ativos']\n",
    "# filter by values where diff != 0\n",
    "fail = df[df['diff'] != 0]\n",
    "fail = fail[['data', 'diff', 'calc', 'ativos', 'confirmados', 'obitos', 'recuperados']]\n",
    "if len(fail):\n",
    "    print(fail)\n"
   ]
  },
  {
   "cell_type": "code",
   "execution_count": null,
   "metadata": {},
   "outputs": [],
   "source": [
    "# Verify \"ativos\" = \"confirmados\" minus \"recuperados\" minus \"obitos\" as well as\n",
    "# \"ativos_novos\" = \"confirmados_novos\" minus \"recuperados_novos\" minus \"obitos_novos\"\n",
    "df = data.copy()\n",
    "# unknowns are zero\n",
    "df.fillna(0, inplace=True)\n",
    "# focus on the four values\n",
    "df = df.loc[:, ['data', 'confirmados', 'recuperados', 'obitos', 'ativos']]\n",
    "# add four \"*_novos\"\n",
    "df['confirmados_novos'] = df['confirmados'].diff(1)\n",
    "df['recuperados_novos'] = df['recuperados'].diff(1)\n",
    "df['obitos_novos'] = df['obitos'].diff(1)\n",
    "df['ativos_novos'] = df['ativos'].diff(1)\n",
    "# remove first row (NaN because there's no previous day)\n",
    "df = df[1:]\n",
    "\n",
    "df['ativos_calc'] = df['confirmados'] - df['recuperados'] - df['obitos']\n",
    "df['ativos_novos_calc'] = df['confirmados_novos'] - df['recuperados_novos'] - df['obitos_novos']\n",
    "df['diff'] = df['ativos_calc'] - df['ativos'] + df['ativos_novos_calc'] - df['ativos_novos']\n",
    "\n",
    "# filter by values where diff != 0\n",
    "fail = df[df['diff'] != 0]\n",
    "fail = fail[['data', 'diff', 'ativos_calc', 'ativos', 'ativos_novos_calc', 'ativos_novos']]\n",
    "if len(fail):\n",
    "    print(fail)\n",
    "\n",
    "df['confirmados_calc'] = df['recuperados'] + df['obitos'] + df['ativos']\n",
    "df['confirmados_novos_calc'] = df['recuperados_novos'] + df['obitos_novos'] + df['ativos_novos']\n",
    "df['diff'] = df['confirmados_calc'] - df['confirmados'] + df['confirmados_novos_calc'] - df['confirmados_novos']\n",
    "\n",
    "# filter by values where diff != 0\n",
    "fail = df[df['diff'] != 0]\n",
    "fail = fail[['data', 'diff', 'confirmados_calc', 'confirmados', 'confirmados_novos_calc', 'confirmados_novos']]\n",
    "if len(fail):\n",
    "    print(fail)\n"
   ]
  },
  {
   "cell_type": "code",
   "execution_count": null,
   "metadata": {},
   "outputs": [],
   "source": [
    "# Verify \"confirmados_novos\" is \"confirmados\" minus previous day\n",
    "df = data.copy()\n",
    "\n",
    "# column 'calc' becomes the difference between 'confirmados' from the current row and the previous row\n",
    "df['calc'] = df['confirmados'].diff(1)\n",
    "# first row will be NaN because there's no previous row\n",
    "df.loc[[0], ['calc']] = 0\n",
    "# column 'diff' becomes the difference betwen calc and confirmados_novos\n",
    "df['diff'] = df['calc'] - df['confirmados_novos']\n",
    "\n",
    "# filter by values where diff != 0\n",
    "fail = df[df['diff'] != 0]\n",
    "fail = fail[['data', 'diff', 'calc', 'confirmados_novos', 'confirmados']]\n",
    "if len(fail):\n",
    "    print(fail)\n"
   ]
  },
  {
   "cell_type": "code",
   "execution_count": null,
   "metadata": {},
   "outputs": [],
   "source": [
    "# Verify \"confirmados\" is the sum of all regions Portugal, including \"estrangeiros\"\n",
    "df = data.copy()\n",
    "# allow \"estrangeiro\" to be unknown\n",
    "df.confirmados_estrangeiro.fillna(0, inplace=True)\n",
    "\n",
    "df['calc'] = df['confirmados_arsnorte'] + df['confirmados_arscentro'] + df['confirmados_arslvt'] + df['confirmados_arsalentejo'] + df['confirmados_arsalgarve'] + df['confirmados_acores'] + df['confirmados_madeira'] + df['confirmados_estrangeiro']\n",
    "df['diff'] = df['calc'] - df['confirmados']\n",
    "\n",
    "fail = df[df['diff'] != 0]\n",
    "fail = fail[['data', 'diff', 'calc', 'confirmados', 'confirmados_arsnorte', 'confirmados_arscentro', 'confirmados_arslvt', 'confirmados_arsalentejo', 'confirmados_arsalgarve', 'confirmados_acores', 'confirmados_madeira', 'confirmados_estrangeiro']]\n",
    "if len(fail):\n",
    "    # 16-03-2020 (-1) and #20-03-2020 (-3)\n",
    "    print(fail)\n"
   ]
  },
  {
   "cell_type": "code",
   "execution_count": null,
   "metadata": {},
   "outputs": [],
   "source": [
    "# Verify \"obitos\" is the sum of all regions Portugal, including \"estrangeiros\"\n",
    "df = data.copy()\n",
    "\n",
    "df['calc'] = df['obitos_arsnorte'] + df['obitos_arscentro'] + df['obitos_arslvt'] + df['obitos_arsalentejo'] + df['obitos_arsalgarve'] + df['obitos_acores'] + df['obitos_madeira']\n",
    "df['diff'] = df['calc'] - df['obitos']\n",
    "\n",
    "fail = df[df['diff'] != 0]\n",
    "fail = fail[['data', 'diff', 'calc', 'obitos', 'obitos_arsnorte', 'obitos_arscentro', 'obitos_arslvt', 'obitos_arsalentejo', 'obitos_arsalgarve', 'obitos_acores', 'obitos_madeira']]\n",
    "if len(fail):\n",
    "    # 24-10-2020 (10)\n",
    "    print(fail)\n"
   ]
  },
  {
   "cell_type": "code",
   "execution_count": null,
   "metadata": {},
   "outputs": [],
   "source": [
    "# Verify \"confirmados\" is the sum of \"f\" and \"m\" and \"desconhecidos\" since 16-11-2020 (desconhecidos_f and _m are zero)\n",
    "df = data.copy()\n",
    "# unknowns are zero\n",
    "df.fillna(0, inplace=True)\n",
    "\n",
    "# 16-11-2020 with desconhecidos but 28-08-2020 has zeros and math is correct\n",
    "idx = df[df.data == '28-08-2020'].index.to_numpy()[0] # this is ridiculous\n",
    "df = df.iloc[ idx: ]\n",
    "\n",
    "df['calc'] = df['confirmados_f'] + df['confirmados_m'] + df['confirmados_desconhecidos_f'] + df['confirmados_desconhecidos_m'] + df['confirmados_desconhecidos']\n",
    "df['diff'] = df['calc'] - df['confirmados']\n",
    "\n",
    "fail = df[df['diff'] != 0] + df[df['confirmados_desconhecidos_f'] != 0] + df[df['confirmados_desconhecidos_m'] != 0]\n",
    "fail = fail[['data', 'diff', 'calc', 'confirmados', 'confirmados_f', 'confirmados_m', 'confirmados_desconhecidos_f', 'confirmados_desconhecidos_m', 'confirmados_desconhecidos']]\n",
    "if len(fail):\n",
    "    print(fail)\n"
   ]
  },
  {
   "cell_type": "code",
   "execution_count": null,
   "metadata": {},
   "outputs": [],
   "source": [
    "# Verify \"confirmados\" is the sum of \"f\" and \"m\" and \"desconhecidos_f\" before 16-11-2020\n",
    "df = data.copy()\n",
    "# unknowns are zero\n",
    "df.fillna(0, inplace=True)\n",
    "\n",
    "df['calc'] = df['confirmados_f'] + df['confirmados_m'] + df['confirmados_desconhecidos_f'] + df['confirmados_desconhecidos_m'] + df['confirmados_desconhecidos']\n",
    "df['diff'] = df['calc'] - df['confirmados']\n",
    "\n",
    "fail = df[df['diff'] != 0]\n",
    "## ignore initial rows where _f and _m where unknown\n",
    "#fail = fail[ df.confirmados_f.notnull() & df.confirmados_m.notnull() & df.confirmados_desconhecidos.notnull() ]\n",
    "fail = fail[['data', 'diff', 'calc', 'confirmados', 'confirmados_f', 'confirmados_m', 'confirmados_desconhecidos_f', 'confirmados_desconhecidos_m', 'confirmados_desconhecidos']]\n",
    "if len(fail):\n",
    "    print(len(fail))  # TODO 82\n",
    "    print(fail)\n"
   ]
  },
  {
   "cell_type": "code",
   "execution_count": null,
   "metadata": {},
   "outputs": [],
   "source": [
    "# Verify \"confirmados\" is the sum of all ages\n",
    "# TODO the difference is the unknowns, which are not being populated?\n",
    "df = data.copy()\n",
    "# allow \"desconhecidos\" to be unknown\n",
    "df.confirmados_desconhecidos_f.fillna(0, inplace=True)\n",
    "df.confirmados_desconhecidos_m.fillna(0, inplace=True)\n",
    "df.confirmados_desconhecidos.fillna(0, inplace=True)\n",
    "\n",
    "df['calc'] = df['confirmados_0_9_f'] + df['confirmados_0_9_m'] + df['confirmados_10_19_f'] + df['confirmados_10_19_m'] + df['confirmados_20_29_f'] + df['confirmados_20_29_m'] + df['confirmados_30_39_f'] + df['confirmados_30_39_m'] + df['confirmados_40_49_f'] + df['confirmados_40_49_m'] + df['confirmados_50_59_f'] + df['confirmados_50_59_m'] + df['confirmados_60_69_f'] + df['confirmados_60_69_m'] + df['confirmados_70_79_f'] + df['confirmados_70_79_m'] + df['confirmados_80_plus_f'] + df['confirmados_80_plus_m'] + df['confirmados_desconhecidos_m'] + df['confirmados_desconhecidos_f'] + df['confirmados_desconhecidos']\n",
    "\n",
    "df['diff'] = df['calc'] - df['confirmados']\n",
    "\n",
    "fail = df[df['diff'] != 0]\n",
    "fail = fail[ df.confirmados_f.notnull() & df.confirmados_m.notnull() ]\n",
    "fail = fail[['data', 'diff', 'calc', 'confirmados', 'confirmados_0_9_f', 'confirmados_0_9_m', 'confirmados_10_19_f', 'confirmados_10_19_m', 'confirmados_20_29_f', 'confirmados_20_29_m', 'confirmados_30_39_f', 'confirmados_30_39_m', 'confirmados_40_49_f', 'confirmados_40_49_m', 'confirmados_50_59_f', 'confirmados_50_59_m', 'confirmados_60_69_f', 'confirmados_60_69_m', 'confirmados_70_79_f', 'confirmados_70_79_m', 'confirmados_80_plus_f', 'confirmados_80_plus_m', 'confirmados_desconhecidos_m', 'confirmados_desconhecidos_f', 'confirmados_desconhecidos']]\n",
    "if len(fail):\n",
    "    print(len(fail))  # TODO 163\n",
    "    print(fail)\n"
   ]
  },
  {
   "cell_type": "code",
   "execution_count": null,
   "metadata": {},
   "outputs": [],
   "source": [
    "# Verify \"obitos\" is the sum of all ages\n",
    "df = data.copy()\n",
    "\n",
    "df['calc'] = df['obitos_0_9_f'] + df['obitos_0_9_m'] + df['obitos_10_19_f'] + df['obitos_10_19_m'] + df['obitos_20_29_f'] + df['obitos_20_29_m'] + df['obitos_30_39_f'] + df['obitos_30_39_m'] + df['obitos_40_49_f'] + df['obitos_40_49_m'] + df['obitos_50_59_f'] + df['obitos_50_59_m'] + df['obitos_60_69_f'] + df['obitos_60_69_m'] + df['obitos_70_79_f'] + df['obitos_70_79_m'] + df['obitos_80_plus_f'] + df['obitos_80_plus_m']\n",
    "\n",
    "df['diff'] = df['calc'] - df['obitos']\n",
    "\n",
    "fail = df[df['diff'] != 0]\n",
    "fail = fail[ df.obitos_f.notnull() & df.obitos_m.notnull() ]\n",
    "fail = fail[['data', 'diff', 'calc', 'obitos', 'obitos_0_9_f', 'obitos_0_9_m', 'obitos_10_19_f', 'obitos_10_19_m', 'obitos_20_29_f', 'obitos_20_29_m', 'obitos_30_39_f', 'obitos_30_39_m', 'obitos_40_49_f', 'obitos_40_49_m', 'obitos_50_59_f', 'obitos_50_59_m', 'obitos_60_69_f', 'obitos_60_69_m', 'obitos_70_79_f', 'obitos_70_79_m', 'obitos_80_plus_f', 'obitos_80_plus_m']]\n",
    "if len(fail):\n",
    "    print(len(fail))  # TODO 3\n",
    "    print(fail)\n"
   ]
  },
  {
   "cell_type": "code",
   "execution_count": null,
   "metadata": {},
   "outputs": [],
   "source": []
  }
 ]
}