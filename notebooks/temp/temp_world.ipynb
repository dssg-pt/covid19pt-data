{
 "metadata": {
  "language_info": {
   "codemirror_mode": {
    "name": "ipython",
    "version": 3
   },
   "file_extension": ".py",
   "mimetype": "text/x-python",
   "name": "python",
   "nbconvert_exporter": "python",
   "pygments_lexer": "ipython3",
   "version": "3.8.2"
  },
  "orig_nbformat": 2,
  "kernelspec": {
   "name": "python3",
   "display_name": "Python 3.8.2 64-bit"
  },
  "metadata": {
   "interpreter": {
    "hash": "31f2aee4e71d21fbe5cf8b01ff0e069b9275f58929596ceb00d14d90e3e16cd6"
   }
  },
  "interpreter": {
   "hash": "31f2aee4e71d21fbe5cf8b01ff0e069b9275f58929596ceb00d14d90e3e16cd6"
  }
 },
 "nbformat": 4,
 "nbformat_minor": 2,
 "cells": [
  {
   "cell_type": "code",
   "execution_count": null,
   "metadata": {},
   "outputs": [],
   "source": [
    "import datetime\n",
    "import pandas as pd\n",
    "\n",
    "import matplotlib.pyplot as plt\n",
    "%matplotlib inline\n",
    "plt.style.use('dark_background')\n"
   ]
  },
  {
   "cell_type": "code",
   "execution_count": null,
   "metadata": {},
   "outputs": [],
   "source": [
    "# https://www.worldometers.info/world-population/population-by-country/\n",
    "list_countries = []\n",
    "list_countries += [('Portugal', 10196709), ('Spain', 46754778), ('France', 65273511), ('Italy', 60461826), ('Germany', 83783942), ('United Kingdom', 67886011), ('Belgium', 11589623), ('Netherlands', 17134872), ('Sweden', 10099265)]\n",
    "list_countries += [('Ireland', 4937786), ('Luxembourg', 625978), ('Slovakia', 5459642), ('Denmark', 5792202), ('Norway', 5421241), ('Czechia', 10708981), ]\n",
    "list_countries += [('US', 331002651), ('Brazil', 212559417)]\n",
    "#list_countries += [('India', 1380004385)]\n",
    "#list_countries += [('China', 1439323776)]\n"
   ]
  },
  {
   "cell_type": "code",
   "execution_count": null,
   "metadata": {},
   "outputs": [],
   "source": [
    "!curl --output '/tmp/confirmed.csv' \"https://raw.githubusercontent.com/CSSEGISandData/COVID-19/master/csse_covid_19_data/csse_covid_19_time_series/time_series_covid19_confirmed_global.csv\"\n",
    "!curl --output '/tmp/deaths.csv' \"https://raw.githubusercontent.com/CSSEGISandData/COVID-19/master/csse_covid_19_data/csse_covid_19_time_series/time_series_covid19_deaths_global.csv\"\n"
   ]
  },
  {
   "cell_type": "code",
   "execution_count": null,
   "metadata": {},
   "outputs": [],
   "source": [
    "csv = {\n",
    "    \"confirmed\": pd.read_csv('/tmp/confirmed.csv'),\n",
    "    \"deaths\": pd.read_csv('/tmp/deaths.csv'),\n",
    "}\n"
   ]
  },
  {
   "cell_type": "code",
   "execution_count": null,
   "metadata": {},
   "outputs": [],
   "source": [
    "df = {}\n",
    "for i in csv.keys():\n",
    "  dates_columns = [col for col in csv[i].columns if '/2' in col]\n",
    "  df[i] = csv[i].melt(id_vars = ['Country/Region'], value_vars = dates_columns, var_name = 'Date', value_name = 'Confirmed')\n",
    "  df[i]['Date'] = pd.to_datetime(df[i]['Date'])\n",
    "\n",
    "  curDate = df[i][df[i]['Country/Region'] == 'Portugal'].tail(1)['Date']\n",
    "\n",
    "  df[i] = df[i][['Date', 'Country/Region', 'Confirmed']].sort_values(by = 'Date')\n",
    "\n",
    "  idx = df[i].groupby(['Country/Region', 'Date'])['Confirmed'].transform(max) == df[i]['Confirmed'] \n",
    "  df[i] = df[i][idx]\n",
    "  df[i] = df[i][df[i].Confirmed > 0]\n",
    "  df[i]['Day'] = df[i].groupby('Country/Region', as_index = False).cumcount()\n",
    "\n",
    "  df[i].set_index('Date', inplace=True)\n"
   ]
  },
  {
   "cell_type": "code",
   "execution_count": null,
   "metadata": {},
   "outputs": [],
   "source": [
    "df['confirmed']\n"
   ]
  },
  {
   "cell_type": "code",
   "execution_count": null,
   "metadata": {},
   "outputs": [],
   "source": [
    "df['deaths']\n"
   ]
  },
  {
   "cell_type": "code",
   "execution_count": null,
   "metadata": {},
   "outputs": [],
   "source": [
    "((df['deaths']['Country/Region'] == 'Brazil') & (df['deaths']['Confirmed'] > 1000)).sum()\n"
   ]
  },
  {
   "cell_type": "code",
   "execution_count": null,
   "metadata": {},
   "outputs": [],
   "source": [
    "pt_br = [x for x in list_countries if x[0] in ['Portugal', 'Brazil']]\n",
    "pt_br, pt_br[1][1] / pt_br[0][1], 1000 / (pt_br[1][1] / pt_br[0][1])\n"
   ]
  },
  {
   "cell_type": "code",
   "execution_count": null,
   "metadata": {},
   "outputs": [],
   "source": [
    "((df['deaths']['Country/Region'] == 'Portugal') & (df['deaths']['Confirmed'] > 48)).sum()"
   ]
  },
  {
   "cell_type": "code",
   "execution_count": null,
   "metadata": {},
   "outputs": [],
   "source": []
  },
  {
   "cell_type": "code",
   "execution_count": null,
   "metadata": {},
   "outputs": [],
   "source": [
    "br = int(df['deaths'][ df['deaths']['Country/Region'] == 'Brazil' ].tail(1)['Confirmed'])\n",
    "br, br * 100.0 / pt_br[1][1]\n"
   ]
  },
  {
   "cell_type": "code",
   "execution_count": null,
   "metadata": {},
   "outputs": [],
   "source": [
    "pt = int(df['deaths'][ df['deaths']['Country/Region'] == 'Portugal' ].tail(1)['Confirmed'])\n",
    "pt, pt * 100.0 / pt_br[0][1]\n"
   ]
  },
  {
   "cell_type": "code",
   "execution_count": null,
   "metadata": {},
   "outputs": [],
   "source": [
    "dfb = df['deaths'][ df['deaths']['Country/Region'] == 'Brazil' ].copy()\n",
    "dfb['Confirmed7'] = dfb['Confirmed'].diff(7).div(7)\n",
    "dfb['Confirmed1'] = dfb['Confirmed'].diff(1).div(1)\n",
    "dfb = dfb[ dfb['Confirmed7'].notnull() ]\n",
    "#dfb\n",
    "#dfb[['Confirmed7', 'Confirmed1']].plot(figsize=(20,4))\n",
    "fig, axes = plt.subplots(figsize=(20,4))\n",
    "axes.plot(dfb.Confirmed1, label=\"Deaths daily\")\n",
    "axes.plot(dfb.Confirmed7, label=\"Deaths 7d avg\", lw=4)\n",
    "axes.set_title(f\"Brasil Deaths {round(dfb['Confirmed7'][-1])}\")\n",
    "plt.show()\n"
   ]
  },
  {
   "cell_type": "code",
   "execution_count": null,
   "metadata": {},
   "outputs": [],
   "source": [
    "dfb.tail(2)\n"
   ]
  },
  {
   "cell_type": "code",
   "execution_count": null,
   "metadata": {},
   "outputs": [],
   "source": [
    "#'Portugal', 10196709), \n",
    "#'Brazil', 212559417)]\n",
    "\n",
    "rel = 10196709 / 212559417\n",
    "print(300 / rel)"
   ]
  },
  {
   "cell_type": "code",
   "execution_count": null,
   "metadata": {},
   "outputs": [],
   "source": []
  }
 ]
}