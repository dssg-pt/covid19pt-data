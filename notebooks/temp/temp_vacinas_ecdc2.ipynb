{
 "cells": [
  {
   "cell_type": "code",
   "execution_count": null,
   "metadata": {},
   "outputs": [],
   "source": [
    "import datetime\n",
    "import pandas as pd\n"
   ]
  },
  {
   "cell_type": "code",
   "execution_count": null,
   "metadata": {},
   "outputs": [],
   "source": [
    "# https://qap.ecdc.europa.eu/public/extensions/COVID-19/vaccine-tracker.html#distribution-tab\n",
    "# https://www.ecdc.europa.eu/en/publications-data/data-covid-19-vaccination-eu-eea\n",
    "!curl -s --output '/tmp/ecdc_vacinas.csv' \"https://opendata.ecdc.europa.eu/covid19/vaccine_tracker/csv/data.csv\"\n",
    "# !tail -1 '/tmp/ecdc_vacinas.csv'\n"
   ]
  },
  {
   "cell_type": "code",
   "execution_count": null,
   "metadata": {},
   "outputs": [],
   "source": [
    "data = pd.read_csv('/tmp/ecdc_vacinas.csv') # , parse_dates=['data'], index_col='data', dayfirst=True)\n",
    "data = data.sort_values(['YearWeekISO', 'ReportingCountry'])\n",
    "data['date'] = data['YearWeekISO'].apply(lambda x: datetime.datetime.strptime(f\"{x}-6\", \"%Y-W%W-%w\"))\n",
    "data.loc[ data['YearWeekISO'] == '2020-W52', 'date' ] += datetime.timedelta(days=-7)\n",
    "data.loc[ data['YearWeekISO'] == '2020-W53', 'date' ] += datetime.timedelta(days=-7)\n",
    "# data.tail(1)\n"
   ]
  },
  {
   "cell_type": "code",
   "execution_count": null,
   "metadata": {},
   "outputs": [],
   "source": [
    "dfpt = data[ data['ReportingCountry'] == 'PT' ].copy()\n",
    "dfpt.drop('ReportingCountry', axis=1, inplace=True)\n",
    "if dfpt['FirstDoseRefused'].notnull().sum() == 0:\n",
    "  dfpt.drop('FirstDoseRefused', axis=1, inplace=True)\n",
    "dfpt.tail(1)\n"
   ]
  },
  {
   "cell_type": "code",
   "execution_count": null,
   "metadata": {},
   "outputs": [],
   "source": [
    "foo = dfpt[ (dfpt['Region'] == 'PT') & (dfpt['TargetGroup'] != 'ALL') ]\n",
    "#foo = dfpt[ (dfpt['Region'] != 'PT') & (dfpt['TargetGroup'] == 'ALL') ]\n",
    "\n",
    "#foo.sum()\n",
    "bar = foo.groupby(['date']).sum().cumsum()\n",
    "bar[bar.DoseAdditional1 > 1]\n"
   ]
  },
  {
   "cell_type": "code",
   "execution_count": null,
   "metadata": {},
   "outputs": [],
   "source": []
  }
 ],
 "metadata": {
  "interpreter": {
   "hash": "31f2aee4e71d21fbe5cf8b01ff0e069b9275f58929596ceb00d14d90e3e16cd6"
  },
  "kernelspec": {
   "display_name": "Python 3.8.9 64-bit",
   "name": "python3"
  },
  "language_info": {
   "codemirror_mode": {
    "name": "ipython",
    "version": 3
   },
   "file_extension": ".py",
   "mimetype": "text/x-python",
   "name": "python",
   "nbconvert_exporter": "python",
   "pygments_lexer": "ipython3",
   "version": "3.8.9"
  },
  "metadata": {
   "interpreter": {
    "hash": "31f2aee4e71d21fbe5cf8b01ff0e069b9275f58929596ceb00d14d90e3e16cd6"
   }
  },
  "orig_nbformat": 2
 },
 "nbformat": 4,
 "nbformat_minor": 2
}
