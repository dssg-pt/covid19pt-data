{
 "metadata": {
  "language_info": {
   "codemirror_mode": {
    "name": "ipython",
    "version": 3
   },
   "file_extension": ".py",
   "mimetype": "text/x-python",
   "name": "python",
   "nbconvert_exporter": "python",
   "pygments_lexer": "ipython3",
   "version": "3.8.2"
  },
  "orig_nbformat": 2,
  "kernelspec": {
   "name": "python3",
   "display_name": "Python 3.8.2 64-bit"
  },
  "metadata": {
   "interpreter": {
    "hash": "31f2aee4e71d21fbe5cf8b01ff0e069b9275f58929596ceb00d14d90e3e16cd6"
   }
  },
  "interpreter": {
   "hash": "31f2aee4e71d21fbe5cf8b01ff0e069b9275f58929596ceb00d14d90e3e16cd6"
  }
 },
 "nbformat": 4,
 "nbformat_minor": 2,
 "cells": [
  {
   "cell_type": "code",
   "execution_count": null,
   "metadata": {},
   "outputs": [],
   "source": [
    "import datetime\n",
    "import requests\n",
    "import pandas as pd\n",
    "import numpy as np\n",
    "from pathlib import Path\n",
    "\n",
    "import matplotlib.pyplot as plt\n",
    "%matplotlib inline\n",
    "plt.style.use('dark_background')\n"
   ]
  },
  {
   "cell_type": "code",
   "execution_count": null,
   "metadata": {},
   "outputs": [],
   "source": [
    "data_incidencia = pd.read_csv(Path.cwd() / '..' / '..' / 'data_concelhos_incidencia.csv', parse_dates=['data'], index_col='data', dayfirst=True)\n",
    "data_incidencia.tail(1)\n"
   ]
  },
  {
   "cell_type": "code",
   "execution_count": null,
   "metadata": {},
   "outputs": [],
   "source": [
    "concelhos = data_incidencia.tail(1).melt()\n",
    "concelhos.sort_values('value', ascending=False).head(20)\n"
   ]
  },
  {
   "cell_type": "code",
   "execution_count": null,
   "metadata": {},
   "outputs": [],
   "source": [
    "data = pd.read_csv(Path.cwd() / '..' / '..' /'data_concelhos_new.csv', parse_dates=['data'], index_col='data', dayfirst=True)\n",
    "for i in [\n",
    "    'tendencia_incidencia', 'tendencia_categoria', 'tendencia_desc',\n",
    "    'incidencia_risco', 'incidencia_categoria', 'casos_14dias', 'dicofre', 'area'\n",
    "    ]:\n",
    "    data.drop(i, axis=1, inplace=True)"
   ]
  },
  {
   "cell_type": "code",
   "execution_count": null,
   "metadata": {},
   "outputs": [],
   "source": [
    "ultimo_dia = data.index[-1]\n",
    "df = data[data.index == ultimo_dia]\n",
    "df = df.sort_values('incidencia', ascending=False)\n",
    "df = df[df.distrito != 'MADEIRA']\n",
    "#df = df[df.confirmados_14 >= 10 ]\n",
    "#df = df[df.incidencia >= 120 ]\n",
    "#df = df[df.incidencia < 240 ]\n",
    "df = df[df.incidencia >= 240 ]\n",
    "#df = df[df.confirmados_14 >= 100 ]\n",
    "#df = df[df.confirmados_14 < 100 ]\n",
    "#df = df[df.incidencia < 240 ]\n",
    "\n",
    "df['confirmados_1'] = df['confirmados_14'] / df['population'] * 100\n",
    "#df = df.sort_values('confirmados_1', ascending=False)\n",
    "df = df.sort_values('confirmados_14', ascending=False)\n",
    "df = df.sort_values('incidencia', ascending=False)\n",
    "print(len(df))\n",
    "df.head(10)\n",
    "\n",
    "#>100 13 <120 16 <240\n",
    "#>100 4 > 120 Marinha Grande, Portimão, Ponta Delgada, Viana Castelo\n",
    "#<100 7 < 120 "
   ]
  },
  {
   "cell_type": "code",
   "execution_count": null,
   "metadata": {},
   "outputs": [],
   "source": []
  }
 ]
}