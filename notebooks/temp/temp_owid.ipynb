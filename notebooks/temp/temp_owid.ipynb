{
 "metadata": {
  "language_info": {
   "codemirror_mode": {
    "name": "ipython",
    "version": 3
   },
   "file_extension": ".py",
   "mimetype": "text/x-python",
   "name": "python",
   "nbconvert_exporter": "python",
   "pygments_lexer": "ipython3",
   "version": "3.8.2"
  },
  "orig_nbformat": 4,
  "kernelspec": {
   "name": "python3",
   "display_name": "Python 3.8.2 64-bit"
  },
  "interpreter": {
   "hash": "31f2aee4e71d21fbe5cf8b01ff0e069b9275f58929596ceb00d14d90e3e16cd6"
  }
 },
 "nbformat": 4,
 "nbformat_minor": 2,
 "cells": [
  {
   "cell_type": "code",
   "execution_count": null,
   "metadata": {},
   "outputs": [],
   "source": [
    "import datetime\n",
    "import requests\n",
    "import pandas as pd\n",
    "import numpy as np\n",
    "from pathlib import Path\n",
    "\n",
    "import matplotlib.pyplot as plt\n",
    "%matplotlib inline\n",
    "plt.style.use('dark_background')\n"
   ]
  },
  {
   "cell_type": "code",
   "execution_count": null,
   "metadata": {},
   "outputs": [],
   "source": [
    "# https://github.com/owid/covid-19-data/blob/43901c094631609ee3131f755f619917e6a72943/scripts/scripts/vaccinations/src/vax/batch/portugal.py\n",
    "\n",
    "def read(source_url: str) -> pd.DataFrame:\n",
    "    return pd.read_csv(source_url, usecols=[\n",
    "        \"data\", \"vacinas\", \"pessoas_vacinadas_completamente\", \"pessoas_vacinadas_parcialmente\"\n",
    "        # hack\n",
    "        , \"pessoas_inoculadas\"\n",
    "    ])\n",
    "\n",
    "def rename_columns(df: pd.DataFrame) -> pd.DataFrame:\n",
    "    return df.rename(columns={\n",
    "        \"data\": \"date\",\n",
    "        \"vacinas\": \"total_vaccinations\",\n",
    "        \"pessoas_vacinadas_completamente\": \"people_fully_vaccinated\",\n",
    "        # hack\n",
    "        \"pessoas_inoculadas\": \"people_innoculated\",\n",
    "    })\n",
    "\n",
    "def format_date(df: pd.DataFrame) -> pd.DataFrame:\n",
    "    return df.assign(date=pd.to_datetime(df.date, format=\"%d-%m-%Y\").astype(str))\n",
    "\n",
    "\n",
    "def calculate_metrics(df: pd.DataFrame) -> pd.DataFrame:\n",
    "    df = df.assign(\n",
    "        people_vaccinated=df.pessoas_vacinadas_parcialmente + df.people_fully_vaccinated\n",
    "    )\n",
    "    return df[[\"date\", \"total_vaccinations\", \"people_vaccinated\", \"people_fully_vaccinated\"\n",
    "        # hack\n",
    "        , \"people_innoculated\",\n",
    "        ]]\n",
    "\n",
    "def sanity_checks(df: pd.DataFrame) -> pd.DataFrame:\n",
    "    assert all(df.total_vaccinations.fillna(0) >= df.people_vaccinated.fillna(0))\n",
    "    return df\n",
    "\n",
    "# https://github.com/owid/covid-19-data/blob/43901c094631609ee3131f755f619917e6a72943/scripts/scripts/vaccinations/src/vax/utils/utils.py\n",
    "\n",
    "def make_monotonic(df: pd.DataFrame) -> pd.DataFrame:\n",
    "    # Forces vaccination time series to become monotonic.\n",
    "    # The algorithm assumes that the most recent values are the correct ones,\n",
    "    # and therefore removes previous higher values.\n",
    "    df = df.sort_values(\"date\")\n",
    "    metrics = (\"total_vaccinations\", \"people_vaccinated\", \"people_fully_vaccinated\")\n",
    "    for metric in metrics:\n",
    "        while not df[metric].ffill().fillna(0).is_monotonic:\n",
    "            diff = (df[metric].ffill().shift(-1) - df[metric].ffill())\n",
    "            df = df[(diff >= 0) | (diff.isna())]\n",
    "    return df\n",
    "\n",
    "source_url = 'https://raw.githubusercontent.com/dssg-pt/covid19pt-data/master/vacinas.csv'\n",
    "df = read(source_url=source_url)\n",
    "df = (df\n",
    "        .pipe(rename_columns)\n",
    "        .pipe(format_date)\n",
    "        .pipe(calculate_metrics)\n",
    "        #.pipe(enrich_vaccine_name)\n",
    "        #.pipe(enrich_columns)\n",
    "        .pipe(sanity_checks)\n",
    "        .pipe(make_monotonic)\n",
    "        .sort_values(\"date\")\n",
    ")\n",
    "df\n",
    "# https://github.com/owid/covid-19-data/blob/43901c094631609ee3131f755f619917e6a72943/public/data/vaccinations/country_data/Portugal.csv\n"
   ]
  },
  {
   "cell_type": "code",
   "execution_count": null,
   "metadata": {},
   "outputs": [],
   "source": []
  }
 ]
}