{
 "metadata": {
  "language_info": {
   "codemirror_mode": {
    "name": "ipython",
    "version": 3
   },
   "file_extension": ".py",
   "mimetype": "text/x-python",
   "name": "python",
   "nbconvert_exporter": "python",
   "pygments_lexer": "ipython3",
   "version": "3.8.2"
  },
  "orig_nbformat": 2,
  "kernelspec": {
   "name": "python3",
   "display_name": "Python 3.8.2 64-bit"
  },
  "metadata": {
   "interpreter": {
    "hash": "31f2aee4e71d21fbe5cf8b01ff0e069b9275f58929596ceb00d14d90e3e16cd6"
   }
  },
  "interpreter": {
   "hash": "31f2aee4e71d21fbe5cf8b01ff0e069b9275f58929596ceb00d14d90e3e16cd6"
  }
 },
 "nbformat": 4,
 "nbformat_minor": 2,
 "cells": [
  {
   "cell_type": "code",
   "execution_count": null,
   "metadata": {},
   "outputs": [],
   "source": [
    "from pathlib import Path\n",
    "import datetime\n",
    "import numpy as np\n",
    "import pandas as pd\n",
    "import matplotlib.pyplot as plt\n",
    "%matplotlib inline\n",
    "plt.style.use('dark_background')\n"
   ]
  },
  {
   "cell_type": "code",
   "execution_count": null,
   "metadata": {},
   "outputs": [],
   "source": [
    "data_vacinas = pd.read_csv(Path.cwd() / '..' / '..' /'vacinas.csv')\n",
    "data_vacinas_detalhes = pd.read_csv(Path.cwd() / '..' / '..' /'vacinas_detalhe.csv')\n"
   ]
  },
  {
   "cell_type": "code",
   "execution_count": null,
   "metadata": {},
   "outputs": [],
   "source": [
    "# \",\".join(data_vacinas_detalhes.columns)\n"
   ]
  },
  {
   "cell_type": "code",
   "execution_count": null,
   "metadata": {},
   "outputs": [],
   "source": [
    "df_vacinas = data_vacinas.copy()\n",
    "df_vacinas.drop( [x for x in df_vacinas.columns if '_novas' in x or 'pessoas' in x], axis=1, inplace=True)\n",
    "#df_vacinas.columns\n",
    "\n",
    "df_vacinas_detalhes = data_vacinas_detalhes.copy()\n",
    "df_vacinas_detalhes.drop( [x for x in df_vacinas_detalhes.columns if '_novas' in x or 'pessoas' in x], axis=1, inplace=True)\n",
    "#df_vacinas_detalhes.columns\n",
    "\n",
    "#df = df_vacinas_detalhes.merge(df_vacinas, how='left', on='data', suffixes=(\"_semanal\", \"_diario\"))\n",
    "df = df_vacinas.merge(df_vacinas_detalhes, how='left', on='data', suffixes=(\"_diario\", \"_semanal\"))\n",
    "df.ffill(inplace=True)\n",
    "#\",\".join(df.columns)\n",
    "\n",
    "for i in ['', '1', '2']:\n",
    "    df[f'doses{i}_diff'] = df[f'doses{i}_continente'] - df[f'doses{i}_diario']\n",
    "cols = [\"data\"] + [ f'doses{i}_{j}' for i in ['', '1', '2'] for j in ['diff', 'continente', 'diario', 'semanal']]\n",
    "\n",
    "df[cols].tail(10)\n"
   ]
  },
  {
   "cell_type": "code",
   "execution_count": null,
   "metadata": {},
   "outputs": [],
   "source": [
    "# \",\".join(list(df.columns))\n"
   ]
  },
  {
   "cell_type": "code",
   "execution_count": null,
   "metadata": {},
   "outputs": [],
   "source": [
    "# idades\n",
    "df[ [col for col in df.columns if 'perc' in col][18:] ].tail(10)\n"
   ]
  },
  {
   "cell_type": "code",
   "execution_count": null,
   "metadata": {},
   "outputs": [],
   "source": [
    "# ars\n",
    "df[ [col for col in df.columns if 'perc' in col][:18] ].tail(10)\n"
   ]
  },
  {
   "cell_type": "code",
   "execution_count": null,
   "metadata": {},
   "outputs": [],
   "source": [
    "# ars\n",
    "dfl = df[ [col for col in df.columns if 'perc' in col][:18] ][-1:]\n",
    "\n",
    "doses1, doses2 = float(dfl['doses1_perc']), float(dfl['doses2_perc'])\n",
    "for region in ['arsnorte', 'arscentro', 'arslvt', 'arsalentejo', 'arsalgarve', 'madeira', 'açores']:\n",
    "    d1, d2 = float(dfl[f'doses1_perc_{region}']), float(dfl[f'doses2_perc_{region}'])\n",
    "    print(f\"region={region} vacinados: {round( (d2-doses2)*100, 1)}% 1ª dose: {round((d1-doses1)*100, 1)}% \")\n",
    "\n"
   ]
  },
  {
   "cell_type": "code",
   "execution_count": null,
   "metadata": {},
   "outputs": [],
   "source": []
  }
 ]
}