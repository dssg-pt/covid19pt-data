{
 "metadata": {
  "language_info": {
   "codemirror_mode": {
    "name": "ipython",
    "version": 3
   },
   "file_extension": ".py",
   "mimetype": "text/x-python",
   "name": "python",
   "nbconvert_exporter": "python",
   "pygments_lexer": "ipython3",
   "version": "3.8.9"
  },
  "orig_nbformat": 2,
  "kernelspec": {
   "name": "python3",
   "display_name": "Python 3.8.9 64-bit"
  },
  "metadata": {
   "interpreter": {
    "hash": "31f2aee4e71d21fbe5cf8b01ff0e069b9275f58929596ceb00d14d90e3e16cd6"
   }
  },
  "interpreter": {
   "hash": "31f2aee4e71d21fbe5cf8b01ff0e069b9275f58929596ceb00d14d90e3e16cd6"
  }
 },
 "nbformat": 4,
 "nbformat_minor": 2,
 "cells": [
  {
   "cell_type": "code",
   "execution_count": null,
   "source": [
    "from pathlib import Path\n",
    "import datetime\n",
    "import numpy as np\n",
    "import pandas as pd\n",
    "import matplotlib.pyplot as plt\n",
    "%matplotlib inline\n",
    "plt.style.use('dark_background')\n"
   ],
   "outputs": [],
   "metadata": {}
  },
  {
   "cell_type": "code",
   "execution_count": null,
   "source": [
    "SAVE_IMAGES = True\n",
    "\n",
    "def plot(axes, title=None, file=None, ylim=None, pppp=plt, xticks=None):\n",
    "    if title: axes.set_title(title)\n",
    "    axes.legend(loc=\"upper left\")\n",
    "    axes.set_xlim(None, None)\n",
    "    axes.autoscale()\n",
    "    pppp.tight_layout()\n",
    "    if ylim: \n",
    "        if type(ylim) == int: pppp.ylim(ylim)\n",
    "        else: pppp.ylim(ylim[0], ylim[1])\n",
    "    else: pppp.ylim(0)\n",
    "    # print(f\"ylim={ylim} type={type(ylim)} int={type(ylim)==int}\")\n",
    "    if xticks: pppp.xticks(xticks, rotation=90)\n",
    "    if SAVE_IMAGES and file: pppp.savefig(file)\n",
    "    return pppp\n"
   ],
   "outputs": [],
   "metadata": {}
  },
  {
   "cell_type": "code",
   "execution_count": null,
   "source": [
    "data_vacinas = pd.read_csv(Path.cwd() / '..' / '..' /'vacinas.csv')\n",
    "data_vacinas_detalhes = pd.read_csv(Path.cwd() / '..' / '..' /'vacinas_detalhe.csv')\n"
   ],
   "outputs": [],
   "metadata": {}
  },
  {
   "cell_type": "code",
   "execution_count": null,
   "source": [
    "pop_cols = [col for col in data_vacinas_detalhes.columns if 'populacao1' in col]\n",
    "data_vacinas_detalhes[pop_cols].max().transpose()\n"
   ],
   "outputs": [],
   "metadata": {}
  },
  {
   "cell_type": "code",
   "execution_count": null,
   "source": [
    "df = pd.merge(data_vacinas, data_vacinas_detalhes, how='right', on='data', suffixes=(\"_diario\", \"_semanal\"))\n",
    "df['data'] = df['data'].apply(lambda x: f\"{x[6:]}-{x[3:5]}-{x[0:2]}\")\n",
    "df.set_index(\"data\", inplace=True)\n",
    "\n",
    "for k in ['', '1', '2']:\n",
    "    df[f'doses{k}_diff'] = df[f'doses{k}_diario'] - df[f'doses{k}_continente']\n",
    "    #df[f'doses{k}_diff'] = df[f'doses{k}_diario'] - df[f'doses{k}_semanal']\n",
    "df['doses12_diff'] = df['doses1_diff'] + df['doses2_diff']\n",
    "df[ [c for c in df.columns if '_diff' in c] ]\n"
   ],
   "outputs": [],
   "metadata": {}
  },
  {
   "cell_type": "code",
   "execution_count": null,
   "source": [
    "df = pd.merge(data_vacinas, data_vacinas_detalhes, how='left', on='data', suffixes=(\"_diario\", \"_semanal\"))\n",
    "df.ffill(inplace=True)\n",
    "df['data'] = df['data'].apply(lambda x: f\"{x[6:]}-{x[3:5]}-{x[0:2]}\")\n",
    "df.set_index(\"data\", inplace=True)\n"
   ],
   "outputs": [],
   "metadata": {}
  },
  {
   "cell_type": "code",
   "execution_count": null,
   "source": [
    "(df['doses_diario'] - df['doses_continente']).tail(30)\n"
   ],
   "outputs": [],
   "metadata": {}
  },
  {
   "cell_type": "code",
   "execution_count": null,
   "source": [
    "# FOO"
   ],
   "outputs": [],
   "metadata": {}
  },
  {
   "cell_type": "code",
   "execution_count": null,
   "source": [
    "# \",\".join(data_vacinas_detalhes.columns)\n"
   ],
   "outputs": [],
   "metadata": {}
  },
  {
   "cell_type": "code",
   "execution_count": null,
   "source": [
    "# negativos\n",
    "\n",
    "# parcialmente_novas é normal ser negativo - basta haver mais doses2 que doses1\n",
    "df.drop(\"pessoas_vacinadas_parcialmente_novas\", axis=1, inplace=True)\n",
    "\n",
    "# 29-03-2021\tpessoas_vacinadas_completamente_novas -640.0\n",
    "#df[ (df < 0).any(axis=1) ]\n",
    "df[ (df.index >= \"2021-03-20\") & (df.index <= \"2021-03-30\") ][ [col for col in df.columns if not('perc' in col or 'popu' in col) and ('diario' in col or 'continente' in col or col in ['doses1_semanal', 'doses1_novas_semanal', 'doses2_semanal', 'doses2_novas_semanal'] )]]\n"
   ],
   "outputs": [],
   "metadata": {}
  },
  {
   "cell_type": "code",
   "execution_count": null,
   "source": [],
   "outputs": [],
   "metadata": {}
  },
  {
   "cell_type": "code",
   "execution_count": null,
   "source": [
    "data_vacinas_detalhes[ [col for col in data_vacinas_detalhes.columns if 'novas' not in col and 'desconhecido' not in col and 'unk' not in col] ].tail(3)\n"
   ],
   "outputs": [],
   "metadata": {}
  },
  {
   "cell_type": "code",
   "execution_count": null,
   "source": [
    "df_vacinas = data_vacinas.copy()\n",
    "df_vacinas.drop( [x for x in df_vacinas.columns if '_novas' in x or 'pessoas' in x], axis=1, inplace=True)\n",
    "#df_vacinas.columns\n",
    "\n",
    "df_vacinas_detalhes = data_vacinas_detalhes.copy()\n",
    "df_vacinas_detalhes.drop( [x for x in df_vacinas_detalhes.columns if '_novas' in x or 'pessoas' in x], axis=1, inplace=True)\n",
    "#df_vacinas_detalhes.columns\n",
    "\n",
    "#df = df_vacinas_detalhes.merge(df_vacinas, how='left', on='data', suffixes=(\"_semanal\", \"_diario\"))\n",
    "df = df_vacinas.merge(df_vacinas_detalhes, how='left', on='data', suffixes=(\"_diario\", \"_semanal\"))\n",
    "df.ffill(inplace=True)\n",
    "#\",\".join(df.columns)\n",
    "\n",
    "for i in ['', '1', '2']:\n",
    "    df[f'doses{i}_diff'] = df[f'doses{i}_continente'] - df[f'doses{i}_diario']\n",
    "cols = [\"data\"] + [ f'doses{i}_{j}' for i in ['', '1', '2'] for j in ['diff', 'continente', 'diario', 'semanal']]\n",
    "\n",
    "df[cols].tail(10)\n",
    "#df[df.data == '28-03-2021']\n"
   ],
   "outputs": [],
   "metadata": {}
  },
  {
   "cell_type": "code",
   "execution_count": null,
   "source": [
    "df = df_vacinas_detalhes.merge(df_vacinas, how='left', on='data', suffixes=(\"_semanal\", \"_diario\"))\n",
    "\n",
    "for i in ['', '1', '2']:\n",
    "    df[f'doses{i}_diff'] = df[f'doses{i}_continente'] - df[f'doses{i}_diario']\n",
    "cols = [\"data\"] + [ f'doses{i}_{j}' for i in ['', '1', '2'] for j in ['diff', 'continente', 'diario', 'semanal']]\n",
    "\n",
    "df[cols].tail(10)\n",
    "\n"
   ],
   "outputs": [],
   "metadata": {}
  },
  {
   "cell_type": "code",
   "execution_count": null,
   "source": [
    "df = df_vacinas_detalhes.merge(df_vacinas, how='left', on='data', suffixes=(\"_semanal\", \"_diario\"))\n",
    "for k in ['','1','2']:\n",
    "    df[f'doses{k}_diff'] = df[f'doses{k}_continente'] - df[f'doses{k}_diario']\n",
    "    df[f'doses{k}_diff_novas'] = df[f'doses{k}_diff'].diff(1)\n",
    "df = df[17:] # 03-05-2021\n",
    "#df[['data', 'doses_diff', 'doses_diff_novas', 'doses2_diff', 'doses2_diff_novas', 'doses1_diff', 'doses1_diff_novas']]\n",
    "\n",
    "df[['data', 'doses_diff_novas']]"
   ],
   "outputs": [],
   "metadata": {}
  },
  {
   "cell_type": "code",
   "execution_count": null,
   "source": [
    "df = df_vacinas_detalhes.copy()\n",
    "for i in [1,2]: \n",
    "    df[f'doses{i}_diff'] = df[f'doses{i}'] - df[f'doses{i}_continente']\n",
    "    df[f'doses{i}_diff_novas'] = df[f'doses{i}_diff'].diff(1)\n",
    "\n",
    "df = df[1:]\n",
    "df[[\n",
    "    'data',\n",
    "    'doses2_diff', 'doses2_diff_novas', 'doses2_madeira', 'doses2_açores',\n",
    "    'doses1_diff', 'doses1_diff_novas', 'doses1_madeira', 'doses1_açores',\n",
    "    ]]\n",
    "\n"
   ],
   "outputs": [],
   "metadata": {}
  },
  {
   "cell_type": "code",
   "execution_count": null,
   "source": [
    "# \",\".join(list(df.columns))\n"
   ],
   "outputs": [],
   "metadata": {}
  },
  {
   "cell_type": "code",
   "execution_count": null,
   "source": [
    "# idades\n",
    "df[ [col for col in df.columns if 'perc' in col][18:] ].tail(10)\n"
   ],
   "outputs": [],
   "metadata": {}
  },
  {
   "cell_type": "code",
   "execution_count": null,
   "source": [
    "# ars\n",
    "df[ [col for col in df.columns if 'perc' in col][:18] ].tail(10)\n"
   ],
   "outputs": [],
   "metadata": {}
  },
  {
   "cell_type": "code",
   "execution_count": null,
   "source": [
    "# ars\n",
    "dfl = df[ [col for col in df.columns if 'perc' in col][:18] ][-1:]\n",
    "\n",
    "doses1, doses2 = float(dfl['doses1_perc']), float(dfl['doses2_perc'])\n",
    "for region in ['arsnorte', 'arscentro', 'arslvt', 'arsalentejo', 'arsalgarve', 'madeira', 'açores']:\n",
    "    d1, d2 = float(dfl[f'doses1_perc_{region}']), float(dfl[f'doses2_perc_{region}'])\n",
    "    print(f\"region={region} vacinados: {round( (d2-doses2)*100, 1)}% 1ª dose: {round((d1-doses1)*100, 1)}% \")\n",
    "\n"
   ],
   "outputs": [],
   "metadata": {}
  },
  {
   "cell_type": "code",
   "execution_count": null,
   "source": [
    "\n",
    "df = data_vacinas[ [col for col in data_vacinas.columns if 'novas' not in col] ].copy()\n",
    "df[ df['doses'] < df['pessoas_vacinadas_parcialmente'] ]\n",
    "\n",
    "\n"
   ],
   "outputs": [],
   "metadata": {}
  },
  {
   "cell_type": "code",
   "execution_count": null,
   "source": [
    "df_vacinas_detalhes[ df_vacinas_detalhes['data'] == '11-01-2021' ][ ['data', 'doses1_madeira', 'doses2_madeira', 'doses1_açores', 'doses2_açores', 'doses1', 'doses2', 'doses1_continente', 'doses2_continente']]\n"
   ],
   "outputs": [],
   "metadata": {}
  },
  {
   "cell_type": "code",
   "execution_count": null,
   "source": [
    "print(83682.0 - 75581  + 75280.0)\n"
   ],
   "outputs": [],
   "metadata": {}
  },
  {
   "cell_type": "code",
   "execution_count": null,
   "source": [
    "df_vacinas = data_vacinas.copy()\n",
    "df_vacinas.drop( [x for x in df_vacinas.columns if '_novas' in x ], axis=1, inplace=True)\n",
    "\n",
    "df_vacinas['foo'] = df_vacinas['doses'] - df_vacinas['doses1'] - df_vacinas['doses2']\n",
    "df_vacinas['bar'] = df_vacinas['pessoas_vacinadas_completamente'] + df_vacinas['pessoas_vacinadas_parcialmente'] + df_vacinas['pessoas_vacinadas_parcialmente']\n",
    "df_vacinas[df_vacinas['foo'] != 0]\n"
   ],
   "outputs": [],
   "metadata": {}
  },
  {
   "cell_type": "code",
   "execution_count": null,
   "source": [
    "df_vacinas_detalhes"
   ],
   "outputs": [],
   "metadata": {}
  },
  {
   "cell_type": "code",
   "execution_count": null,
   "source": [
    "data_vacinas2 = pd.read_csv(Path.cwd() / '..' / '..' /'vacinas.csv', parse_dates=['data'], index_col='data', dayfirst=True)\n",
    "data_vacinas_detalhe2 = pd.read_csv(Path.cwd() / '..' / '..' /'vacinas_detalhe.csv', parse_dates=['data'], index_col='data', dayfirst=True)\n",
    "df_vacinas_detalhes2 = data_vacinas_detalhe2\n",
    "\n",
    "dfr = df_vacinas_detalhes2.recebidas.diff(1)\n",
    "\n",
    "#axes = dfr.plot(figsize=(15,5))\n",
    "fig, axes = plt.subplots(figsize=(15,5))\n",
    "axes.plot(dfr, label=\"recebidas\")\n",
    "\n",
    "\n",
    "axes.legend(loc=\"upper left\")\n",
    "plt.xticks(list(reversed(list(reversed(list(set(list(dfr.index))))))), rotation=90)\n",
    "plt.tight_layout()\n",
    "#if SAVE_IMAGES: plt.savefig(f\"../../temp/vacinas_ecdc_previsao_accumulado.png\")\n",
    "plt.show()\n"
   ],
   "outputs": [],
   "metadata": {}
  },
  {
   "cell_type": "code",
   "execution_count": null,
   "source": [
    "# Pessoas com pelo menos 1 dose\n",
    "\n",
    "POP_IDADE = {\n",
    "    '0_9':     433332 + 461299,  #  0-04 + 05-09\n",
    "    '10_19':   507646 + 549033,  # 10-14 + 15-19\n",
    "    '20_29':   544575 + 547505,  # 20-24 + 25-29\n",
    "    '30_39':   571355 + 679093,  # 30-34 + 35-39\n",
    "    '40_49':   792670 + 782555,  # 40-44 + 45-49\n",
    "    '50_59':   747581 + 734540,  # 50-54 + 55-59\n",
    "    '60_69':   672758 + 620543,  # 60-64 + 65-69\n",
    "    '70_79':   544016 + 429107,  # 70-74 + 75-79\n",
    "    '80_plus': 352218 + 316442,  # 80-84 + 85 ou mais\n",
    "}\n",
    "\n",
    "IDADES = {\n",
    "  # total 10_298_253\n",
    "  # '0_17': 1_701_687 - POP_IDADE['0_9'],\n",
    "  '12_17': 623146,\n",
    "  # adultos 8_596_566\n",
    "  # 70% 6_017_596\n",
    "  '18_24': 781_176,\n",
    "  '25_49': 3_331_562,\n",
    "  '50_64': 2_174_182,\n",
    "  '65_79': 1_628_059,\n",
    "  '80+': 681_591,\n",
    "}\n",
    "\n",
    "def p(save=None):\n",
    "    plt.xticks(list(reversed(list(reversed(list(set(list(dfr.index))))))), rotation=90)\n",
    "    plt.tight_layout()\n",
    "    #plt.ylim(0, 100)\n",
    "    plt.ylim(0)\n",
    "    if SAVE_IMAGES and save: plt.savefig(f\"../../temp/{save}.png\")\n",
    "    plt.show()\n",
    "\n"
   ],
   "outputs": [],
   "metadata": {}
  },
  {
   "cell_type": "code",
   "execution_count": null,
   "source": [
    "#df_vacinas_detalhes2\n",
    "for idade in IDADES:\n",
    "    print( \n",
    "        idade,\n",
    "        df_vacinas_detalhes2[f'populacao1_{idade}'].max(),\n",
    "        int((df_vacinas_detalhes2[f'pessoas_inoculadas_{idade}'] / df_vacinas_detalhes2[f'pessoas_inoculadas_perc_{idade}']).max() ),\n",
    "        df_vacinas_detalhes2[f'pessoas_inoculadas_perc_{idade}'].max(),\n",
    "    )\n",
    "\n"
   ],
   "outputs": [],
   "metadata": {}
  },
  {
   "cell_type": "code",
   "execution_count": null,
   "source": [
    "\n",
    "fig, axes = plt.subplots(figsize=(15,5))\n",
    "plt.title(\"Pessoas vacinação iniciada, semanal\")\n",
    "for idade in ['12_17', '18_24', '25_49', '50_64', '65_79', '80+']:\n",
    "    dfr = df_vacinas_detalhes2[f'pessoas_inoculadas_{idade}'].diff(1)\n",
    "    axes.plot(dfr, label=f\"{idade}\", lw=2, marker='o')\n",
    "    axes.legend(loc=\"upper left\")\n",
    "p(save='vacinas_iniciada_semanal')\n",
    "\n",
    "for idade in ['12_17', '18_24', '25_49', '50_64', '65_79', '80+']:\n",
    "    fig, axes = plt.subplots(figsize=(15,5))\n",
    "    plt.title(f\"Pessoas vacinação iniciada, semanal, idade {idade}\")\n",
    "    dfr = df_vacinas_detalhes2[f'pessoas_inoculadas_{idade}'].diff(1)\n",
    "    axes.plot(dfr, label=f\"{idade}\", lw=2, marker='o')\n",
    "    axes.legend(loc=\"upper left\")\n",
    "    p(save=f'vacinas_iniciada_semanal_{idade}')\n"
   ],
   "outputs": [],
   "metadata": {}
  },
  {
   "cell_type": "code",
   "execution_count": null,
   "source": [
    "\n",
    "fig, axes = plt.subplots(figsize=(15,5))\n",
    "plt.title(\"Pessoas vacinação iniciada, acumulado, percentagem\")\n",
    "for idade in ['12_17', '18_24', '25_49', '50_64', '65_79', '80+']:\n",
    "    #dfr = df_vacinas_detalhes2[f'pessoas_inoculadas_{idade}'] #.diff(1)\n",
    "    dfr = df_vacinas_detalhes2[f'pessoas_inoculadas_perc_{idade}'] * 100\n",
    "    axes.plot(dfr, label=f\"{idade}\", lw=2, marker='o')\n",
    "    axes.legend(loc=\"upper left\")\n",
    "    plt.axhline(y=100, ls=\"--\", alpha=0.75)\n",
    "plt.ylim(0, 100*1.05)\n",
    "p(save='vacinas_iniciada_acumulado_percentagem')\n",
    "\n",
    "for idade in ['12_17', '18_24', '25_49', '50_64', '65_79', '80+']:\n",
    "    fig, axes = plt.subplots(figsize=(15,5))\n",
    "    plt.title(f\"Pessoas vacinação iniciada, acumulado, percentagem, idade {idade}\")\n",
    "    #dfr = df_vacinas_detalhes2[f'pessoas_inoculadas_{idade}'] #.diff(1)\n",
    "    dfr = df_vacinas_detalhes2[f'pessoas_inoculadas_perc_{idade}'] * 100\n",
    "    axes.plot(dfr, label=f\"{idade}\", lw=2, marker='o')\n",
    "    axes.legend(loc=\"upper left\")\n",
    "    plt.axhline(y=100, ls=\"--\", alpha=0.75)\n",
    "    plt.ylim(0, 100*1.05)\n",
    "    p(save=f'vacinas_iniciada_acumulado_percentagem_{idade}')\n"
   ],
   "outputs": [],
   "metadata": {}
  },
  {
   "cell_type": "code",
   "execution_count": null,
   "source": [
    "\n",
    "fig, axes = plt.subplots(figsize=(15,5))\n",
    "plt.title(\"Pessoas pelo menos uma dose, acumulado\")\n",
    "for idade in ['12_17', '18_24', '25_49', '50_64', '65_79', '80+']:\n",
    "    dfr = df_vacinas_detalhes2[f'pessoas_inoculadas_{idade}'] #.diff(1)\n",
    "    #dfr = df_vacinas_detalhes2[f'pessoas_inoculadas_{idade}'] * 100 / IDADES[idade]\n",
    "    axes.plot(dfr, label=f\"{idade}\", lw=2, marker='o')\n",
    "    axes.axhline(y=IDADES[idade], alpha=0.5, ls='--', color=plt.gca().lines[-1].get_color() )\n",
    "    axes.legend(loc=\"upper left\")\n",
    "p(save='vacinas_iniciada_acumulado')\n",
    "\n",
    "for idade in ['12_17', '18_24', '25_49', '50_64', '65_79', '80+']:\n",
    "    fig, axes = plt.subplots(figsize=(15,5))\n",
    "    plt.title(f\"Pessoas pelo menos uma dose, acumulado, idade {idade}, população {IDADES[idade]}\")\n",
    "    dfr = df_vacinas_detalhes2[f'pessoas_inoculadas_{idade}'] #.diff(1)\n",
    "    #dfr = df_vacinas_detalhes2[f'pessoas_inoculadas_{idade}'] * 100 / IDADES[idade]\n",
    "    axes.plot(dfr, label=f\"{idade}\", lw=2, marker='o')\n",
    "    axes.axhline(y=IDADES[idade], alpha=0.5, ls='--', color=plt.gca().lines[-1].get_color() )\n",
    "    axes.legend(loc=\"upper left\")\n",
    "    plt.ylim(0, IDADES[idade]*1.05)\n",
    "    p(save=f'vacinas_iniciada_acumulado_{idade}')\n"
   ],
   "outputs": [],
   "metadata": {}
  },
  {
   "cell_type": "code",
   "execution_count": null,
   "source": [],
   "outputs": [],
   "metadata": {}
  },
  {
   "cell_type": "code",
   "execution_count": null,
   "source": [
    "#data_vacinas2 = pd.read_csv(Path.cwd() / '..' / '..' /'vacinas.csv', parse_dates=['data'], index_col='data', dayfirst=True)\n",
    "#data_vacinas_detalhes2 = pd.read_csv(Path.cwd() / '..' / '..' /'vacinas_detalhe.csv', parse_dates=['data'], index_col='data', dayfirst=True)\n",
    "#df_vacinas = data_vacinas2.copy()\n",
    "#df_vacinas_detalhes = data_vacinas_detalhes2.copy()\n",
    "\n",
    "df_vacinas = data_vacinas.copy()\n",
    "df_vacinas_detalhes = data_vacinas_detalhes.copy()\n",
    "\n",
    "df_vacinas.drop( [x for x in df_vacinas.columns if '_novas' in x or 'pessoas' in x], axis=1, inplace=True)\n",
    "df_vacinas_detalhes.drop( [x for x in df_vacinas_detalhes.columns if '_novas' in x or 'pessoas' in x], axis=1, inplace=True)\n",
    "\n",
    "df = df_vacinas.merge(df_vacinas_detalhes, how='left', on='data', suffixes=(\"_diario\", \"_semanal\"))\n",
    "df.data = df.data.apply(lambda x: f\"{x[6:]}-{x[3:5]}-{x[0:2]}\")\n",
    "df.ffill(inplace=True)\n",
    "#\",\".join(df.columns)\n",
    "\n",
    "for i in ['', '1', '2']:\n",
    "    df[f'doses{i}_diff'] = df[f'doses{i}_continente'] - df[f'doses{i}_diario']\n",
    "cols = ['data'] + [ f'doses{i}_{j}' for i in ['', '1', '2'] for j in ['diff', 'continente', 'diario', 'semanal']]\n",
    "\n",
    "df[ (df.data >= '2021-03-21') & (df.data <= '2021-03-29') ][ cols ]\n"
   ],
   "outputs": [],
   "metadata": {}
  },
  {
   "cell_type": "code",
   "execution_count": null,
   "source": [
    "\n",
    "df['doses_diff'] = df['doses_diario'] - df['doses_continente']\n",
    "df['doses_ilhas'] = df['doses_semanal'] - df['doses_continente']\n",
    "\n",
    "df[['data', 'doses_diario', 'doses_continente', 'doses_diff', 'doses_madeira', 'doses_açores', 'doses_semanal', 'doses_ilhas']].tail(10)\n",
    "\n"
   ],
   "outputs": [],
   "metadata": {}
  },
  {
   "cell_type": "code",
   "execution_count": null,
   "source": [
    "ilhas = 209905.0 + 188889.0\n",
    "ilhas = 415064.0\n",
    "diff = -6035.0\n",
    "9284988.0 + diff + ilhas\n"
   ],
   "outputs": [],
   "metadata": {}
  },
  {
   "cell_type": "code",
   "execution_count": null,
   "source": [
    "last = df_vacinas_detalhes[-1:]\n",
    "last[[col for col in last.columns if 'doses' in col and not 'doses1' in col and not 'doses2' in col and not '9' in col and not 'ars' in col]]\n",
    "\n"
   ],
   "outputs": [],
   "metadata": {}
  },
  {
   "cell_type": "code",
   "execution_count": null,
   "source": [
    "print('continente: ', last['doses_continente'])\n",
    "print('soma ars: ', last['doses_arsnorte'] + last['doses_arscentro'] + last['doses_arslvt'] + last['doses_arsalentejo'] + last['doses_arsalgarve'])\n",
    "print('diff continente: ', last['doses'] - last['doses_continente'])\n",
    "print('ilhas: ', last['doses_madeira'] + last['doses_açores'])\n",
    "print('falta: ', (last['doses'] - last['doses_continente']) - (last['doses_madeira'] + last['doses_açores']))\n",
    "\n"
   ],
   "outputs": [],
   "metadata": {}
  },
  {
   "cell_type": "code",
   "execution_count": null,
   "source": [
    "# recebidas em falta 12 e 24\n",
    "for k in ['recebidas', 'distribuidas']:\n",
    "    x = data_vacinas_detalhes[k]\n",
    "    #x = x[x > 0]\n",
    "    #print(list(int(x) for x in list(x)))\n",
    "    print(list(x))\n"
   ],
   "outputs": [],
   "metadata": {}
  },
  {
   "cell_type": "code",
   "execution_count": null,
   "source": [],
   "outputs": [],
   "metadata": {}
  },
  {
   "cell_type": "code",
   "execution_count": null,
   "source": [
    "# primeira dose\n",
    "df['doses1_7'] = df.doses1_diario.diff(7).div(7)\n",
    "df['doses2_7'] = df.doses2_diario.diff(7).div(7)\n",
    "\n",
    "df[['doses1_7', 'doses2_7']].plot(figsize=(15,4))\n"
   ],
   "outputs": [],
   "metadata": {}
  },
  {
   "cell_type": "code",
   "execution_count": null,
   "source": [
    "# quantos faltam vacinar\n",
    "df = data_vacinas_detalhes\n",
    "#print([col for col in df.columns if 'perc' in col])\n",
    "\n",
    "idades_0_9 = 894_631  # 433332 + 461299  #  0-04 + 05-09\n",
    "print(f'idades_0_9={idades_0_9}')\n",
    "idades_10_19 = 1_056_679  # 507646 + 549033  # 10-14 + 15-19\n",
    "print(f'idades_10_19={idades_10_19}')\n",
    "idades_10_11 = int(idades_10_19 / 10 * 2)\n",
    "print(f'idades_10_11={idades_10_11}')\n",
    "idades_0_11 = idades_0_9 + idades_10_11\n",
    "print(f'idades_0_11={idades_0_11}')\n",
    "\n",
    "pop_total=0\n",
    "for i in IDADES:\n",
    "    pop = int(df[f'populacao1_{i}'][-1:])\n",
    "    pop_total += pop\n",
    "print(f\"pop_total={pop_total}\") \n",
    "\n",
    "perc_total=0\n",
    "falta_total=0\n",
    "for i in IDADES:\n",
    "    pop = int(df[f'populacao1_{i}'][-1:])\n",
    "    perc = float(df[f'pessoas_inoculadas_perc_{i}'][-1:])\n",
    "    falta = int(pop * (1 - perc))\n",
    "    falta_total += falta\n",
    "    falta_perc = falta / pop_total\n",
    "    perc_total += falta_perc\n",
    "    print(f'{i} perc={round(perc * 100, 2)}% pop={pop} done={pop-falta} falta={falta} perc={round(falta_perc * 100, 2)}%')\n",
    "print(f\"falta_total={falta_total} perc_total={round(falta_total / pop_total * 100, 2)}\") \n",
    "\n",
    "print(f\"idades_0_11={idades_0_11} perc_total={round(idades_0_11 / pop_total * 100, 2)}\") \n",
    "falta_total -= idades_0_11\n",
    "print(f\"falta_total={falta_total} perc_total={round(falta_total / pop_total * 100, 2)}\") \n",
    "\n",
    "perc_total += 0.768\n",
    "print(f\"perc_total={round(perc_total * 100, 2)}\") \n",
    "\n",
    "print(0.768 + 0.0538)\n",
    "print(0.768 + 0.0538 + 0.035)\n"
   ],
   "outputs": [],
   "metadata": {}
  },
  {
   "cell_type": "code",
   "execution_count": null,
   "source": [],
   "outputs": [],
   "metadata": {}
  }
 ]
}