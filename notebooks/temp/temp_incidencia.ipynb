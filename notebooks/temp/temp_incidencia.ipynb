{
 "metadata": {
  "language_info": {
   "codemirror_mode": {
    "name": "ipython",
    "version": 3
   },
   "file_extension": ".py",
   "mimetype": "text/x-python",
   "name": "python",
   "nbconvert_exporter": "python",
   "pygments_lexer": "ipython3",
   "version": "3.8.9"
  },
  "orig_nbformat": 4,
  "kernelspec": {
   "name": "python3",
   "display_name": "Python 3.8.9 64-bit"
  },
  "interpreter": {
   "hash": "31f2aee4e71d21fbe5cf8b01ff0e069b9275f58929596ceb00d14d90e3e16cd6"
  }
 },
 "nbformat": 4,
 "nbformat_minor": 2,
 "cells": [
  {
   "cell_type": "code",
   "execution_count": null,
   "metadata": {},
   "outputs": [],
   "source": [
    "import datetime\n",
    "import requests\n",
    "import pandas as pd\n",
    "import numpy as np\n",
    "from pathlib import Path\n",
    "\n",
    "import matplotlib.pyplot as plt\n",
    "%matplotlib inline\n",
    "plt.style.use('dark_background')\n"
   ]
  },
  {
   "cell_type": "code",
   "execution_count": null,
   "metadata": {},
   "outputs": [],
   "source": [
    "SAVE_IMAGES = True\n",
    "\n",
    "def plot(axes, title=None, file=None, ylim=None, pppp=plt, xticks=None):\n",
    "    if title: axes.set_title(title)\n",
    "    axes.legend(loc=\"upper left\")\n",
    "    axes.set_xlim(None, None)\n",
    "    axes.autoscale()\n",
    "    pppp.tight_layout()\n",
    "    if ylim: \n",
    "        if type(ylim) == int: pppp.ylim(ylim)\n",
    "        else: pppp.ylim(ylim[0], ylim[1])\n",
    "    # print(f\"ylim={ylim} type={type(ylim)} int={type(ylim)==int}\")\n",
    "    if xticks: pppp.xticks(xticks, rotation=90)\n",
    "    if SAVE_IMAGES and file: pppp.savefig(file)\n",
    "    return pppp\n",
    "\n",
    "def f(valor, plus=False):\n",
    "    if valor is None: return None\n",
    "    valor = valor if type(valor) == int else float(valor)\n",
    "    r = format(valor, \",\").replace(\".\",\"!\").replace(\",\",\".\").replace(\"!\",\",\")\n",
    "    return f\"+{r}\" if plus and valor > 0 else r\n"
   ]
  },
  {
   "cell_type": "code",
   "execution_count": null,
   "metadata": {},
   "outputs": [],
   "source": [
    "# População residente em PT final 2019, via\n",
    "# https://www.ine.pt/xportal/xmain?xpid=INE&xpgid=ine_indicadores&contecto=pi&indOcorrCod=0008273&selTab=tab0\n",
    "# Coerente com a soma da população dos concelhos, vide POP_ARS abaixo\n",
    "POP_PT = 10295909\n",
    "\n",
    "# data_concelhos_new.csv:\n",
    "# df[df.data == '11-11-2020'][[\"ars\", \"population\"]].groupby('ars').sum()\n",
    "POP_ARS = {\n",
    "    'norte':   3568835,  # 3.57M\n",
    "    'centro':  1650394,  # 1.65M\n",
    "    'lvt':     3674534,  # 3.67M\n",
    "    'alentejo': 466690,  # 0.46M\n",
    "    'algarve':  438406,  # 0.44M\n",
    "    'acores':   242796,  # 0.24M\n",
    "    'madeira':  254254,  # 0.25M\n",
    "}\n",
    "POP_IDADE = {\n",
    "    '0_9':     433332 + 461299,  #  0-04 + 05-09\n",
    "    '10_19':   507646 + 549033,  # 10-14 + 15-19\n",
    "    '20_29':   544575 + 547505,  # 20-24 + 25-29\n",
    "    '30_39':   571355 + 679093,  # 30-34 + 35-39\n",
    "    '40_49':   792670 + 782555,  # 40-44 + 45-49\n",
    "    '50_59':   747581 + 734540,  # 50-54 + 55-59\n",
    "    '60_69':   672758 + 620543,  # 60-64 + 65-69\n",
    "    '70_79':   544016 + 429107,  # 70-74 + 75-79\n",
    "    '80_plus': 352218 + 316442,  # 80-84 + 85 ou mais\n",
    "}\n"
   ]
  },
  {
   "cell_type": "code",
   "execution_count": null,
   "metadata": {},
   "outputs": [],
   "source": [
    "# read data and reindex by date, for plots\n",
    "data = pd.read_csv(Path.cwd() / '..' / '..' / 'data.csv', parse_dates=['data'], index_col='data', dayfirst=True)\n",
    "data.tail(1).index\n"
   ]
  },
  {
   "cell_type": "code",
   "execution_count": null,
   "metadata": {},
   "outputs": [],
   "source": [
    "# TEMP\n",
    "df = data.copy()\n",
    "for i in POP_ARS.keys():\n",
    "    ii = i if i in ['acores', 'madeira'] else f'ars{i}'\n",
    "    df[f\"confirmados_{ii}_diff1\"] = df[f\"confirmados_{ii}\"].diff(1)\n",
    "    df[f\"confirmados_{ii}_diff7\"] = df[f\"confirmados_{ii}\"].diff(7).div(7)\n",
    "\n",
    "df[ [col for col in df.columns if '_diff1q' in col or '_diff7' in col]].tail(30).plot(figsize=(15,5), marker='o', )\n",
    "df[ [col for col in df.columns if '_diff1' in col or '_diff7q' in col]].tail(30).plot(figsize=(15,5), marker='o', )\n",
    "plt.show()\n"
   ]
  },
  {
   "cell_type": "code",
   "execution_count": null,
   "metadata": {},
   "outputs": [],
   "source": [
    "df = data.copy()\n",
    "\n",
    "AJUSTE = 1 # 2 # duplica incidencia7 \n",
    "\n",
    "# 14 day accumulated, and per 100k and population\n",
    "for d in [14, 7]:\n",
    "    df[f'confirmados_{d}'] = df.confirmados.diff(d)\n",
    "    df[f'obitos_{d}'] = df.obitos.diff(d)\n",
    "df['incidencia'] = df.confirmados_14 * 100_000 / POP_PT\n",
    "df['incidencia_7'] = df.confirmados_7 * 100_000 / POP_PT * AJUSTE\n",
    "df['acc_obitos'] = df.obitos_14 * 100_000 / POP_PT\n",
    "df['acc_obitos_7'] = df.obitos_7 * 100_000 / POP_PT * AJUSTE\n",
    "\n",
    "for i in POP_ARS.keys():\n",
    "    # per region, 14 day accumulated, and per 100k and population\n",
    "    ii = i if i in ['acores', 'madeira'] else f'ars{i}'\n",
    "    for d in [14, 7]:\n",
    "        df[f'confirmados_{i}_{d}'] = df[f'confirmados_{ii}'].diff(d)\n",
    "        df[f'obitos_{i}_{d}'] = df[f'obitos_{ii}'].diff(d)\n",
    "    df[f'incidencia_{i}'] = df[f'confirmados_{i}_14'] * 100_000 / POP_ARS[i]\n",
    "    df[f'incidencia_{i}_7'] = df[f'confirmados_{i}_7'] * 100_000 / POP_ARS[i] * AJUSTE\n",
    "    df[f'acc_obitos_{i}'] = df[f'obitos_{i}_14'] * 100_000 / POP_ARS[i]\n",
    "    df[f'acc_obitos_{i}_7'] = df[f'obitos_{i}_7'] * 100_000 / POP_ARS[i] * AJUSTE\n",
    "\n",
    "for i in POP_IDADE.keys():\n",
    "    # por idade, 14 day accumulated, and per 100k and population\n",
    "    ii = i\n",
    "    df[f'confirmados_{i}'] = df[f'confirmados_{ii}_m'] + df[f'confirmados_{ii}_f']\n",
    "    df[f'obitos_{i}'] = df[f'obitos_{ii}_m'] + df[f'obitos_{ii}_f']\n",
    "    for d in [14, 7]:\n",
    "        df[f'confirmados_{i}_{d}'] = df[f'confirmados_{ii}'].diff(d)\n",
    "        df[f'obitos_{i}_{d}'] = df[f'obitos_{ii}'].diff(d)\n",
    "    df[f'incidencia_{i}'] = df[f'confirmados_{i}_14'] * 100_000 / POP_IDADE[i]\n",
    "    df[f'incidencia_{i}_7'] = df[f'confirmados_{i}_7'] * 100_000 / POP_IDADE[i] * AJUSTE\n",
    "    df[f'acc_obitos_{i}'] = df[f'obitos_{i}_14'] * 100_000 / POP_IDADE[i]\n",
    "    df[f'acc_obitos_{i}_7'] = df[f'obitos_{i}_7'] * 100_000 / POP_IDADE[i] * AJUSTE\n",
    "\n",
    "# discard first 13 days\n",
    "df = df[ df.confirmados_14.notnull() ]\n",
    "df_incidencia = df\n",
    "\n",
    "#df.tail(2)\n"
   ]
  },
  {
   "cell_type": "code",
   "execution_count": null,
   "metadata": {},
   "outputs": [],
   "source": [
    "# df.iloc[ df['obitos_80_plus_14'].argmax() ][ [col for col in df.columns if 'acc' in col]]\n"
   ]
  },
  {
   "cell_type": "code",
   "execution_count": null,
   "metadata": {},
   "outputs": [],
   "source": [
    "df_incidencia_max = df_incidencia[[col for col in df_incidencia.columns if 'incidencia' in col and not '_7NOT' in col]].max()\n",
    "incidencia_max = df_incidencia_max.max()\n",
    "df_obitos_max = df_incidencia[[col for col in df_incidencia.columns if 'acc_obitos' in col and not '_7NOT' in col]].max()\n",
    "obitos_max = df_obitos_max.max()\n",
    "enfermaria_max = df_incidencia['internados_enfermaria'].max()\n",
    "uci_max = df_incidencia['internados_uci'].max()\n",
    "print(incidencia_max, obitos_max, enfermaria_max, uci_max)\n",
    "#df_incidencia_max, df_obitos_max\n"
   ]
  },
  {
   "cell_type": "code",
   "execution_count": null,
   "metadata": {},
   "outputs": [],
   "source": [
    "def foo(k, n=None, df=df, days=14, obitos=None):\n",
    "    BOOM = incidencia_max\n",
    "    #BOOM = 1000 # 2000\n",
    "    BOOM_K = df[k].max()\n",
    "    fig, axes = plt.subplots(figsize=(15,8), sharex=True)\n",
    "\n",
    "    k = k if days == 14 else f\"{k}_{days}\"\n",
    "    i = 960 * days / 14\n",
    "    axes.fill_between(df.index, 0, df[k], color=\"#592212\", label=f\">{i/1}\")\n",
    "    axes.fill_between(df.index, 0, df[k], where=df[k] < i/1, color=\"#700\", label=f\"{i/2} a <{i/1}\")\n",
    "    axes.fill_between(df.index, 0, df[k], where=df[k] < i/2, color=\"red\", label=f\"{i/4} a <{i/2}\")\n",
    "    axes.fill_between(df.index, 0, df[k], where=df[k] < i/4, color=\"orange\", label=f\"{i/8} a <{i/4}\")\n",
    "    axes.fill_between(df.index, 0, df[k], where=df[k] < i/8, color=\"yellow\", label=f\"{i/16} a <{i/8}\")\n",
    "    axes.fill_between(df.index, 0, df[k], where=df[k] < i/16, color=\"green\", label=f\"<{i/16}\")\n",
    "\n",
    "    axes.axhline(linewidth=2, ls=\"--\", color='#592212', y=i/1)\n",
    "    axes.axhline(linewidth=2, ls=\"--\", color='#700', y=i/2)\n",
    "    axes.axhline(linewidth=2, ls=\"--\", color='red', y=i/4)\n",
    "    axes.axhline(linewidth=2, ls=\"--\", color='orange', y=i/8)\n",
    "    axes.axhline(linewidth=2, ls=\"--\", color='yellow', y=i/16)\n",
    "    #axes.axhline(linewidth=2, ls=\"--\", color='green', y=0)\n",
    "\n",
    "    #axes.set_ylim(0, None)\n",
    "    if obitos:\n",
    "        obitos = obitos if days == 14 else f\"{obitos}_{days}\"\n",
    "        #axR = axes.twinx()\n",
    "        axR = axes\n",
    "        BOOM_OBITOS = df[obitos].max() # obitos_max\n",
    "        axR.plot(df[obitos] * BOOM_K / BOOM_OBITOS * days / 14, lw=4, color=\"#0FF\", label=\"obitos\")\n",
    "        axR.set_ylim(0)\n",
    "        axes.set_ylim(0)\n",
    "        plt.ylim(0)\n",
    "    if n == 'Nacional':\n",
    "        axR = axes\n",
    "        axR.plot(df['internados_enfermaria'] * BOOM_K / enfermaria_max * days / 14, lw=4, color=\"#3F3\", label=\"enfermaria\")\n",
    "        axR.set_ylim(0)\n",
    "        axes.set_ylim(0)\n",
    "        plt.ylim(0)\n",
    "        axR = axes\n",
    "        axR.plot(df['internados_uci'] * BOOM_K / uci_max * days / 14, lw=4, color=\"#F0F\", label=\"uci\")\n",
    "        axR.set_ylim(0)\n",
    "        axes.set_ylim(0)\n",
    "        plt.ylim(0)\n",
    "\n",
    "\n",
    "    prev=-1\n",
    "    last = float(df[k][prev])\n",
    "    while np.isnan(last):\n",
    "        prev -= 1\n",
    "        last = float(df[k][prev])\n",
    "    if obitos:\n",
    "      prev=-1\n",
    "      last_obitos = float(df[obitos][prev])\n",
    "      while np.isnan(last_obitos):\n",
    "          prev -= 1\n",
    "          last_obitos = float(df[obitos][prev])\n",
    "      \n",
    "    axes.axhline(linewidth=2, ls=\"--\", color='white', y=last)\n",
    "\n",
    "    axes.legend()\n",
    "    plt.xticks(list(reversed(list(reversed(list(df.index)))[0::7])), rotation=90)\n",
    "\n",
    "    suffix = \"\" if days == 14 else f\"_{days}\"\n",
    "    more = \"\" if days == 14 else f\" (equivalente a {round(last*2, 1)} para 14 dias)\"\n",
    "    s_obitos = \"\" if not obitos else f\" | Obitos acumulados {f(round(float(last_obitos), 3))}\"\n",
    "    plot(axes, \n",
    "        title=f'{n or k} | {days} dias | Incidência {round(last, 1)}{more}{s_obitos}', \n",
    "        file=f\"../../temp/incidencia_{n or k}{suffix}.png\", ylim=(0, BOOM * days / 14)\n",
    "    ).show()\n"
   ]
  },
  {
   "cell_type": "code",
   "execution_count": null,
   "metadata": {},
   "outputs": [],
   "source": [
    "foo('incidencia', 'Nacional', df_incidencia, obitos='acc_obitos')\n",
    "foo('incidencia', 'Nacional', df_incidencia, days=7, obitos='acc_obitos')\n"
   ]
  },
  {
   "cell_type": "code",
   "execution_count": null,
   "metadata": {},
   "outputs": [],
   "source": [
    "for k in POP_ARS.keys():\n",
    "  foo(f'incidencia_{k}', k, df_incidencia, obitos=f'acc_obitos_{k}')\n",
    "  foo(f'incidencia_{k}', k, df_incidencia, days=7, obitos=f'acc_obitos_{k}')\n",
    "  print()\n"
   ]
  },
  {
   "cell_type": "code",
   "execution_count": null,
   "metadata": {},
   "outputs": [],
   "source": [
    "for k in POP_IDADE.keys():\n",
    "  foo(f'incidencia_{k}', k, df_incidencia, obitos=f'acc_obitos_{k}')\n",
    "  foo(f'incidencia_{k}', k, df_incidencia, days=7, obitos=f'acc_obitos_{k}')\n",
    "  print()\n"
   ]
  },
  {
   "cell_type": "code",
   "execution_count": null,
   "metadata": {},
   "outputs": [],
   "source": [
    "df = df_incidencia\n",
    "for k in POP_ARS.keys():\n",
    "  mask = (df[f'incidencia_{k}'] >= 120)\n",
    "  q = df[mask]\n",
    "  q = q[[f'incidencia_{k}']]\n",
    "  q['region'] = k\n",
    "  print(q.head(1).append(q.tail(1)))\n"
   ]
  },
  {
   "cell_type": "code",
   "execution_count": null,
   "metadata": {},
   "outputs": [],
   "source": []
  }
 ]
}