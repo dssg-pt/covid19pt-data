{
 "metadata": {
  "language_info": {
   "codemirror_mode": {
    "name": "ipython",
    "version": 3
   },
   "file_extension": ".py",
   "mimetype": "text/x-python",
   "name": "python",
   "nbconvert_exporter": "python",
   "pygments_lexer": "ipython3",
   "version": "3.8.2"
  },
  "orig_nbformat": 2,
  "kernelspec": {
   "name": "python3",
   "display_name": "Python 3.8.2 64-bit"
  },
  "metadata": {
   "interpreter": {
    "hash": "31f2aee4e71d21fbe5cf8b01ff0e069b9275f58929596ceb00d14d90e3e16cd6"
   }
  },
  "interpreter": {
   "hash": "31f2aee4e71d21fbe5cf8b01ff0e069b9275f58929596ceb00d14d90e3e16cd6"
  }
 },
 "nbformat": 4,
 "nbformat_minor": 2,
 "cells": [
  {
   "cell_type": "code",
   "execution_count": null,
   "metadata": {},
   "outputs": [],
   "source": [
    "from pathlib import Path\n",
    "import datetime\n",
    "import numpy as np\n",
    "import pandas as pd\n",
    "import matplotlib.pyplot as plt\n",
    "%matplotlib inline\n",
    "plt.style.use('dark_background')\n"
   ]
  },
  {
   "cell_type": "code",
   "execution_count": null,
   "metadata": {},
   "outputs": [],
   "source": [
    "# Dados ECDC\n",
    "# ECDC\n",
    "!curl -s --output '/tmp/ecdc_vacinas.csv' \"https://opendata.ecdc.europa.eu/covid19/vaccine_tracker/csv/data.csv\"\n",
    "data = pd.read_csv('/tmp/ecdc_vacinas.csv') # , parse_dates=['data'], index_col='data', dayfirst=True)\n",
    "data = data.sort_values(['YearWeekISO', 'ReportingCountry'])\n",
    "data['date'] = data['YearWeekISO'].apply(lambda x: datetime.datetime.strptime(f\"{x}-6\", \"%Y-W%W-%w\"))\n",
    "data.loc[ data['YearWeekISO'] == '2020-W52', 'date' ] += datetime.timedelta(days=-7)\n",
    "data.loc[ data['YearWeekISO'] == '2020-W53', 'date' ] += datetime.timedelta(days=-7)\n",
    "data.set_index('date', inplace=True)\n",
    "df = data[ data['ReportingCountry'] == 'PT' ].copy()\n",
    "dft = df[ (df['TargetGroup'] == 'ALL') & (df['Region'] == 'PT') ]\n"
   ]
  },
  {
   "cell_type": "code",
   "execution_count": null,
   "metadata": {},
   "outputs": [],
   "source": [
    "VACINAS_AZ = []\n",
    "for k,v in dft[dft.Vaccine == 'AZ'][['FirstDose']].iterrows():\n",
    "    if True:\n",
    "        vv = int(v)\n",
    "        kk = k.strftime(\"%Y-%m-%d\")\n",
    "        #print(f\"k={kk} v={vv}\")\n",
    "        VACINAS_AZ.append( (kk, -vv,) )\n",
    "        kk = (k + datetime.timedelta(days=84)).strftime(\"%Y-%m-%d\")\n",
    "        #print(f\"k={kk} v={vv}\")\n",
    "        VACINAS_AZ.append( (kk, +vv,) )\n",
    "    elif False:\n",
    "        for d in range(7, 0, -1):\n",
    "            vv = float(round(v/7,1))\n",
    "            kk = (k + datetime.timedelta(days=0 - d)).strftime(\"%Y-%m-%d\")\n",
    "            #print(f\"k={kk} v={vv}\")\n",
    "            VACINAS_AZ.append( (kk, -vv,) )\n",
    "            kk = (k + datetime.timedelta(days=84 - d)).strftime(\"%Y-%m-%d\")\n",
    "            #print(f\"k={kk} v={vv}\")\n",
    "            VACINAS_AZ.append( (kk, +vv,) )\n",
    "#VACINAS_AZ"
   ]
  },
  {
   "cell_type": "code",
   "execution_count": null,
   "metadata": {},
   "outputs": [],
   "source": [
    "# Lê dados diários e vacinas\n",
    "data = pd.read_csv(Path.cwd() / '..' / '..' /'data.csv')\n",
    "data_vacinas = pd.read_csv(Path.cwd() / '..' / '..' /'vacinas.csv')\n",
    "data_vacinas_detalhes = pd.read_csv(Path.cwd() / '..' / '..' /'vacinas_detalhe.csv')\n"
   ]
  },
  {
   "cell_type": "code",
   "execution_count": null,
   "metadata": {},
   "outputs": [],
   "source": []
  },
  {
   "cell_type": "code",
   "execution_count": null,
   "metadata": {},
   "outputs": [],
   "source": [
    "df = data_vacinas.copy()\n",
    "df.set_index('data', inplace=True)\n",
    "#df.columns\n",
    "#df[-30:]['pessoas_vacinadas_completamente'].plot()\n",
    "#df[-30:]['doses'].plot(figsize=(20,5))\n",
    "#df[-30:][ [col for col in df.columns if '_novas' not in col] ].plot(figsize=(20,5))\n",
    "#df[-30:][['doses', 'doses1', 'doses2']].plot(figsize=(20,5))\n",
    "df['doses7'] = df['doses'].diff(7).div(7)\n",
    "df['doses14'] = df['doses'].diff(14).div(14)\n",
    "#df[-60:][['doses7']].plot(figsize=(20,5))\n",
    "#plt.show()\n",
    "#df.tail()\n",
    "df[-60:][['doses7', 'doses14']].tail(10)\n"
   ]
  },
  {
   "cell_type": "code",
   "execution_count": null,
   "metadata": {},
   "outputs": [],
   "source": [
    "data_vacinas.tail(3)\n"
   ]
  },
  {
   "cell_type": "code",
   "execution_count": null,
   "metadata": {},
   "outputs": [],
   "source": [
    "def f(valor, plus=False):\n",
    "    if valor is None: return None\n",
    "    valor = valor if type(valor) == int else float(valor)\n",
    "    r = format(valor, \",\").replace(\".\",\"!\").replace(\",\",\".\").replace(\"!\",\",\")\n",
    "    return f\"+{r}\" if plus and valor > 0 else r\n"
   ]
  },
  {
   "cell_type": "code",
   "execution_count": null,
   "metadata": {},
   "outputs": [],
   "source": [
    "def foo(x):\n",
    "    t = datetime.datetime.strptime(x, '%d-%m-%Y')\n",
    "    if t >= datetime.datetime.strptime('2021-03-01', '%Y-%m-%d'):\n",
    "        return t + datetime.timedelta(days=28)\n",
    "    return t + datetime.timedelta(days=22)\n"
   ]
  },
  {
   "cell_type": "code",
   "execution_count": null,
   "metadata": {},
   "outputs": [],
   "source": [
    "df = data_vacinas.copy()\n",
    "df['day'] = df['data'].apply(foo)\n",
    "df.set_index('day', inplace=True)\n",
    "df['doses1_7'] = df.doses1.diff(7).div(7)\n",
    "df['doses2_7'] = df.doses2.diff(7).div(7)\n",
    "df = df[ df.index >= '2021-01-17' ]\n",
    "df[['doses1_novas', 'doses2_novas', 'doses1_7', 'doses2_7']].plot(figsize=(20,4))\n",
    "plt.xticks(list(reversed(list(reversed(list(df.index)))[0::7])), rotation=90)\n",
    "plt.show()\n"
   ]
  },
  {
   "cell_type": "code",
   "execution_count": null,
   "metadata": {},
   "outputs": [],
   "source": [
    "# Percentagem vacinados daqui a 21/28 dias quando doses2 seguir a curva de doses1\n",
    "df = data_vacinas.copy()[['data', 'doses1']]\n",
    "df['day'] = df['data'].apply(lambda x: datetime.datetime.strptime(x, '%d-%m-%Y'))\n",
    "df.set_index('day', inplace=True)\n",
    "for i in VACINAS_AZ:\n",
    "    df.loc[df.index >= i[0], 'doses1'] += i[1]\n",
    "\n",
    "\n",
    "doses = 486149.0 # df[df.index == '2021-02-28'].doses1[-1]\n",
    "df['day'] = df['data'].apply(foo)\n",
    "for i in range(1,7):\n",
    "    row = pd.DataFrame([[ '', doses, datetime.datetime.strptime('2021-03-22', '%Y-%m-%d') + datetime.timedelta(days=i) ]], columns=['data', 'doses1', 'day'])\n",
    "    df = df.append(row)\n",
    "df = df.sort_values('day')\n",
    "df.set_index('day', inplace=True)\n",
    "\n",
    "df['previsao'] = df.doses1\n",
    "df['previsao_novas'] = df.previsao.diff(1)\n",
    "df['previsao_7'] = df.previsao.diff(7).div(7)\n",
    "df_previsao = df\n",
    "\n",
    "\n",
    "df = data_vacinas.copy()\n",
    "df['day'] = df['data'].apply(lambda x: datetime.datetime.strptime(x, '%d-%m-%Y'))\n",
    "df.set_index('day', inplace=True)\n",
    "\n",
    "df['doses2_7'] = df.doses2.diff(7).div(7)\n",
    "df = df[ df.index >= '2021-01-17' ]\n",
    "df_doses2 = df\n",
    "\n",
    "# --- \n",
    "\n",
    "fig, axes = plt.subplots(figsize=(15,5))\n",
    "\n",
    "axes.plot(df_previsao.previsao_7, label=\"Previsão (média 7d)\", lw=3) #, color=\"#3a3\")\n",
    "axes.plot(df_doses2.doses2_7, label=\"Vacinados (média 7d)\", lw=4) #, color=\"orange\")\n",
    "\n",
    "axes.plot(df_previsao.previsao_novas, label=\"Previsão\", marker='s', alpha=0.5, markersize=4) #, ls='--', color=\"#3a3\")\n",
    "axes.plot(df_doses2.doses2_novas, label=\"Vacinados\", marker='s', alpha=0.5, markersize=4) #, ls='--', color=\"orange\")\n",
    "\n",
    "axes.axvline(linewidth=2, ls=\"--\", color='white', alpha=0.75, x=datetime.datetime.today())\n",
    "\n",
    "dia = data_vacinas[-1:]['data'].values[0]\n",
    "axes.set_title(f\"Previsão Vacinados por dia ({dia})\")\n",
    "axes.legend()\n",
    "plt.ylim(0) # ignore negative dailies\n",
    "plt.xticks(list(reversed(list(reversed(list(df_previsao.index)))[0::7])), rotation=90)\n",
    "plt.show()\n"
   ]
  },
  {
   "cell_type": "code",
   "execution_count": null,
   "metadata": {},
   "outputs": [],
   "source": [
    "df_previsao['previsao_sum'] = df_previsao['previsao_novas'].cumsum()\n",
    "df_doses2['doses2_sum'] = df_doses2['doses2_novas'].cumsum()\n"
   ]
  },
  {
   "cell_type": "code",
   "execution_count": null,
   "metadata": {},
   "outputs": [],
   "source": [
    "df = df_doses2.copy()\n",
    "df.drop(['doses1', 'doses1_novas'], axis=1, inplace=True)\n",
    "df2 = df_previsao.copy()\n",
    "#df2.drop(['doses1', 'doses1_novas'], axis=1, inplace=True)\n",
    "\n",
    "df3 = df2.merge(right=df, how='outer', left_index=True, right_index=True)\n",
    "df3 = df3[ df3['previsao'] > 0 ]\n",
    "\n",
    "df3.tail(30).head(4)\n"
   ]
  },
  {
   "cell_type": "code",
   "execution_count": null,
   "metadata": {},
   "outputs": [],
   "source": [
    "fig, axes = plt.subplots(figsize=(15,5))\n",
    "\n",
    "axes.plot(df3.previsao, label=\"Previsão\", lw=2)\n",
    "axes.plot(df3.doses2, label=\"Vacinados\", lw=4)\n",
    "axes.legend()\n",
    "\n",
    "ymax = df3.previsao.max()\n",
    "#print(ymax)\n",
    "import math\n",
    "millions = math.ceil(ymax / 1_000_000.0)\n",
    "for i in range(1, millions):\n",
    "    axes.axhline(linewidth=2, ls=\"--\", color='white', alpha=0.75, y=i*1_000_000)\n",
    "\n",
    "axes.axvline(linewidth=2, ls=\"--\", color='white', alpha=0.75, x=datetime.datetime.today())\n",
    "dia = data_vacinas[-1:]['data'].values[0]\n",
    "axes.set_title(f\"Previsão Vacinados acumulado ({dia})\")\n",
    "plt.xticks(list(reversed(list(reversed(list(df_previsao.index)))[0::7])), rotation=90)\n",
    "plt.ylim(0)\n",
    "plt.show()\n"
   ]
  },
  {
   "cell_type": "code",
   "execution_count": null,
   "metadata": {},
   "outputs": [],
   "source": [
    "fig, axes = plt.subplots(figsize=(15,5))\n",
    "axes.plot(df3.previsao_sum, label=\"Previsão\", lw=2)\n",
    "axes.plot(df3.doses2_sum, label=\"Vacinados\", lw=4)\n",
    "#axes.plot(df_previsao.previsao_sum, label=\"Previsão\", lw=2)\n",
    "#axes.plot(df_doses2.doses2_sum, label=\"Vacinados\", lw=4)\n",
    "axes.legend()\n",
    "\n",
    "ymax = df3.previsao_sum.max()\n",
    "#print(ymax)\n",
    "import math\n",
    "millions = math.ceil(ymax / 1_000_000.0)\n",
    "for i in range(1, millions):\n",
    "    axes.axhline(linewidth=2, ls=\"--\", color='white', alpha=0.75, y=i*1_000_000)\n",
    "\n",
    "axes.axvline(linewidth=2, ls=\"--\", color='white', alpha=0.75, x=datetime.datetime.today())\n",
    "dia = data_vacinas[-1:]['data'].values[0]\n",
    "axes.set_title(f\"Previsão Vacinados acumulado ({dia})\")\n",
    "plt.ylim(0)\n",
    "plt.show()\n"
   ]
  },
  {
   "cell_type": "code",
   "execution_count": null,
   "metadata": {},
   "outputs": [],
   "source": [
    "# detalhe\n",
    "\n",
    "#print(list(data_vacinas_detalhes.tail(1).columns))\n"
   ]
  },
  {
   "cell_type": "code",
   "execution_count": null,
   "metadata": {},
   "outputs": [],
   "source": [
    "df['vacinas14'] = df['vacinas'].diff(14).div(14).div(10196709 / 100)\n",
    "df['vacinas7'] = df['vacinas'].diff(7).div(7).div(10196709 / 100)\n",
    "df['vacinas1'] = df['vacinas'].diff(1).div(1).div(10196709 / 100)\n",
    "\n",
    "#df[-60:][['vacinas7','vacinas1','vacinas14']].plot(figsize=(15,5))\n",
    "#df[['vacinas7','vacinas1','vacinas14']].plot(figsize=(15,5))\n",
    "df[-90:][['vacinas7','vacinas1','vacinas14']].plot(figsize=(15,5))\n",
    "plt.ylim(0)\n",
    "plt.show()\n"
   ]
  },
  {
   "cell_type": "code",
   "execution_count": null,
   "metadata": {},
   "outputs": [],
   "source": [
    "df['vacinas7']\n"
   ]
  },
  {
   "cell_type": "code",
   "execution_count": null,
   "metadata": {},
   "outputs": [],
   "source": [
    "df['doses'].diff(1).tail(10)\n"
   ]
  },
  {
   "cell_type": "code",
   "execution_count": null,
   "metadata": {},
   "outputs": [],
   "source": []
  },
  {
   "cell_type": "code",
   "execution_count": null,
   "metadata": {},
   "outputs": [],
   "source": []
  }
 ]
}