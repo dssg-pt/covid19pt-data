{
 "metadata": {
  "language_info": {
   "codemirror_mode": {
    "name": "ipython",
    "version": 3
   },
   "file_extension": ".py",
   "mimetype": "text/x-python",
   "name": "python",
   "nbconvert_exporter": "python",
   "pygments_lexer": "ipython3",
   "version": "3.8.2"
  },
  "orig_nbformat": 4,
  "kernelspec": {
   "name": "python3",
   "display_name": "Python 3.8.2 64-bit"
  },
  "interpreter": {
   "hash": "31f2aee4e71d21fbe5cf8b01ff0e069b9275f58929596ceb00d14d90e3e16cd6"
  }
 },
 "nbformat": 4,
 "nbformat_minor": 2,
 "cells": [
  {
   "cell_type": "code",
   "execution_count": null,
   "metadata": {},
   "outputs": [],
   "source": [
    "import datetime\n",
    "import requests\n",
    "import pandas as pd\n",
    "import numpy as np\n",
    "from pathlib import Path\n",
    "\n",
    "import matplotlib.pyplot as plt\n",
    "%matplotlib inline\n",
    "plt.style.use('dark_background')\n"
   ]
  },
  {
   "cell_type": "code",
   "execution_count": null,
   "metadata": {},
   "outputs": [],
   "source": [
    "SAVE_IMAGES = True\n",
    "\n",
    "def plot(axes, title=None, file=None, ylim=None, pppp=plt, xticks=None):\n",
    "    if title: axes.set_title(title)\n",
    "    axes.legend(loc=\"upper left\")\n",
    "    axes.set_xlim(None, None)\n",
    "    axes.autoscale()\n",
    "    pppp.tight_layout()\n",
    "    if ylim: \n",
    "        if type(ylim) == int: pppp.ylim(ylim)\n",
    "        else: pppp.ylim(ylim[0], ylim[1])\n",
    "    # print(f\"ylim={ylim} type={type(ylim)} int={type(ylim)==int}\")\n",
    "    if xticks: pppp.xticks(xticks, rotation=90)\n",
    "    if SAVE_IMAGES and file: pppp.savefig(file)\n",
    "    return pppp\n",
    "\n",
    "def f(valor, plus=False):\n",
    "    if valor is None: return None\n",
    "    valor = valor if type(valor) == int else float(valor)\n",
    "    r = format(valor, \",\").replace(\".\",\"!\").replace(\",\",\".\").replace(\"!\",\",\")\n",
    "    return f\"+{r}\" if plus and valor > 0 else r\n"
   ]
  },
  {
   "cell_type": "code",
   "execution_count": null,
   "metadata": {},
   "outputs": [],
   "source": [
    "# read data and reindex by date, for plots\n",
    "data = pd.read_csv(Path.cwd() / '..' / '..' / 'data.csv', parse_dates=['data'], index_col='data', dayfirst=True)\n",
    "data.tail(1).index\n"
   ]
  },
  {
   "cell_type": "code",
   "execution_count": null,
   "metadata": {},
   "outputs": [],
   "source": [
    "ARS = ['arsnorte', 'arscentro', 'arslvt', 'arsalentejo', 'arsalgarve', 'acores', 'madeira']\n",
    "IDADES = ['0_9', '10_19', '20_29', '30_39', '40_49', '50_59', '60_69', '70_79', '80_plus']\n"
   ]
  },
  {
   "cell_type": "code",
   "execution_count": null,
   "metadata": {},
   "outputs": [],
   "source": [
    "df = data\n",
    "for j in ['confirmados', 'obitos']:\n",
    "    df[f'{j}_7'] = df[f'{j}'].diff(7).div(7)\n",
    "    for k in ARS:\n",
    "        df[f'{j}_{k}_7'] = df[f'{j}_{k}'].diff(7).div(7)\n",
    "    for k in IDADES:\n",
    "        df[f'{j}_{k}'] = df[f'{j}_{k}_f'] + df[f'{j}_{k}_m']\n",
    "        df[f'{j}_{k}_7'] = df[f'{j}_{k}'].diff(7).div(7)\n",
    "\n"
   ]
  },
  {
   "cell_type": "code",
   "execution_count": null,
   "metadata": {},
   "outputs": [],
   "source": [
    "ymax = { \n",
    "    'confirmados': df['confirmados_7'].max(), 'obitos': df['obitos_7'].max(),\n",
    "    'internados_enfermaria': df['internados_enfermaria'].max(), 'internados_uci': df['internados_uci'].max(),\n",
    "}\n",
    "for j in ['confirmados', 'obitos']:\n",
    "    df[f'{j}_7A'] = df[f'{j}_7'].div(ymax[j])\n",
    "    for k in ARS:\n",
    "        df[f'{j}_{k}_7A'] = df[f'{j}_{k}_7'].div(ymax[j])\n",
    "    for k in IDADES:\n",
    "        df[f'{j}_{k}_7A'] = df[f'{j}_{k}_7'].div(ymax[j])\n",
    "    for k in ['enfermaria', 'uci']:\n",
    "        df[f'internados_{k}_A'] = df[f'internados_{k}'].div(ymax[f'internados_{k}'])\n"
   ]
  },
  {
   "cell_type": "code",
   "execution_count": null,
   "metadata": {},
   "outputs": [],
   "source": [
    "c7 = df[ ['confirmados_7A', 'obitos_7A', 'internados_enfermaria_A', 'internados_uci_A'] ].copy()\n",
    "c7.index = c7.index + pd.DateOffset(days= -260)\n",
    "cols = ['confirmados_7A2', 'obitos_7A2', 'internados_enfermaria_A2', 'internados_uci_A2']\n",
    "c7.columns = cols\n",
    "for col in cols: \n",
    "    if col in df: df.drop(col, axis=1, inplace=True)\n",
    "df = pd.merge(df, c7, how=\"left\", on=\"data\")\n"
   ]
  },
  {
   "cell_type": "code",
   "execution_count": null,
   "metadata": {},
   "outputs": [],
   "source": [
    "fix, axes = plt.subplots(figsize=(20,10))\n",
    "C= {\n",
    "    'confirmados_7A': ('#AFA', '#3F3'),\n",
    "    'obitos_7A': ('#F00', '#F33'),\n",
    "    'internados_enfermaria_A': ('#00F', '#33F'),\n",
    "    'internados_uci_A': ('#FF0', '#FF3'),\n",
    "}\n",
    "for k in ['confirmados_7A', 'obitos_7A', 'internados_enfermaria_A', 'internados_uci_A']:\n",
    "    axes.plot(df[k], lw=4, alpha=0.5, label=k, color=C[k][0] )\n",
    "for k in ['confirmados_7A', 'obitos_7A', 'internados_enfermaria_A', 'internados_uci_A']:\n",
    "    axes.plot(df[f\"{k}2\"], lw=4, alpha=1, label=f\"{k}2\", color=C[k][1] )\n",
    "#axes.plot(df['foo'], lw=2, alpha=1, label='CCC')\n",
    "plot(axes, title=\"Confirmados vs Enfermaria vs UCI vs Obitos, ajustados ao pico respectivo\", ylim=(0, None)).show()\n"
   ]
  },
  {
   "cell_type": "code",
   "execution_count": null,
   "metadata": {},
   "outputs": [],
   "source": [
    "for k in ARS:\n",
    "    #data[[f'confirmados_{k}_7A', f'obitos_{k}_7A']].plot(figsize=(20,5), ylim=(0, None), lw=2)\n",
    "    print()\n",
    "    "
   ]
  },
  {
   "cell_type": "code",
   "execution_count": null,
   "metadata": {},
   "outputs": [],
   "source": [
    "for k in IDADES:\n",
    "    data[f'confirmados_{k}_7B'] = data[f'confirmados_{k}_7'].div( data[f'confirmados_{k}_7'].max() )\n",
    "    data[f'obitos_{k}_7B'] = data[f'obitos_{k}_7'].div( data[f'obitos_{k}_7'].max() )\n",
    "    data[[f'confirmados_{k}_7B', f'obitos_{k}_7B']].plot(figsize=(20,5), ylim=(0, None), lw=2)\n"
   ]
  },
  {
   "cell_type": "code",
   "execution_count": null,
   "metadata": {},
   "outputs": [],
   "source": [
    "#cols = [f'confirmados_{k}_7B' for k in IDADES] + [f'obitos_{k}_7B' for k in IDADES]\n",
    "\n",
    "cols = [f'confirmados_{k}_7B' for k in IDADES]\n",
    "data[-90:][cols].plot(figsize=(20,10), ylim=(0, None), lw=2)\n",
    "\n",
    "cols = [f'obitos_{k}_7B' for k in IDADES]\n",
    "data[-90:][cols].plot(figsize=(20,10), ylim=(0, None), lw=2)\n"
   ]
  },
  {
   "cell_type": "code",
   "execution_count": null,
   "metadata": {},
   "outputs": [],
   "source": [
    "\n",
    "#df[ ['confirmados', 'obitos', 'ativos', 'recuperados'] ].plot(figsize=(20,5), ylim=(0,None))\n",
    "df[ ['ativos'] ].plot(figsize=(20,5), ylim=(0,None))\n"
   ]
  },
  {
   "cell_type": "code",
   "execution_count": null,
   "metadata": {},
   "outputs": [],
   "source": [
    "df['ativos']"
   ]
  },
  {
   "cell_type": "code",
   "execution_count": null,
   "metadata": {},
   "outputs": [],
   "source": []
  }
 ]
}