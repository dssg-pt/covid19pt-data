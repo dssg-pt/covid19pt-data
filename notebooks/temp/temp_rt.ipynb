{
 "metadata": {
  "language_info": {
   "codemirror_mode": {
    "name": "ipython",
    "version": 3
   },
   "file_extension": ".py",
   "mimetype": "text/x-python",
   "name": "python",
   "nbconvert_exporter": "python",
   "pygments_lexer": "ipython3",
   "version": "3.8.2"
  },
  "orig_nbformat": 2,
  "kernelspec": {
   "name": "python382jvsc74a57bd031f2aee4e71d21fbe5cf8b01ff0e069b9275f58929596ceb00d14d90e3e16cd6",
   "display_name": "Python 3.8.2 64-bit"
  },
  "metadata": {
   "interpreter": {
    "hash": "31f2aee4e71d21fbe5cf8b01ff0e069b9275f58929596ceb00d14d90e3e16cd6"
   }
  }
 },
 "nbformat": 4,
 "nbformat_minor": 2,
 "cells": [
  {
   "cell_type": "code",
   "execution_count": null,
   "metadata": {},
   "outputs": [],
   "source": [
    "import datetime\n",
    "import requests\n",
    "import pandas as pd\n",
    "import numpy as np\n",
    "from pathlib import Path\n",
    "\n",
    "import matplotlib.pyplot as plt\n",
    "%matplotlib inline\n",
    "plt.style.use('dark_background')\n"
   ]
  },
  {
   "cell_type": "code",
   "execution_count": null,
   "metadata": {},
   "outputs": [],
   "source": [
    "SAVE_IMAGES = True\n"
   ]
  },
  {
   "cell_type": "code",
   "execution_count": null,
   "metadata": {},
   "outputs": [],
   "source": [
    "data = pd.read_csv(Path.cwd() / '..' / '..' / 'rt.csv', parse_dates=['data'], index_col='data', dayfirst=True)\n"
   ]
  },
  {
   "cell_type": "code",
   "execution_count": null,
   "metadata": {},
   "outputs": [],
   "source": [
    "df = data.copy()\n",
    "df = df.iloc[-90:]\n",
    "\n",
    "cols = [ x for x in df.columns if 'inferior' not in x and 'superior' not in x ]\n"
   ]
  },
  {
   "cell_type": "code",
   "execution_count": null,
   "metadata": {},
   "outputs": [],
   "source": [
    "c = df[-1:][cols].transpose()\n",
    "c.columns = ['val']\n",
    "c = c.sort_values('val', ascending=False)\n",
    "c\n"
   ]
  },
  {
   "cell_type": "code",
   "execution_count": null,
   "metadata": {},
   "outputs": [],
   "source": [
    "fig, axes = plt.subplots(figsize=(15,10))\n",
    "for col in cols:\n",
    "  x = axes.plot(df.index, df[col], lw=2, label=col[3:])\n",
    "  #axes.fill_between(df.index, df[col], df[col], color=x[0].get_color(), alpha=0.5, where=df[col] < 0 )\n",
    "  # axes.fill_between(df.index, df[f\"rt_95_inferior_{col[3:]}\"], df[f\"rt_95_superior_{col[3:]}\"], color=x[0].get_color(), alpha=0.5 )\n",
    "\n",
    "axes.axhline(linewidth=2, ls=\"--\", color='yellow', alpha=0.75, y=1)\n",
    "axes.axhline(linewidth=2, ls=\"--\", color='red', alpha=0.75, y=1.2)\n",
    "axes.axhline(linewidth=2, ls=\"--\", color='green', alpha=0.75, y=0.8)\n",
    "axes.legend(loc=\"upper left\")\n",
    "plt.xticks(list(reversed(list(reversed(list(df.index)))[0::7])), rotation=90)\n",
    "plt.tight_layout()\n",
    "plt.ylim(0.7, 1.3)\n",
    "if SAVE_IMAGES: plt.savefig(f\"../../temp/variacao_rt.png\")\n",
    "plt.show()\n"
   ]
  },
  {
   "cell_type": "code",
   "execution_count": null,
   "metadata": {},
   "outputs": [],
   "source": []
  }
 ]
}