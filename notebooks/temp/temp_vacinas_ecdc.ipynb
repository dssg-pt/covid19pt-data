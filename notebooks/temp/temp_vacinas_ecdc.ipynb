{
 "metadata": {
  "language_info": {
   "codemirror_mode": {
    "name": "ipython",
    "version": 3
   },
   "file_extension": ".py",
   "mimetype": "text/x-python",
   "name": "python",
   "nbconvert_exporter": "python",
   "pygments_lexer": "ipython3",
   "version": "3.8.2"
  },
  "orig_nbformat": 2,
  "kernelspec": {
   "name": "python3",
   "display_name": "Python 3.8.2 64-bit"
  },
  "metadata": {
   "interpreter": {
    "hash": "31f2aee4e71d21fbe5cf8b01ff0e069b9275f58929596ceb00d14d90e3e16cd6"
   }
  },
  "interpreter": {
   "hash": "31f2aee4e71d21fbe5cf8b01ff0e069b9275f58929596ceb00d14d90e3e16cd6"
  }
 },
 "nbformat": 4,
 "nbformat_minor": 2,
 "cells": [
  {
   "cell_type": "code",
   "execution_count": null,
   "metadata": {},
   "outputs": [],
   "source": [
    "import datetime\n",
    "import pandas as pd\n",
    "import numpy as np\n",
    "import matplotlib.pyplot as plt\n",
    "%matplotlib inline\n",
    "plt.style.use('dark_background')\n"
   ]
  },
  {
   "cell_type": "code",
   "execution_count": null,
   "metadata": {},
   "outputs": [],
   "source": [
    "SAVE_IMAGES = True\n",
    "\n",
    "VACCINES = {\n",
    "    'COM': 'Pfizer',\n",
    "    'AZ': 'AstraZeneca',\n",
    "    'MOD': 'Moderna',\n",
    "    'JANSS': 'Janssen',\n",
    "}\n",
    "\n",
    "def vaccine_name(vaccine):\n",
    "  return VACCINES.get(vaccine, vaccine)\n"
   ]
  },
  {
   "cell_type": "code",
   "execution_count": null,
   "metadata": {},
   "outputs": [],
   "source": [
    "def f(value, plus=False):\n",
    "    if value is None: return None\n",
    "    value = value if type(value) == int else float(value)\n",
    "    r = format(value, \",\").replace(\".\",\"!\").replace(\",\",\".\").replace(\"!\",\",\")\n",
    "    return f\"+{r}\" if plus and value > 0 else r\n"
   ]
  },
  {
   "cell_type": "code",
   "execution_count": null,
   "metadata": {},
   "outputs": [],
   "source": [
    "# https://qap.ecdc.europa.eu/public/extensions/COVID-19/vaccine-tracker.html#distribution-tab\n",
    "# https://www.ecdc.europa.eu/en/publications-data/data-covid-19-vaccination-eu-eea\n",
    "!curl -s --output '/tmp/ecdc_vacinas.csv' \"https://opendata.ecdc.europa.eu/covid19/vaccine_tracker/csv/data.csv\"\n",
    "!tail -1 '/tmp/ecdc_vacinas.csv'\n"
   ]
  },
  {
   "cell_type": "code",
   "execution_count": null,
   "metadata": {},
   "outputs": [],
   "source": [
    "data = pd.read_csv('/tmp/ecdc_vacinas.csv') # , parse_dates=['data'], index_col='data', dayfirst=True)\n",
    "data = data.sort_values(['YearWeekISO', 'ReportingCountry'])\n",
    "data['date'] = data['YearWeekISO'].apply(lambda x: datetime.datetime.strptime(f\"{x}-6\", \"%Y-W%W-%w\"))\n",
    "data.loc[ data['YearWeekISO'] == '2020-W52', 'date' ] += datetime.timedelta(days=-7)\n",
    "data.loc[ data['YearWeekISO'] == '2020-W53', 'date' ] += datetime.timedelta(days=-7)\n",
    "# data.set_index('date', inplace=True)\n"
   ]
  },
  {
   "cell_type": "code",
   "execution_count": null,
   "metadata": {},
   "outputs": [],
   "source": [
    "data.tail(1)\n"
   ]
  },
  {
   "cell_type": "code",
   "execution_count": null,
   "metadata": {},
   "outputs": [],
   "source": [
    "data['Vaccine'].unique()\n"
   ]
  },
  {
   "cell_type": "code",
   "execution_count": null,
   "metadata": {},
   "outputs": [],
   "source": [
    "df = data[ data['ReportingCountry'] == 'PT' ].copy()\n",
    "df.drop('ReportingCountry', axis=1, inplace=True)\n",
    "if df['FirstDoseRefused'].notnull().sum() == 0:\n",
    "  df.drop('FirstDoseRefused', axis=1, inplace=True)\n",
    "\n",
    "# df.describe()\n",
    "# PT may have one less week that other countries\n",
    "dfpt = df\n",
    "df.tail()\n"
   ]
  },
  {
   "cell_type": "code",
   "execution_count": null,
   "metadata": {},
   "outputs": [],
   "source": [
    "df['Vaccine'].unique()\n"
   ]
  },
  {
   "cell_type": "code",
   "execution_count": null,
   "metadata": {},
   "outputs": [],
   "source": [
    "df = dfpt.copy()\n",
    "dft = df[ (df['TargetGroup'] == 'ALL') & (df['Region'] == 'PT') ]\n",
    "dft = dft.drop(['Population', 'Denominator'], axis=1)\n",
    "dft # .tail()\n"
   ]
  },
  {
   "cell_type": "code",
   "execution_count": null,
   "metadata": {},
   "outputs": [],
   "source": [
    "dft[dft.Vaccine == 'AZ'][['FirstDose']]\n"
   ]
  },
  {
   "cell_type": "code",
   "execution_count": null,
   "metadata": {},
   "outputs": [],
   "source": [
    "janssen = dft[dft.Vaccine == 'JANSS'].copy()\n",
    "janssen['CUMSUM'] = janssen['FirstDose'].cumsum()\n",
    "janssen\n"
   ]
  },
  {
   "cell_type": "code",
   "execution_count": null,
   "metadata": {},
   "outputs": [],
   "source": [
    "dft[dft.Vaccine == 'JANSS'][['FirstDose', 'NumberDosesReceived']].sum()\n"
   ]
  },
  {
   "cell_type": "code",
   "execution_count": null,
   "metadata": {},
   "outputs": [],
   "source": [
    "# copy Janssen first dose to second dose\n",
    "dft.loc[dft.Vaccine == 'JANSS', 'SecondDose'] = dft[dft.Vaccine == 'JANSS']['FirstDose']\n",
    "\n",
    "dftt = dft.copy()\n",
    "\n",
    "dft[dft.Vaccine == 'JANSS']\n"
   ]
  },
  {
   "cell_type": "code",
   "execution_count": null,
   "metadata": {},
   "outputs": [],
   "source": [
    "dft = dftt.copy()\n",
    "rows = []\n",
    "for k, row in dft.iterrows():\n",
    "    k = row['date']\n",
    "    #print(k, row)\n",
    "    v, d1 = row.Vaccine, row.FirstDose\n",
    "    if v == 'COM':\n",
    "        if k >= datetime.datetime.strptime('2021-03-01', '%Y-%m-%d'):\n",
    "            k2 = k + datetime.timedelta(days=28)\n",
    "        else:\n",
    "            k2 = k + datetime.timedelta(days=21)\n",
    "    elif v == 'AZ':\n",
    "        k2 = k + datetime.timedelta(days=84) # 12 semanas, multiplo 7\n",
    "    elif v == 'JANSS':\n",
    "        k2 = k  # 1st is 2nd\n",
    "    else:\n",
    "        k2 = k + datetime.timedelta(days=28)\n",
    "    rows.append([k2, v, d1])\n",
    "# AJUSTE 21-28 dias\n",
    "rows.append([datetime.datetime.strptime('2021-03-27', '%Y-%m-%d'), 'COM', 20_000])\n",
    "\n",
    "df2 = pd.DataFrame(rows, columns=[\"d\", \"Vaccine\", \"Prediction\"])\n",
    "df2.sort_values(\"d\", inplace=True)\n",
    "df2.set_index(\"d\", inplace=True)\n",
    "df_prev = df2.copy()\n",
    "df2\n"
   ]
  },
  {
   "cell_type": "code",
   "execution_count": null,
   "metadata": {},
   "outputs": [],
   "source": [
    "df2 = df_prev.copy()\n",
    "dft = dftt.copy()\n",
    "dft.set_index('date', inplace=True)\n",
    "\n",
    "CC = \"#00876c,#57a18b,#8cbcac,#bed6ce,#f1f1f1,#f1c6c6,#ec9c9d,#ff7700,#0077ff,#e27076,#d43d51\".split(\",\")\n",
    "C = {\n",
    "    'COM': CC[0:2],\n",
    "    'AZ': CC[2:4],\n",
    "    'MOD': CC[4:6],\n",
    "    'JANSS': CC[6:8],\n",
    "    'T': CC[8:10],\n",
    "}\n",
    "\n",
    "\n",
    "fig, axes = plt.subplots(figsize=(15,5))\n",
    "k, kk='Prediction', 'Previsão'\n",
    "for v in VACCINES:\n",
    "    axes.plot(df2[ df2.Vaccine == v ][k], label=f\"{VACCINES[v]} {kk}\", lw=2, marker='o', linestyle=\"--\", markersize=4)#, alpha=0.5)#, color=C[v][0])\n",
    "axes.plot(df2.groupby(df2.index).sum()[k], label=f\"Total {kk}\", lw=4, marker='o', linestyle=\"--\", markersize=8)#, alpha=0.5)#, color=C['T'][0])\n",
    "\n",
    "k, kk='SecondDose', 'Vacinados'\n",
    "for v in VACCINES:\n",
    "    axes.plot(dft[ dft.Vaccine == v ][k], label=f\"{VACCINES[v]} {kk}\", lw=2, marker='s', markersize=4)#, alpha=0.5)#, color=C[v][1])\n",
    "axes.plot(dft.groupby(dft.index).sum()[k], label=f\"Total {kk}\", lw=4, marker='s', markersize=9)#, alpha=0.5)#, color=C['T'][1])\n",
    "\n",
    "plt.xticks(list(reversed(list(reversed(list(set(list(dft.index)+list(df2.index)))))[0::1])), rotation=90)\n",
    "axes.axvline(linewidth=2, ls=\"--\", color='white', alpha=0.75, x=datetime.datetime.today())\n",
    "axes.axvline(linewidth=2, ls=\"--\", color='white', alpha=0.75, x=datetime.datetime.today()+datetime.timedelta(days=28))\n",
    "axes.legend(loc=\"upper left\")\n",
    "plt.tight_layout()\n",
    "if SAVE_IMAGES: plt.savefig(\"../../temp/vacinas_ecdc_previsao.png\")\n",
    "plt.show()\n"
   ]
  },
  {
   "cell_type": "code",
   "execution_count": null,
   "metadata": {},
   "outputs": [],
   "source": [
    "maxY = 0\n",
    "for v in VACCINES:\n",
    "    x = dft[ dft.Vaccine == v ].max()\n",
    "    maxY = max(maxY, x['FirstDose'])\n",
    "    maxY = max(maxY, x['SecondDose'])\n",
    "print(maxY)\n",
    "maxY = maxY * 1.1"
   ]
  },
  {
   "cell_type": "code",
   "execution_count": null,
   "metadata": {},
   "outputs": [],
   "source": [
    "\n",
    "fig, axes = plt.subplots(figsize=(15,5))\n",
    "k, kk='Prediction', 'Previsão'\n",
    "axes.plot(df2.groupby(df2.index).sum()[k], label=f\"Total {kk}\", lw=4, marker='o', markersize=8, alpha=0.5) # , color=C[v][0])\n",
    "k, kk='SecondDose', 'Vacinados'\n",
    "axes.plot(dft.groupby(dft.index).sum()[k], label=f\"Total {kk}\", lw=4, marker='s', markersize=8, linestyle=\"--\", alpha=0.5) # , color=C[v][1], alpha=0.5)\n",
    "\n",
    "plt.xticks(list(reversed(list(reversed(list(set(list(dft.index)+list(df2.index)))))[0::1])), rotation=90)\n",
    "axes.axvline(linewidth=2, ls=\"--\", color='white', alpha=0.75, x=datetime.datetime.today())\n",
    "axes.axvline(linewidth=2, ls=\"--\", color='white', alpha=0.75, x=datetime.datetime.today()+datetime.timedelta(days=28))\n",
    "#plt.ylim(0, maxY)\n",
    "axes.legend(loc=\"upper left\")\n",
    "plt.tight_layout()\n",
    "if SAVE_IMAGES: plt.savefig(f\"../../temp/vacinas_ecdc_previsao_total.png\")\n",
    "plt.show()\n",
    "print()\n",
    "\n",
    "for v in VACCINES:\n",
    "    fig, axes = plt.subplots(figsize=(15,5))\n",
    "    k, kk='Prediction', 'Previsão'\n",
    "    axes.plot(df2[ df2.Vaccine == v ][k], label=f\"{VACCINES[v]} {kk}\", lw=4, marker='o', markersize=8, alpha=0.5) # , color=C[v][0])\n",
    "    k, kk='SecondDose', 'Vacinados'\n",
    "    k='SecondDose' if v != \"JANSS\" else 'FirstDose'\n",
    "    axes.plot(dft[ dft.Vaccine == v ][k], label=f\"{VACCINES[v]} {k}\", lw=4, marker='s', markersize=8, linestyle=\"--\", alpha=0.5) # , color=C[v][1], alpha=0.5)\n",
    "\n",
    "    plt.xticks(list(reversed(list(reversed(list(set(list(dft.index)+list(df2.index)))))[0::1])), rotation=90)\n",
    "    axes.axvline(linewidth=2, ls=\"--\", color='white', alpha=0.75, x=datetime.datetime.today())\n",
    "    axes.axvline(linewidth=2, ls=\"--\", color='white', alpha=0.75, x=datetime.datetime.today()+datetime.timedelta(days=28))\n",
    "    plt.ylim(0, maxY)\n",
    "    axes.legend(loc=\"upper left\")\n",
    "    plt.tight_layout()\n",
    "    if SAVE_IMAGES: plt.savefig(f\"../../temp/vacinas_ecdc_previsao_{v}.png\")\n",
    "    plt.show()\n",
    "    print()\n"
   ]
  },
  {
   "cell_type": "code",
   "execution_count": null,
   "metadata": {},
   "outputs": [],
   "source": [
    "fig, axes = plt.subplots(figsize=(15,5))\n",
    "k, kk='Prediction', 'Previsão'\n",
    "axes.plot(df2.groupby(df2.index).sum().cumsum()[k], label=f\"Total {kk}\", lw=4, marker='o', markersize=8, alpha=0.5) # , color=C[v][0])\n",
    "#print(df2.groupby(df2.index).sum().cumsum()[k])\n",
    "k, kk='SecondDose', 'Vacinados'\n",
    "axes.plot(dft.groupby(dft.index).sum().cumsum()[k], label=f\"Total {kk}\", lw=4, marker='s', markersize=8, linestyle=\"--\", alpha=0.5) # , color=C[v][1], alpha=0.5)\n",
    "\n",
    "import math\n",
    "millions = math.ceil(df2.groupby(df2.index).sum().cumsum()[-1:]['Prediction'] / 1_000_000.0)\n",
    "\n",
    "for i in range(1, millions + 1):\n",
    "    plt.axhline(y=i*1000000, ls=\"--\", alpha=0.75)\n",
    "plt.xticks(list(reversed(list(reversed(list(set(list(dft.index)+list(df2.index))))))), rotation=90)\n",
    "axes.axvline(linewidth=2, ls=\"--\", color='white', alpha=0.75, x=datetime.datetime.today())\n",
    "axes.axvline(linewidth=2, ls=\"--\", color='white', alpha=0.75, x=datetime.datetime.today()+datetime.timedelta(days=28))\n",
    "axes.legend(loc=\"upper left\")\n",
    "plt.tight_layout()\n",
    "if SAVE_IMAGES: plt.savefig(f\"../../temp/vacinas_ecdc_previsao_accumulado.png\")\n",
    "plt.show()\n",
    "\n"
   ]
  },
  {
   "cell_type": "code",
   "execution_count": null,
   "metadata": {},
   "outputs": [],
   "source": [
    "# Recebidas\n",
    "\n",
    "dfr = dft[ dft['NumberDosesReceived'] > 0 ].copy()\n",
    "dfr['Resto'] = dfr['NumberDosesReceived'] - dfr['FirstDose'] - dfr['SecondDose']\n",
    "dfr = dfr.groupby(['YearWeekISO']).sum()\n",
    "axes = dfr[['FirstDose', 'SecondDose', 'NumberDosesReceived', 'Resto']].plot(figsize=(15,5))\n",
    "axes.legend(loc=\"upper left\")\n",
    "plt.show()\n"
   ]
  },
  {
   "cell_type": "code",
   "execution_count": null,
   "metadata": {},
   "outputs": [],
   "source": [
    "dft.tail(2)"
   ]
  },
  {
   "cell_type": "code",
   "execution_count": null,
   "metadata": {},
   "outputs": [],
   "source": [
    "x = dft.groupby('Vaccine').sum()\n",
    "x['stock'] = x['NumberDosesReceived'] - x['FirstDose'] - x['SecondDose'] - x['UnknownDose']\n",
    "#x = x.cumsum().tail(1)\n",
    "x['perc'] = 100 * x['stock'] / x['NumberDosesReceived']\n",
    "x"
   ]
  },
  {
   "cell_type": "code",
   "execution_count": null,
   "metadata": {},
   "outputs": [],
   "source": [
    "#recebidas=2.983.590 stock=278.957 az=127.624 34% mod=101.751 (17%) pf=49.582 2.5% \n"
   ]
  },
  {
   "cell_type": "code",
   "execution_count": null,
   "metadata": {},
   "outputs": [],
   "source": [
    "dfpt[dfpt['Vaccine'] == \"JANSS\"]\n"
   ]
  },
  {
   "cell_type": "code",
   "execution_count": null,
   "metadata": {},
   "outputs": [],
   "source": [
    "data\n"
   ]
  },
  {
   "cell_type": "code",
   "execution_count": null,
   "metadata": {},
   "outputs": [],
   "source": [
    "# paises\n",
    "# array(['BG', 'CY', 'CZ', 'DE', 'EE', 'EL', 'FI', 'FR', 'HR', 'HU', 'IE',\n",
    "#       'IT', 'LT', 'LU', 'LV', 'MT', 'NL', 'NO', 'PL', 'PT', 'SE', 'SI',\n",
    "#       'AT', 'BE', 'DK', 'ES', 'IS', 'SK', 'RO', 'LI'], dtype=object)\n",
    "#data['ReportingCountry'].unique()\n",
    "df = data[ (data['NumberDosesReceived'] > 0) & (data['TargetGroup'] == 'ALL') ]\n",
    "df = df.copy()\n",
    "\n",
    "#df.loc[df[\"ReportingCountry\"] == \"SE\", ['NumberDosesReceived','FirstDose','SecondDose']].sum()\n",
    "\n",
    "doses = df.groupby(\"ReportingCountry\")[['NumberDosesReceived','FirstDose','SecondDose']].sum().reset_index(level=0)\n",
    "pop = df[['ReportingCountry', 'Population']].drop_duplicates()\n",
    "\n",
    "\n",
    "df = doses.merge(pop, how=\"left\", on=\"ReportingCountry\")\n",
    "\n",
    "df['perc_doses'] = 100 * df['NumberDosesReceived'] / df['Population']\n",
    "df['perc_doses1'] = 100 * df['FirstDose'] / df['Population']\n",
    "df['perc_doses2'] = 100 * df['SecondDose'] / df['Population']\n",
    "\n",
    "df.sort_values(['perc_doses'], ascending=False).reset_index(drop=True)\n"
   ]
  },
  {
   "cell_type": "code",
   "execution_count": null,
   "metadata": {},
   "outputs": [],
   "source": [
    "data['Region'].unique()\n"
   ]
  },
  {
   "cell_type": "code",
   "execution_count": null,
   "metadata": {},
   "outputs": [],
   "source": []
  }
 ]
}