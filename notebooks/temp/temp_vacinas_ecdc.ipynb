{
 "metadata": {
  "language_info": {
   "codemirror_mode": {
    "name": "ipython",
    "version": 3
   },
   "file_extension": ".py",
   "mimetype": "text/x-python",
   "name": "python",
   "nbconvert_exporter": "python",
   "pygments_lexer": "ipython3",
   "version": "3.8.9"
  },
  "orig_nbformat": 2,
  "kernelspec": {
   "name": "python3",
   "display_name": "Python 3.8.9 64-bit"
  },
  "metadata": {
   "interpreter": {
    "hash": "31f2aee4e71d21fbe5cf8b01ff0e069b9275f58929596ceb00d14d90e3e16cd6"
   }
  },
  "interpreter": {
   "hash": "31f2aee4e71d21fbe5cf8b01ff0e069b9275f58929596ceb00d14d90e3e16cd6"
  }
 },
 "nbformat": 4,
 "nbformat_minor": 2,
 "cells": [
  {
   "cell_type": "code",
   "execution_count": null,
   "metadata": {},
   "outputs": [],
   "source": [
    "import datetime\n",
    "import pandas as pd\n",
    "import numpy as np\n",
    "import matplotlib.pyplot as plt\n",
    "%matplotlib inline\n",
    "plt.style.use('dark_background')\n",
    "\n",
    "def f(value, plus=False):\n",
    "    \"\"\" formata número 1.234,56 \"\"\"\n",
    "    if value is None: return None\n",
    "    value = value if type(value) == int else float(value)\n",
    "    r = format(value, \",\").replace(\".\",\"!\").replace(\",\",\".\").replace(\"!\",\",\")\n",
    "    return f\"+{r}\" if plus and value > 0 else r\n",
    "\n",
    "SAVE_IMAGES = True\n"
   ]
  },
  {
   "cell_type": "code",
   "execution_count": null,
   "metadata": {},
   "outputs": [],
   "source": [
    "VACCINES = {\n",
    "    'COM': 'Pfizer',\n",
    "    'AZ': 'AstraZeneca',\n",
    "    'MOD': 'Moderna',\n",
    "    'JANSS': 'Janssen',\n",
    "}\n",
    "\n",
    "IDADES = {\n",
    "  # total 10_298_253\n",
    "  '0_17': 1_701_687,\n",
    "  # adultos 8_596_566\n",
    "  # 70% 6_017_596\n",
    "  '18_24': 781_176,\n",
    "  '25_49': 3_331_561,\n",
    "  '50_64': 2_174_181,\n",
    "  '65_79': 1_628_058,\n",
    "  '80+': 681_590,\n",
    "}\n",
    "\n",
    "def vaccine_name(vaccine):\n",
    "  return VACCINES.get(vaccine, vaccine)\n"
   ]
  },
  {
   "cell_type": "code",
   "execution_count": null,
   "metadata": {},
   "outputs": [],
   "source": [
    "# https://qap.ecdc.europa.eu/public/extensions/COVID-19/vaccine-tracker.html#distribution-tab\n",
    "# https://www.ecdc.europa.eu/en/publications-data/data-covid-19-vaccination-eu-eea\n",
    "!curl -s --output '/tmp/ecdc_vacinas.csv' \"https://opendata.ecdc.europa.eu/covid19/vaccine_tracker/csv/data.csv\"\n",
    "!tail -1 '/tmp/ecdc_vacinas.csv'\n"
   ]
  },
  {
   "cell_type": "code",
   "execution_count": null,
   "metadata": {},
   "outputs": [],
   "source": [
    "data = pd.read_csv('/tmp/ecdc_vacinas.csv') # , parse_dates=['data'], index_col='data', dayfirst=True)\n",
    "data = data.sort_values(['YearWeekISO', 'ReportingCountry'])\n",
    "data['date'] = data['YearWeekISO'].apply(lambda x: datetime.datetime.strptime(f\"{x}-6\", \"%Y-W%W-%w\"))\n",
    "data.loc[ data['YearWeekISO'] == '2020-W52', 'date' ] += datetime.timedelta(days=-7)\n",
    "data.loc[ data['YearWeekISO'] == '2020-W53', 'date' ] += datetime.timedelta(days=-7)\n",
    "# data.set_index('date', inplace=True)\n"
   ]
  },
  {
   "cell_type": "code",
   "execution_count": null,
   "metadata": {},
   "outputs": [],
   "source": [
    "data.tail(1)\n"
   ]
  },
  {
   "cell_type": "code",
   "execution_count": null,
   "metadata": {},
   "outputs": [],
   "source": [
    "data['Vaccine'].unique()\n"
   ]
  },
  {
   "cell_type": "code",
   "execution_count": null,
   "metadata": {},
   "outputs": [],
   "source": [
    "dfpt = data[ data['ReportingCountry'] == 'PT' ].copy()\n",
    "dfpt.drop('ReportingCountry', axis=1, inplace=True)\n",
    "if dfpt['FirstDoseRefused'].notnull().sum() == 0:\n",
    "  dfpt.drop('FirstDoseRefused', axis=1, inplace=True)\n",
    "\n",
    "# dfpt.describe()\n",
    "# PT may have one less week that other countries\n",
    "dfpt.tail()\n"
   ]
  },
  {
   "cell_type": "code",
   "execution_count": null,
   "metadata": {},
   "outputs": [],
   "source": [
    "# Vacinas em Portugal\n",
    "# ['COM', 'MOD', 'AZ', 'JANSS']\n",
    "list(dfpt['Vaccine'].unique())\n"
   ]
  },
  {
   "cell_type": "code",
   "execution_count": null,
   "metadata": {},
   "outputs": [],
   "source": [
    "df = dfpt.copy()\n",
    "dft = df[ (df['TargetGroup'] == 'ALL') & (df['Region'] == 'PT') ]\n",
    "dft = dft.drop(['Population', 'Denominator'], axis=1)\n",
    "dft # .tail()\n"
   ]
  },
  {
   "cell_type": "code",
   "execution_count": null,
   "metadata": {},
   "outputs": [],
   "source": [
    "# Primeiras doses AstraZeneca\n",
    "dft[dft.Vaccine == 'AZ'][['FirstDose']]\n"
   ]
  },
  {
   "cell_type": "code",
   "execution_count": null,
   "metadata": {},
   "outputs": [],
   "source": [
    "dft[dft.Vaccine == 'AZ'][['SecondDose']].tail(14)\n"
   ]
  },
  {
   "cell_type": "code",
   "execution_count": null,
   "metadata": {},
   "outputs": [],
   "source": [
    "janssen = dft[dft.Vaccine == 'JANSS'].copy()\n",
    "janssen['CUMSUM'] = janssen['FirstDose'].cumsum()\n",
    "janssen\n"
   ]
  },
  {
   "cell_type": "code",
   "execution_count": null,
   "metadata": {},
   "outputs": [],
   "source": [
    "dft[dft.Vaccine == 'JANSS'][['FirstDose', 'NumberDosesReceived']].sum()\n"
   ]
  },
  {
   "cell_type": "code",
   "execution_count": null,
   "metadata": {},
   "outputs": [],
   "source": [
    "dft[dft.Vaccine == 'JANSS'][['FirstDose', 'NumberDosesReceived']].cumsum()\n"
   ]
  },
  {
   "cell_type": "code",
   "execution_count": null,
   "metadata": {},
   "outputs": [],
   "source": [
    "# copy Janssen first dose to second dose\n",
    "dft.loc[dft.Vaccine == 'JANSS', 'SecondDose'] = dft[dft.Vaccine == 'JANSS']['FirstDose']\n",
    "\n",
    "dftt = dft.copy()\n",
    "\n",
    "dft[dft.Vaccine == 'JANSS']\n"
   ]
  },
  {
   "cell_type": "code",
   "execution_count": null,
   "metadata": {},
   "outputs": [],
   "source": [
    "# rows duplicadas?\n",
    "dft[dft.Vaccine == 'AZ']\n"
   ]
  },
  {
   "cell_type": "code",
   "execution_count": null,
   "metadata": {},
   "outputs": [],
   "source": [
    "# Ajusta a data da primeira dose para a data prevista para a\n",
    "# segunda dose, conforme a marca e as regras na altura\n",
    "dft = dftt.copy()\n",
    "rows = []\n",
    "ajuste_AZ = 0\n",
    "for k, row in dft.iterrows():\n",
    "    k = row['date']\n",
    "    v, d1 = row.Vaccine, row.FirstDose\n",
    "    if v == 'COM':\n",
    "        # Cominarty / Pfizer era 21 dias até Março, depois 28\n",
    "        if k >= datetime.datetime.strptime('2021-03-01', '%Y-%m-%d'):\n",
    "            k2 = k + datetime.timedelta(days=28)\n",
    "        else:\n",
    "            k2 = k + datetime.timedelta(days=21)\n",
    "    elif v == 'JANSS':\n",
    "        # Janssen é dose única\n",
    "        k2 = k  # 1st is 2nd\n",
    "    elif v == 'AZ':\n",
    "        # AstraZenaca era 12 semanas até final Junho\n",
    "        # https://twitter.com/dgsaude/status/1411056606792622081?s=11\n",
    "        # \"até 25 abril -> até 4 julho\" -> 2021-04-24 + 10 semanas = 2021-07-03\n",
    "        # \"de 26 abril a 16 maio -> de 5 a 11 julho\" -> 2021-05-01 / 08 / 15 + 8 semanas = 2021-07-10\n",
    "        # \"de 17 maio a 23 maio -> a partir 12 julho\" -> 2021-05-22 + 8 semanas = 2021-07-17\n",
    "        if k >= datetime.datetime(2021, 5, 22):\n",
    "            # k=2021-05-15 00:00:00 k2=2021-07-10 00:00:00\n",
    "            # k=2021-05-22 00:00:00 k2=2021-07-17 00:00:00\n",
    "            k2 = k + datetime.timedelta(weeks=8)\n",
    "        else:\n",
    "            k2 = k + datetime.timedelta(weeks=12) # 12 semanas, multiplo 7\n",
    "        if k2 >= datetime.datetime(2021, 6, 26):\n",
    "            #print(f\"k={k} k2={k2} v={v} d1={d1}\")\n",
    "            if k2 == datetime.datetime(2021, 6, 26):\n",
    "                # 2021-06-26\t91154\n",
    "                # k2=2021-06-26 v=AZ d1=52276\n",
    "                ajuste = 38878 # 91154 - 52276\n",
    "                d1 += ajuste\n",
    "                ajuste_AZ += ajuste\n",
    "            elif k2 == datetime.datetime(2021, 7, 3):\n",
    "                # 2021-07-03\t183339\n",
    "                # k2=2021-07-03 v=AZ d1=52345\n",
    "                ajuste = 130994 # 183339 - 52345\n",
    "                d1 += ajuste\n",
    "                ajuste_AZ += ajuste\n",
    "            elif k2 == datetime.datetime(2021, 7, 10):\n",
    "                ajuste = 85_000\n",
    "                d1 += ajuste\n",
    "                ajuste_AZ += ajuste\n",
    "            elif k2 == datetime.datetime(2021, 7, 17):\n",
    "                ajuste = -25_000 # ?\n",
    "                d1 += ajuste\n",
    "                ajuste_AZ += ajuste\n",
    "            elif k2 == datetime.datetime(2021, 7, 24):\n",
    "                ajuste = -48_000 # ?\n",
    "                d1 += ajuste\n",
    "                ajuste_AZ += ajuste\n",
    "            elif k2 == datetime.datetime(2021, 7, 31):\n",
    "                print(f\"ajuste 2021-07-31 antes d1={d1} ajuste_AZ={ajuste_AZ}\")\n",
    "                ajuste = -1 * int(min(d1, ajuste_AZ) / 2)\n",
    "                d1 += ajuste\n",
    "                ajuste_AZ += ajuste\n",
    "                print(f\"ajuste 2021-07-31 depois d1={d1} ajuste_AZ={ajuste_AZ}\")\n",
    "            elif k2 == datetime.datetime(2021, 8, 7):\n",
    "                print(f\"ajuste 2021-08-07 antes d1={d1} ajuste_AZ={ajuste_AZ}\")\n",
    "                ajuste = -1 * int(min(d1, ajuste_AZ) / 2)\n",
    "                d1 += ajuste\n",
    "                ajuste_AZ += ajuste\n",
    "                print(f\"ajuste 2021-08-07 depois d1={d1} ajuste_AZ={ajuste_AZ}\")\n",
    "            elif k2 == datetime.datetime(2021, 8, 14):\n",
    "                print(f\"ajuste 2021-08-14 antes d1={d1} ajuste_AZ={ajuste_AZ}\")\n",
    "                ajuste = -1 * int(min(d1, ajuste_AZ) / 2)\n",
    "                d1 += ajuste\n",
    "                ajuste_AZ += ajuste\n",
    "                print(f\"ajuste 2021-08-14 depois d1={d1} ajuste_AZ={ajuste_AZ}\")\n",
    "            elif k2 == datetime.datetime(2021, 8, 21):\n",
    "                print(f\"ajuste 2021-08-21 antes d1={d1} ajuste_AZ={ajuste_AZ}\")\n",
    "                ajuste = -1 * int(min(d1, ajuste_AZ) / 2)\n",
    "                d1 += ajuste\n",
    "                ajuste_AZ += ajuste\n",
    "                print(f\"ajuste 2021-08-21 depois d1={d1} ajuste_AZ={ajuste_AZ}\")\n",
    "\n",
    "    else:\n",
    "        k2 = k + datetime.timedelta(days=28)\n",
    "    rows.append([k2, v, d1])\n",
    "# AJUSTE 21-28 dias\n",
    "rows.append([datetime.datetime.strptime('2021-03-27', '%Y-%m-%d'), 'COM', 20_000])\n",
    "\n",
    "df2 = pd.DataFrame(rows, columns=[\"d\", \"Vaccine\", \"Prediction\"])\n",
    "df2.sort_values(\"d\", inplace=True)\n",
    "# join overlapping AZ dates\n",
    "df2['Prediction'] = df2.groupby(['d', 'Vaccine'])['Prediction'].transform('sum')\n",
    "df2.drop_duplicates(inplace=True)\n",
    "#print(df2)\n",
    "\n",
    "df2.set_index(\"d\", inplace=True)\n",
    "df_prev = df2.copy()\n",
    "df2[df2.Vaccine=='AZ'].tail(14)\n"
   ]
  },
  {
   "cell_type": "code",
   "execution_count": null,
   "metadata": {},
   "outputs": [],
   "source": [
    "df2 = df_prev.copy()\n",
    "dft = dftt.copy()\n",
    "dft.set_index('date', inplace=True)\n",
    "\n",
    "maxY = 300_000\n",
    "for v in [1,2]:\n",
    "    if v == 2:\n",
    "        df2 = df_prev.copy()\n",
    "        #print(df2[df2.Vaccine=='AZ'].tail(10))\n",
    "        df2['Prediction'] = df2.groupby(['d', 'Vaccine'])['Prediction'].transform('sum')\n",
    "        df2.drop_duplicates(inplace=True)\n",
    "        #print(df2[df2.Vaccine=='AZ'].tail(10))\n",
    "        dft = dftt.copy()\n",
    "        dft.set_index('date', inplace=True)\n",
    "    v = 'AZ'\n",
    "\n",
    "    fig, axes = plt.subplots(figsize=(15,5))\n",
    "    k, kk='Prediction', 'Previsão'\n",
    "    axes.plot(df2[ df2.Vaccine == v ][k], label=f\"{VACCINES[v]} {kk}\", lw=4, marker='o', markersize=8, alpha=0.5) # , color=C[v][0])\n",
    "    k, kk='SecondDose', 'Vacinados'\n",
    "    k='SecondDose' if v != \"JANSS\" else 'FirstDose'\n",
    "    axes.plot(dft[ dft.Vaccine == v ][k], label=f\"{VACCINES[v]} {k}\", lw=4, marker='s', markersize=8, linestyle=\"--\", alpha=0.5) # , color=C[v][1], alpha=0.5)\n",
    "\n",
    "    plt.xticks(list(reversed(list(reversed(list(set(list(dft.index)+list(df2.index)))))[0::1])), rotation=90)\n",
    "    axes.axvline(linewidth=2, ls=\"--\", color='white', alpha=0.75, x=datetime.datetime.today())\n",
    "    axes.axvline(linewidth=2, ls=\"--\", color='white', alpha=0.75, x=datetime.datetime.today()+datetime.timedelta(days=28))\n",
    "    plt.ylim(0, maxY)\n",
    "    axes.legend(loc=\"upper left\")\n",
    "    plt.tight_layout()\n",
    "    if SAVE_IMAGES: plt.savefig(f\"../../temp/vacinas_ecdc_previsao_{v}.png\")\n",
    "    plt.show()\n",
    "    print()\n"
   ]
  },
  {
   "cell_type": "code",
   "execution_count": null,
   "metadata": {},
   "outputs": [],
   "source": [
    "# ['2021-04-03', '2021-04-10', '2021-04-17', '2021-04-24', '2021-05-01', '2021-05-08', '2021-05-15', '2021-05-22', '2021-05-29', '2021-06-05', '2021-06-12', '2021-06-19', '2021-06-26']\n",
    "# print( list( map(lambda x: str(x)[:10], dfpt[ dfpt['date'] > datetime.datetime.strptime('2021-04-01', '%Y-%m-%d') ]['date'].unique()) ) )\n",
    "# 2021-07-03 2021-07-10 2021-07-17 2021-07-24 2021-07-31 2021-08-07 2021-08-14 2021-08-21 2021-08-28 2021-09-04\n",
    "#for i in range(0, 10):\n",
    "#    print(str( datetime.datetime.strptime('2021-07-03', '%Y-%m-%d') + datetime.timedelta(weeks=i) )[:10])\n",
    "\n",
    "# 2021-04-24 + 10 semanas = 2021-07-03 - \"até 25 abril -> até 4 julho\"\n",
    "# 2021-05-01 / 08 / 15 + 8 semanas = 2021-07-10 - \"de 26 abril a 16 maio -> de 5 a 11 julho\"\n",
    "# 2021-05-22 + 8 semanas = 2021-07-17 - \"de 17 maio a 23 maio -> a partir 12 julho\"\n",
    "#print(str( datetime.datetime.strptime('2021-05-22', '%Y-%m-%d') + datetime.timedelta(weeks= +8) )[:10])\n"
   ]
  },
  {
   "cell_type": "code",
   "execution_count": null,
   "metadata": {},
   "outputs": [],
   "source": [
    "df2 = df_prev.copy()\n",
    "dft = dftt.copy()\n",
    "dft.set_index('date', inplace=True)\n",
    "\n",
    "CC = \"#00876c,#57a18b,#8cbcac,#bed6ce,#f1f1f1,#f1c6c6,#ec9c9d,#ff7700,#0077ff,#e27076,#d43d51\".split(\",\")\n",
    "C = {\n",
    "    'COM': CC[0:2],\n",
    "    'AZ': CC[2:4],\n",
    "    'MOD': CC[4:6],\n",
    "    'JANSS': CC[6:8],\n",
    "    'T': CC[8:10],\n",
    "}\n",
    "\n",
    "\n",
    "fig, axes = plt.subplots(figsize=(15,5))\n",
    "k, kk='Prediction', 'Previsão'\n",
    "for v in VACCINES:\n",
    "    axes.plot(df2[ df2.Vaccine == v ][k], label=f\"{VACCINES[v]} {kk}\", lw=2, marker='o', linestyle=\"--\", markersize=4)#, alpha=0.5)#, color=C[v][0])\n",
    "axes.plot(df2.groupby(df2.index).sum()[k], label=f\"Total {kk}\", lw=4, marker='o', linestyle=\"--\", markersize=8)#, alpha=0.5)#, color=C['T'][0])\n",
    "\n",
    "k, kk='SecondDose', 'Vacinados'\n",
    "for v in VACCINES:\n",
    "    axes.plot(dft[ dft.Vaccine == v ][k], label=f\"{VACCINES[v]} {kk}\", lw=2, marker='s', markersize=4)#, alpha=0.5)#, color=C[v][1])\n",
    "axes.plot(dft.groupby(dft.index).sum()[k], label=f\"Total {kk}\", lw=4, marker='s', markersize=9)#, alpha=0.5)#, color=C['T'][1])\n",
    "\n",
    "plt.xticks(list(reversed(list(reversed(list(set(list(dft.index)+list(df2.index)))))[0::1])), rotation=90)\n",
    "axes.axvline(linewidth=2, ls=\"--\", color='white', alpha=0.75, x=datetime.datetime.today())\n",
    "axes.axvline(linewidth=2, ls=\"--\", color='white', alpha=0.75, x=datetime.datetime.today()+datetime.timedelta(days=28))\n",
    "axes.legend(loc=\"upper left\")\n",
    "plt.tight_layout()\n",
    "if SAVE_IMAGES: plt.savefig(\"../../temp/vacinas_ecdc_previsao.png\")\n",
    "plt.show()\n"
   ]
  },
  {
   "cell_type": "code",
   "execution_count": null,
   "metadata": {},
   "outputs": [],
   "source": [
    "maxY = 0\n",
    "for v in VACCINES:\n",
    "    x = dft[ dft.Vaccine == v ].max()\n",
    "    maxY = max(maxY, x['FirstDose'])\n",
    "    maxY = max(maxY, x['SecondDose'])\n",
    "print(maxY)\n",
    "maxY = maxY * 1.1"
   ]
  },
  {
   "cell_type": "code",
   "execution_count": null,
   "metadata": {},
   "outputs": [],
   "source": [
    "\n",
    "fig, axes = plt.subplots(figsize=(15,5))\n",
    "k, kk='Prediction', 'Previsão'\n",
    "axes.plot(df2.groupby(df2.index).sum()[k], label=f\"Total {kk}\", lw=4, marker='o', markersize=8, alpha=0.5) # , color=C[v][0])\n",
    "k, kk='SecondDose', 'Vacinados'\n",
    "axes.plot(dft.groupby(dft.index).sum()[k], label=f\"Total {kk}\", lw=4, marker='s', markersize=8, linestyle=\"--\", alpha=0.5) # , color=C[v][1], alpha=0.5)\n",
    "\n",
    "plt.xticks(list(reversed(list(reversed(list(set(list(dft.index)+list(df2.index)))))[0::1])), rotation=90)\n",
    "axes.axvline(linewidth=2, ls=\"--\", color='white', alpha=0.75, x=datetime.datetime.today())\n",
    "axes.axvline(linewidth=2, ls=\"--\", color='white', alpha=0.75, x=datetime.datetime.today()+datetime.timedelta(days=28))\n",
    "#plt.ylim(0, maxY)\n",
    "axes.legend(loc=\"upper left\")\n",
    "plt.tight_layout()\n",
    "if SAVE_IMAGES: plt.savefig(f\"../../temp/vacinas_ecdc_previsao_total.png\")\n",
    "plt.show()\n",
    "print()\n",
    "\n",
    "for v in VACCINES:\n",
    "    fig, axes = plt.subplots(figsize=(15,5))\n",
    "    k, kk='Prediction', 'Previsão'\n",
    "    axes.plot(df2[ df2.Vaccine == v ][k], label=f\"{VACCINES[v]} {kk}\", lw=4, marker='o', markersize=8, alpha=0.5) # , color=C[v][0])\n",
    "    k, kk='SecondDose', 'Vacinados'\n",
    "    k='SecondDose' if v != \"JANSS\" else 'FirstDose'\n",
    "    axes.plot(dft[ dft.Vaccine == v ][k], label=f\"{VACCINES[v]} {k}\", lw=4, marker='s', markersize=8, linestyle=\"--\", alpha=0.5) # , color=C[v][1], alpha=0.5)\n",
    "\n",
    "    plt.xticks(list(reversed(list(reversed(list(set(list(dft.index)+list(df2.index)))))[0::1])), rotation=90)\n",
    "    axes.axvline(linewidth=2, ls=\"--\", color='white', alpha=0.75, x=datetime.datetime.today())\n",
    "    axes.axvline(linewidth=2, ls=\"--\", color='white', alpha=0.75, x=datetime.datetime.today()+datetime.timedelta(days=28))\n",
    "    plt.ylim(0, maxY)\n",
    "    axes.legend(loc=\"upper left\")\n",
    "    plt.tight_layout()\n",
    "    if SAVE_IMAGES: plt.savefig(f\"../../temp/vacinas_ecdc_previsao_{v}.png\")\n",
    "    plt.show()\n",
    "    print()\n"
   ]
  },
  {
   "cell_type": "code",
   "execution_count": null,
   "metadata": {},
   "outputs": [],
   "source": [
    "fig, axes = plt.subplots(figsize=(15,5))\n",
    "k, kk='Prediction', 'Previsão'\n",
    "axes.plot(df2.groupby(df2.index).sum().cumsum()[k], label=f\"Total {kk}\", lw=4, marker='o', markersize=8, alpha=0.5) # , color=C[v][0])\n",
    "#print(df2.groupby(df2.index).sum().cumsum()[k])\n",
    "k, kk='SecondDose', 'Vacinados'\n",
    "axes.plot(dft.groupby(dft.index).sum().cumsum()[k], label=f\"Total {kk}\", lw=4, marker='s', markersize=8, linestyle=\"--\", alpha=0.5) # , color=C[v][1], alpha=0.5)\n",
    "\n",
    "import math\n",
    "millions = math.ceil(df2.groupby(df2.index).sum().cumsum()[-1:]['Prediction'] / 1_000_000.0)\n",
    "\n",
    "for i in range(1, millions + 1):\n",
    "    plt.axhline(y=i*1000000, ls=\"--\", alpha=0.75)\n",
    "plt.xticks(list(reversed(list(reversed(list(set(list(dft.index)+list(df2.index))))))), rotation=90)\n",
    "axes.axvline(linewidth=2, ls=\"--\", color='white', alpha=0.75, x=datetime.datetime.today())\n",
    "axes.axvline(linewidth=2, ls=\"--\", color='white', alpha=0.75, x=datetime.datetime.today()+datetime.timedelta(days=28))\n",
    "axes.legend(loc=\"upper left\")\n",
    "plt.tight_layout()\n",
    "if SAVE_IMAGES: plt.savefig(f\"../../temp/vacinas_ecdc_previsao_accumulado.png\")\n",
    "plt.show()\n",
    "\n"
   ]
  },
  {
   "cell_type": "code",
   "execution_count": null,
   "metadata": {},
   "outputs": [],
   "source": [
    "# Recebidas\n",
    "\n",
    "dfr = dft[ dft['NumberDosesReceived'] > 0 ].copy()\n",
    "dfr['Resto'] = dfr['NumberDosesReceived'] - dfr['FirstDose'] - dfr['SecondDose']\n",
    "dfr = dfr.groupby(['YearWeekISO']).sum()\n",
    "axes = dfr[['FirstDose', 'SecondDose', 'NumberDosesReceived', 'Resto']].plot(figsize=(15,5))\n",
    "axes.legend(loc=\"upper left\")\n",
    "plt.show()\n"
   ]
  },
  {
   "cell_type": "code",
   "execution_count": null,
   "metadata": {},
   "outputs": [],
   "source": [
    "dft.tail(2)"
   ]
  },
  {
   "cell_type": "code",
   "execution_count": null,
   "metadata": {},
   "outputs": [],
   "source": [
    "x = dft.groupby('Vaccine').sum()\n",
    "x['stock'] = x['NumberDosesReceived'] - x['FirstDose'] - x['SecondDose'] - x['UnknownDose']\n",
    "#x = x.cumsum().tail(1)\n",
    "x['perc'] = 100 * x['stock'] / x['NumberDosesReceived']\n",
    "x"
   ]
  },
  {
   "cell_type": "code",
   "execution_count": null,
   "metadata": {},
   "outputs": [],
   "source": [
    "#recebidas=2.983.590 stock=278.957 az=127.624 34% mod=101.751 (17%) pf=49.582 2.5% \n"
   ]
  },
  {
   "cell_type": "code",
   "execution_count": null,
   "metadata": {},
   "outputs": [],
   "source": [
    "dfpt[dfpt['Vaccine'] == \"JANSS\"]\n"
   ]
  },
  {
   "cell_type": "code",
   "execution_count": null,
   "metadata": {},
   "outputs": [],
   "source": [
    "data\n"
   ]
  },
  {
   "cell_type": "code",
   "execution_count": null,
   "metadata": {},
   "outputs": [],
   "source": [
    "# paises\n",
    "# array(['BG', 'CY', 'CZ', 'DE', 'EE', 'EL', 'FI', 'FR', 'HR', 'HU', 'IE',\n",
    "#       'IT', 'LT', 'LU', 'LV', 'MT', 'NL', 'NO', 'PL', 'PT', 'SE', 'SI',\n",
    "#       'AT', 'BE', 'DK', 'ES', 'IS', 'SK', 'RO', 'LI'], dtype=object)\n",
    "#data['ReportingCountry'].unique()\n",
    "df = data[ (data['NumberDosesReceived'] > 0) & (data['TargetGroup'] == 'ALL') ]\n",
    "df = df.copy()\n",
    "\n",
    "#df.loc[df[\"ReportingCountry\"] == \"SE\", ['NumberDosesReceived','FirstDose','SecondDose']].sum()\n",
    "\n",
    "doses = df.groupby(\"ReportingCountry\")[['NumberDosesReceived','FirstDose','SecondDose']].sum().reset_index(level=0)\n",
    "pop = df[['ReportingCountry', 'Population']].drop_duplicates()\n",
    "\n",
    "\n",
    "df = doses.merge(pop, how=\"left\", on=\"ReportingCountry\")\n",
    "\n",
    "df['perc_doses'] = 100 * df['NumberDosesReceived'] / df['Population']\n",
    "df['perc_doses1'] = 100 * df['FirstDose'] / df['Population']\n",
    "df['perc_doses2'] = 100 * df['SecondDose'] / df['Population']\n",
    "\n",
    "df.sort_values(['perc_doses'], ascending=False).reset_index(drop=True)\n"
   ]
  },
  {
   "cell_type": "code",
   "execution_count": null,
   "metadata": {},
   "outputs": [],
   "source": [
    "data['Region'].unique()\n"
   ]
  },
  {
   "cell_type": "code",
   "execution_count": null,
   "metadata": {},
   "outputs": [],
   "source": [
    "dfr = dfpt[dfpt.NumberDosesReceived > 0].copy()\n",
    "dfr.set_index(\"date\", inplace=True)\n",
    "\n",
    "fig, axes = plt.subplots(figsize=(15,5))\n",
    "for vac in VACCINES:\n",
    "    axes.plot(dfr[dfr[\"Vaccine\"] == vac].NumberDosesReceived, label=VACCINES[vac], lw=4, marker='o', markersize=8, alpha=1) # , color=C[v][0])\n",
    "axes.plot(dfr.groupby([\"date\"]).sum()[\"NumberDosesReceived\"], label=\"Total\", lw=4, marker='o', markersize=8, alpha=1)\n",
    "\n",
    "axes.legend(loc=\"upper left\")\n",
    "plt.xticks(list(reversed(list(reversed(list(set(list(dfr.index))))))), rotation=90)\n",
    "plt.tight_layout()\n",
    "if SAVE_IMAGES: plt.savefig(f\"../../temp/vacinas_ecdc_recebidas.png\")\n",
    "plt.show()\n"
   ]
  },
  {
   "cell_type": "code",
   "execution_count": null,
   "metadata": {},
   "outputs": [],
   "source": [
    "dfr.groupby([\"date\"]).sum()[\"NumberDosesReceived\"] #.plot(figsize=(15,5))\n"
   ]
  },
  {
   "cell_type": "code",
   "execution_count": null,
   "metadata": {},
   "outputs": [],
   "source": [
    "dfr.groupby([\"date\", \"Vaccine\"]).sum()[\"NumberDosesReceived\"] #.plot(figsize=(15,5))\n"
   ]
  },
  {
   "cell_type": "code",
   "execution_count": null,
   "metadata": {},
   "outputs": [],
   "source": [
    "data[ data.FirstDoseRefused > 0].groupby( [\"ReportingCountry\", \"TargetGroup\"] ).sum()\n"
   ]
  },
  {
   "cell_type": "code",
   "execution_count": null,
   "metadata": {},
   "outputs": [],
   "source": [
    "for v in VACCINES:\n",
    "    temp = dfpt[dfpt['Vaccine'] == v].groupby(['date', 'TargetGroup']).sum()\n",
    "    dfv = pd.pivot_table(temp, values='FirstDose', index=\"date\", columns=\"TargetGroup\").reset_index()\n",
    "    print(f\"Vaccine {v}\")\n",
    "    print(dfv)\n"
   ]
  },
  {
   "cell_type": "code",
   "execution_count": null,
   "metadata": {},
   "outputs": [],
   "source": [
    "dfrecv = dfpt[ dfpt.NumberDosesReceived > 0] # [['date', 'Vaccine', 'NumberDosesReceived']] # .groupby(['date', 'Vaccine']) # .cumsum()\n",
    "dfrecv['resto'] = dfrecv['NumberDosesReceived'] - dfrecv['FirstDose'] - dfrecv['SecondDose']\n",
    "for vac in VACCINES:\n",
    "    temp = dfrecv[ dfrecv.Vaccine == vac ]\n",
    "    temp['resto_sum'] = temp['resto'].cumsum()\n",
    "    temp.set_index('date', inplace=True)\n",
    "    print(temp[['Vaccine', 'resto_sum']] .tail())\n",
    "\n"
   ]
  },
  {
   "cell_type": "code",
   "execution_count": null,
   "metadata": {},
   "outputs": [],
   "source": [
    "\n",
    "fig, axes = plt.subplots(figsize=(15,5))\n",
    "k, kk = 'resto_sum', 'Stock'\n",
    "idx = set()\n",
    "pd.set_option('display.expand_frame_repr', False)\n",
    "\n",
    "for v in VACCINES:\n",
    "    temp = dfrecv[ dfrecv.Vaccine == v ].copy()\n",
    "    temp[f'resto_sum_{v}'] = temp['resto'].cumsum()\n",
    "    temp.set_index('date', inplace=True)\n",
    "    idx.update(temp.index)\n",
    "    axes.plot(temp[f'resto_sum_{v}'], label=f\"{VACCINES[v]} {kk}\", lw=4, marker='o', markersize=8, alpha=1) # , color=C[v][0])\n",
    "    print(temp[['FirstDose', 'SecondDose', 'UnknownDose', 'NumberDosesReceived', 'Vaccine', 'resto', f'resto_sum_{v}']])\n",
    "\n",
    "plt.xticks(list(reversed(list(reversed(list(set(list(idx)))))[0::1])), rotation=90)\n",
    "#axes.axvline(linewidth=2, ls=\"--\", color='white', alpha=0.75, x=datetime.datetime.today())\n",
    "axes.legend(loc=\"upper left\")\n",
    "plt.tight_layout()\n",
    "if SAVE_IMAGES: plt.savefig(\"../../temp/vacinas_ecdc_stock.png\")\n",
    "plt.show()\n",
    "\n"
   ]
  },
  {
   "cell_type": "code",
   "execution_count": null,
   "metadata": {},
   "outputs": [],
   "source": [
    "dfrecv[dfrecv.Vaccine == 'JANSS']\n"
   ]
  },
  {
   "cell_type": "code",
   "execution_count": null,
   "metadata": {},
   "outputs": [],
   "source": [
    "last_date = dfrecv.date.unique()\n",
    "last_datesort()[\n",
    "last_date = last_date[-1]\n",
    "dfrecv[ dfrecv.date == last_date ]\n"
   ]
  },
  {
   "cell_type": "code",
   "execution_count": null,
   "metadata": {},
   "outputs": [],
   "source": [
    "dfr = dfpt[ (dfpt.Vaccine == 'AZ') & (dfpt.TargetGroup != 'ALL') ].copy()\n",
    "dfr.set_index(\"date\", inplace=True)\n",
    "ages = list(dfr.TargetGroup.unique())\n",
    "ages.remove('Age<18')\n",
    "ages.remove('AgeUNK')\n",
    "\n",
    "fig, axes = plt.subplots(figsize=(15,5))\n",
    "i=0\n",
    "for age in ages:\n",
    "    axes.plot(dfr[dfr[\"TargetGroup\"] == age].FirstDose, label=f\"{age} 1ª\", lw=4, marker='o', markersize=8, alpha=1) # , color=C[i])\n",
    "    axes.plot(dfr[dfr[\"TargetGroup\"] == age].SecondDose, label=f\"{age} 2ª\", lw=2, marker='o', markersize=8, alpha=0.6, color=plt.gca().lines[-1].get_color() )\n",
    "#axes.plot(dfr.groupby([\"date\"]).sum()[\"NumberDosesReceived\"], label=\"Total\", lw=4, marker='o', markersize=8, alpha=1)\n",
    "\n",
    "axes.legend(loc=\"upper left\")\n",
    "plt.xticks(list(reversed(list(reversed(list(set(list(df.index))))))), rotation=90)\n",
    "plt.tight_layout()\n",
    "if SAVE_IMAGES: plt.savefig(f\"../../temp/vacinas_ecdc_az.png\")\n",
    "plt.show()\n",
    "dfr.groupby(['TargetGroup']).sum()\n",
    "\n"
   ]
  },
  {
   "cell_type": "code",
   "execution_count": null,
   "metadata": {},
   "outputs": [],
   "source": []
  },
  {
   "cell_type": "code",
   "execution_count": null,
   "metadata": {},
   "outputs": [],
   "source": []
  }
 ]
}