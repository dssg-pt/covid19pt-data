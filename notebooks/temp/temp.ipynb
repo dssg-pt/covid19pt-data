{
 "metadata": {
  "language_info": {
   "codemirror_mode": {
    "name": "ipython",
    "version": 3
   },
   "file_extension": ".py",
   "mimetype": "text/x-python",
   "name": "python",
   "nbconvert_exporter": "python",
   "pygments_lexer": "ipython3",
   "version": "3.8.9"
  },
  "orig_nbformat": 2,
  "kernelspec": {
   "name": "python3",
   "display_name": "Python 3.8.9 64-bit"
  },
  "metadata": {
   "interpreter": {
    "hash": "31f2aee4e71d21fbe5cf8b01ff0e069b9275f58929596ceb00d14d90e3e16cd6"
   }
  },
  "interpreter": {
   "hash": "31f2aee4e71d21fbe5cf8b01ff0e069b9275f58929596ceb00d14d90e3e16cd6"
  }
 },
 "nbformat": 4,
 "nbformat_minor": 2,
 "cells": [
  {
   "source": [
    "### 1. Setup"
   ],
   "cell_type": "markdown",
   "metadata": {}
  },
  {
   "cell_type": "code",
   "execution_count": null,
   "metadata": {},
   "outputs": [],
   "source": [
    "import datetime\n",
    "import requests\n",
    "import pandas as pd\n",
    "import numpy as np\n",
    "from pathlib import Path\n",
    "\n",
    "import matplotlib.pyplot as plt\n",
    "%matplotlib inline\n",
    "plt.style.use('dark_background')\n"
   ]
  },
  {
   "cell_type": "code",
   "execution_count": null,
   "metadata": {},
   "outputs": [],
   "source": [
    "SAVE_IMAGES = True\n",
    "\n",
    "def plot(axes, title=None, file=None, ylim=None, pppp=plt, xticks=None):\n",
    "    if title: axes.set_title(title)\n",
    "    axes.legend(loc=\"upper left\")\n",
    "    axes.set_xlim(None, None)\n",
    "    axes.autoscale()\n",
    "    pppp.tight_layout()\n",
    "    if ylim: \n",
    "        if type(ylim) == int: pppp.ylim(ylim)\n",
    "        else: pppp.ylim(ylim[0], ylim[1])\n",
    "    # print(f\"ylim={ylim} type={type(ylim)} int={type(ylim)==int}\")\n",
    "    #if xticks: pppp.xticks(xticks, rotation=90)\n",
    "    if xticks: pppp.xticks(xticks)\n",
    "    if SAVE_IMAGES and file: pppp.savefig(file)\n",
    "    return pppp\n",
    "\n",
    "def f(valor, plus=False):\n",
    "    if valor is None: return None\n",
    "    valor = valor if type(valor) == int else float(valor)\n",
    "    r = format(valor, \",\").replace(\".\",\"!\").replace(\",\",\".\").replace(\"!\",\",\")\n",
    "    return f\"+{r}\" if plus and valor > 0 else r\n",
    "\n",
    "def getlastv(df, k=None):\n",
    "    df = df[k] if k else df\n",
    "    prev=-1\n",
    "    last = float(df[prev])\n",
    "    while np.isnan(last):\n",
    "        prev -= 1\n",
    "        last = float(df[prev])\n",
    "    return last\n"
   ]
  },
  {
   "cell_type": "code",
   "execution_count": null,
   "metadata": {},
   "outputs": [],
   "source": [
    "# População residente em PT final 2019, via\n",
    "# https://www.ine.pt/xportal/xmain?xpid=INE&xpgid=ine_indicadores&contecto=pi&indOcorrCod=0008273&selTab=tab0\n",
    "# Coerente com a soma da população dos concelhos, vide POP_ARS abaixo\n",
    "POP_PT = 10295909\n",
    "\n",
    "# data_concelhos_new.csv:\n",
    "# df[df.data == '11-11-2020'][[\"ars\", \"population\"]].groupby('ars').sum()\n",
    "POP_ARS = {\n",
    "    'norte':   3568835,  # 3.57M\n",
    "    'centro':  1650394,  # 1.65M\n",
    "    'lvt':     3674534,  # 3.67M\n",
    "    'alentejo': 466690,  # 0.46M\n",
    "    'algarve':  438406,  # 0.44M\n",
    "    'acores':   242796,  # 0.24M\n",
    "    'madeira':  254254,  # 0.25M\n",
    "}\n",
    "POP_IDADE = {\n",
    "    '0_9':     433332 + 461299,  #  0-04 + 05-09\n",
    "    '10_19':   507646 + 549033,  # 10-14 + 15-19\n",
    "    '20_29':   544575 + 547505,  # 20-24 + 25-29\n",
    "    '30_39':   571355 + 679093,  # 30-34 + 35-39\n",
    "    '40_49':   792670 + 782555,  # 40-44 + 45-49\n",
    "    '50_59':   747581 + 734540,  # 50-54 + 55-59\n",
    "    '60_69':   672758 + 620543,  # 60-64 + 65-69\n",
    "    '70_79':   544016 + 429107,  # 70-74 + 75-79\n",
    "    '80_plus': 352218 + 316442,  # 80-84 + 85 ou mais\n",
    "}\n",
    "#print( (POP_PT - (POP_IDADE['0_9'] + POP_IDADE['10_19']) ) * 0.7)\n",
    "print( '0_9', POP_IDADE['0_9'] )\n",
    "print( '10_19', POP_IDADE['10_19'] ) \n",
    "\n",
    "#POP_CONTINENTE=9_798_859\n",
    "#0,95172354378812\n",
    "\n",
    "IDADES = {\n",
    "  # total 10_298_253\n",
    "  '0_17': 1_701_687,\n",
    "  # adultos 8_596_566\n",
    "  # 70% 6_017_596\n",
    "  '18_24': 781_176,\n",
    "  '25_49': 3_331_561,\n",
    "  '50_64': 2_174_181,\n",
    "  '65_79': 1_628_058,\n",
    "  '80+': 681_590,\n",
    "}\n",
    "\n"
   ]
  },
  {
   "source": [
    "### 2. Get Data"
   ],
   "cell_type": "markdown",
   "metadata": {}
  },
  {
   "cell_type": "code",
   "execution_count": null,
   "metadata": {},
   "outputs": [],
   "source": [
    "# read data and reindex by date, for plots\n",
    "data = pd.read_csv(Path.cwd() / '..' / '..' / 'data.csv', parse_dates=['data'], index_col='data', dayfirst=True)\n",
    "data_amostras = pd.read_csv(Path.cwd() / '..' / '..' /'amostras.csv', parse_dates=['data'], index_col='data', dayfirst=True)\n",
    "data_vacinas = pd.read_csv(Path.cwd() / '..' / '..' /'vacinas.csv', parse_dates=['data'], index_col='data', dayfirst=True)\n",
    "data_vacinas_detalhe = pd.read_csv(Path.cwd() / '..' / '..' /'vacinas_detalhe.csv', parse_dates=['data'], index_col='data', dayfirst=True)\n",
    "\n",
    "data = data.merge(data_amostras, how='outer', on=['data'])\n",
    "data.tail(1).index, data_amostras.tail(1).index, data_vacinas.tail(1).index, data_vacinas_detalhe.tail(1).index\n"
   ]
  },
  {
   "cell_type": "code",
   "execution_count": null,
   "metadata": {},
   "outputs": [],
   "source": []
  },
  {
   "cell_type": "code",
   "execution_count": null,
   "metadata": {},
   "outputs": [],
   "source": [
    "df = data.copy()\n",
    "for idade in POP_IDADE:\n",
    "    df[f\"obitos_{idade}\"] = df[f\"obitos_{idade}_m\"] + df[f\"obitos_{idade}_f\"]\n",
    "    df[f\"obitos_{idade}_7\"] = df[f\"obitos_{idade}\"].diff(7).div(7)\n",
    "\n",
    "df[\"obitos_60_plus\"] = df[\"obitos_60_69\"] + df[\"obitos_70_79\"] + df[\"obitos_80_plus\"]\n",
    "df[\"obitos_0_29\"] = df[\"obitos_0_9\"] + df[\"obitos_10_19\"] + df[\"obitos_20_29\"]\n",
    "df[\"obitos_30_59\"] = df[\"obitos_30_39\"] + df[\"obitos_40_49\"] + df[\"obitos_50_59\"]\n",
    "cols = ['obitos_60_plus', 'obitos_30_59', 'obitos_0_29']\n",
    "for col in cols:\n",
    "    df[f\"{col}_7\"] = df[f\"{col}\"].diff(7) # .div(7)\n",
    "cols = [f\"{col}_7\" for col in cols]\n",
    "\n",
    "#cols = [f\"obitos_{col}_7\" for col in POP_IDADE]\n",
    "#cols = cols[2:5]\n",
    "#cols = cols[4:]\n",
    "axes = df[cols].plot(figsize=(20,10))\n",
    "xticks = list(reversed(list(reversed(list(df.index)))[0::1]))\n",
    "#plt.xticks(xticks, rotation=90)\n",
    "plt.xticks(list(reversed(list(reversed(list(df.index)))[0::7])), rotation=90)\n",
    "\n",
    "plot(axes, title='obitos', ylim=(0, 5), xticks=xticks).show()\n"
   ]
  },
  {
   "cell_type": "code",
   "execution_count": null,
   "metadata": {},
   "outputs": [],
   "source": [
    "df = data.copy()\n",
    "df = df.iloc[-15:]\n",
    "df['obitos_1'] = df['obitos'].diff(1)\n",
    "for idade in POP_IDADE:\n",
    "    df[f\"obitos_{idade}\"] = df[f\"obitos_{idade}_m\"] + df[f\"obitos_{idade}_f\"]\n",
    "    df[f\"obitos_{idade}_1\"] = df[f\"obitos_{idade}\"].diff(1)\n",
    "    df[f\"obitos_{idade}_m_1\"] = df[f\"obitos_{idade}_m\"].diff(1)\n",
    "    df[f\"obitos_{idade}_f_1\"] = df[f\"obitos_{idade}_f\"].diff(1)\n",
    "df[f\"obitos_m_1\"] = df[f\"obitos_m\"].diff(1)\n",
    "df[f\"obitos_f_1\"] = df[f\"obitos_f\"].diff(1)\n",
    "cols = ['obitos_1'] \n",
    "#cols = cols + [f\"obitos_m_1\", f\"obitos_f_1\"]\n",
    "cols = cols + [f\"obitos_{col}_1\" for col in POP_IDADE]\n",
    "#cols = cols + [f\"obitos_{col}_m_1\" for col in POP_IDADE]\n",
    "#cols = cols + [f\"obitos_{col}_f_1\" for col in POP_IDADE]\n",
    "df = df.iloc[::-1]\n",
    "df[cols] = df[cols].applymap(lambda x: \"\" if not x or np.isnan(x) else str(int(x)))\n",
    "#axes = df[cols].plot(figsize=(20,10))\n",
    "#plot(axes, title='obitos', ylim=(0, 3)).show()\n",
    "#print([ (col, df[0:1][col]) for col in cols if df[0:1][col][0] != '' ] )\n",
    "df[cols]\n"
   ]
  },
  {
   "cell_type": "code",
   "execution_count": null,
   "metadata": {},
   "outputs": [],
   "source": [
    "# idosos\n",
    "\n",
    "i=1\n",
    "last_df = data.iloc[-i]\n",
    "while np.isnan(last_df.obitos_0_9_m):\n",
    "    i = i+1\n",
    "    last_df = data.iloc[-i]\n",
    "    print(last_df)\n",
    "#print(data.columns)\n",
    "\n",
    "idades = list(reversed(POP_IDADE.keys()))\n",
    "for idade in idades:\n",
    "    pop = POP_IDADE[idade]\n",
    "    obitos = int(last_df[f\"obitos_{idade}_m\"] + last_df[f\"obitos_{idade}_f\"])\n",
    "    confirmados = int(last_df[f\"confirmados_{idade}_m\"] + last_df[f\"confirmados_{idade}_f\"])\n",
    "    recuperados = int(confirmados - obitos)\n",
    "    print(f\"idade={idade} pop={f(pop)}\"\n",
    "        f\" obitos={f(obitos)} ({f(round(100.0*obitos/pop, 3))}%)\"\n",
    "        f\" recuperados={f(recuperados)} ({f(round(100.0*recuperados/pop, 3))}%)\"\n",
    "        f\" confirmados={f(confirmados)} ({f(round(100.0*confirmados/pop, 3))}%)\"\n",
    "        f\" obitos/confirmados={f(round(100.0 * obitos / confirmados, 3))}% 1 em {f(confirmados // obitos)}\"\n",
    "        f\" obitos/pop={f(round(100.0 * obitos/ pop, 3))}% 1 em {f(pop // obitos)}\"\n",
    "        )\n",
    "print()\n",
    "\n",
    "last_df = data_vacinas_detalhe.iloc[-1]\n",
    "if np.isnan(last_df['populacao1_0_17']):\n",
    "    last_df = data_vacinas_detalhe.iloc[-2]\n",
    "\n",
    "for idade in reversed(['0_17', '18_24', '25_49', '50_64', '65_79','80+']):\n",
    "    pop = int(last_df[f'populacao1_{idade}'])\n",
    "    doses2 = int(last_df[f'doses2_{idade}'])\n",
    "    doses1 = int(last_df[f'doses1_{idade}'])\n",
    "    print(f\"idade={idade} pop={f(pop)} doses2={f(doses2)} ({f(round(100.0*doses2/pop, 3))}%) doses1={f(doses1)} ({f(round(100.0*doses1/pop, 3))}%)\")\n",
    "print()\n"
   ]
  },
  {
   "cell_type": "code",
   "execution_count": null,
   "metadata": {},
   "outputs": [],
   "source": [
    "df = data.copy()\n",
    "#df = df.iloc[-90:]\n",
    "for i in [7, 1]:\n",
    "    df[f'confirmados{i}'] = df['confirmados'].diff(i).div(i)\n",
    "    for k in ['', '_pcr', '_antigenio']:\n",
    "        df[f'amostras{k}{i}'] = df[f'amostras{k}'].diff(i).div(i)\n",
    "\n",
    "fig, axes = plt.subplots(figsize=(15,5))\n",
    "\n",
    "axes.plot(df['amostras7'], lw=4, color=\"red\", label='amostras total')\n",
    "axes.plot(df['amostras_pcr7'], lw=4, color=\"orange\", label='amostras pcr')\n",
    "axes.plot(df['amostras_antigenio7'], lw=4, color=\"brown\", label='amostras antigenio')\n",
    "#last = float(df['amostras7'][-1])\n",
    "#axes.axhline(linewidth=2, ls=\"--\", color='white', y=last)\n",
    "#axes.axhline(linewidth=2, ls=\"--\", color='white', y=22000)\n",
    "plt.ylabel('amostras', color=\"red\")\n",
    "\n",
    "axR = axes.twinx()\n",
    "axR.plot(df['confirmados7'], lw=4, color=\"yellow\", label='confirmados')\n",
    "plt.ylabel('confirmados', color=\"yellow\")\n",
    "\n",
    "last_confirmados = int(getlastv(df['confirmados7']))\n",
    "last_amostras = int(getlastv(df['amostras7']))\n",
    "axR.axhline(linewidth=2, ls=\"--\", color='yellow', alpha=0.5, y=last_confirmados)\n",
    "axes.axhline(linewidth=2, ls=\"--\", color='red', alpha=0.5, y=last_amostras)\n",
    "\n",
    "xticks = list(reversed(list(reversed(list(df.index)))[0::56]))\n",
    "plt = plot(axes, ylim=(0, None), title=f'Amostras {f(last_amostras)} vs. Confirmados {f(last_confirmados)}', xticks=xticks, file=f\"../../temp/diario_amostras_vs_confirmados.png\")\n",
    "plt.show()\n"
   ]
  },
  {
   "cell_type": "code",
   "execution_count": null,
   "metadata": {},
   "outputs": [],
   "source": [
    "for k in ['', '_pcr', '_antigenio']:\n",
    "    df[f'positividade{k}'] = 100.0 * df[f'confirmados1'] / df[f'amostras{k}1']\n",
    "    df[f'positividade{k}7'] = 100.0 * df[f'confirmados7'] / df[f'amostras{k}7']\n",
    "df[['confirmados_novos', 'amostras_novas', 'positividade']].tail()\n"
   ]
  },
  {
   "cell_type": "code",
   "execution_count": null,
   "metadata": {},
   "outputs": [],
   "source": [
    "dfc = df\n",
    "ymax = 21\n",
    "for i in [0,1]:\n",
    "    for k in ['']: # , '_pcr', '_antigenio']:\n",
    "        dfb = df\n",
    "        df = df.iloc[-60:] if i else df\n",
    "        fig, axes = plt.subplots(figsize=(15,5))\n",
    "\n",
    "        axes.plot(df[f'positividade{k}'], label=\"positividade{k}\")\n",
    "        axes.plot(df[f'positividade{k}7'], label=\"positividade{k} 7 dias\")\n",
    "        axes.axhline(linewidth=2, ls=\"--\", color='red', alpha=0.5, y=4)\n",
    "\n",
    "        #axes.plot(df[f'ativos'] * ymax / df[f'ativos'].max(), label=\"ativos\", lw=2)\n",
    "        #axes.plot(df[f'vigilancia'] * ymax / df[f'vigilancia'].max(), label=\"vigilancia\", lw=2)\n",
    "\n",
    "        last_positividade = getlastv(df[f'positividade{k}7'])\n",
    "        axes.axhline(linewidth=2, ls=\"--\", color='yellow', alpha=0.5, y=last_positividade)\n",
    "        last_positividade1 = getlastv(df[f'positividade{k}'])\n",
    "        axes.axhline(linewidth=2, ls=\"--\", color='yellow', alpha=0.5, y=last_positividade1)\n",
    "\n",
    "        xticks = list(reversed(list(reversed(list(df.index)))[0::7 if i else 56]))\n",
    "        suffix = \"_all\" if i == 0 else \"\"\n",
    "        plt = plot(axes, ylim=(0, ymax), title=f'Positividade{k} 7 dias: {f(round(last_positividade, 2))} diário {f(round(last_positividade1, 2))}', xticks=xticks, file=f\"../../temp/diario_positividade{k}{suffix}.png\")\n",
    "        plt.show()\n",
    "        df = dfb\n",
    "df=dfc"
   ]
  },
  {
   "cell_type": "code",
   "execution_count": null,
   "metadata": {},
   "outputs": [],
   "source": [
    "df[['confirmados_novos', 'confirmados7', 'amostras']]"
   ]
  },
  {
   "cell_type": "code",
   "execution_count": null,
   "metadata": {},
   "outputs": [],
   "source": [
    "data['confirmados14'] = data.confirmados.diff(14)\n",
    "data['incidencia'] = data.confirmados.diff(14) * 100000 / POP_PT\n",
    "data[['confirmados14', 'incidencia']].tail()\n"
   ]
  },
  {
   "source": [
    "### 3. Casos acumulados 90 dias\n",
    "Asumindo as diretrizes da DGS de provavel imunidade de 90 dias, calcula os casos acumulados em 90 dias (total e 80+), os óbitos em 90 dias (total e 80+), portanto resultando aproximadamente nos recuperados e potenciais imunes para esse período.\n"
   ],
   "cell_type": "markdown",
   "metadata": {}
  },
  {
   "cell_type": "code",
   "execution_count": null,
   "metadata": {},
   "outputs": [],
   "source": [
    "df = data.copy()\n",
    "\n",
    "# Acumulado de confirmados durante 90 dias, total e 80+ (f+m), e percentagem entre ambos\n",
    "\n",
    "# Cálculo confirmados 90 dias\n",
    "df['confirmados_90d'] = df.confirmados.diff(90)\n",
    "# Cálculo confirmados 90 dias para 80+\n",
    "df['confirmados_80_plus_90d'] = (df.confirmados_80_plus_f + df.confirmados_80_plus_m).diff(90)\n",
    "# Cálculo percentagem 80+ por total\n",
    "# df['confirmados_perc'] = 100.0 * df.confirmados_80_plus_90d / df.confirmados_90d\n",
    "\n",
    "# Acumulado de óbitos durante 90 dias, total e 80+ (f+m), e percentagem entre ambos\n",
    "\n",
    "# Cálculo óbitos 90 dias\n",
    "df['obitos_90d'] = df.obitos.diff(90)\n",
    "# Cálculo óbitos 90 dias para 80+\n",
    "df['obitos_80_plus_90d'] = (df.obitos_80_plus_f + df.obitos_80_plus_m).diff(90)\n",
    "# Cálculo percentagem 80+ por total\n",
    "# df['obitos_perc'] = 100.0 * df.obitos_80_plus_90d / df.obitos_90d\n",
    "\n",
    "# Cálculo recuperados (confirmados menos óbitos) 90 dias\n",
    "df['Recuperados 90d'] = df.confirmados_90d - df.obitos_90d\n",
    "# Cálculo recupreados (confirmados menos óbitos) 90 dias para 80+\n",
    "df['Recuperados 80+ 90d'] = df.confirmados_80_plus_90d - df.obitos_80_plus_90d\n",
    "\n",
    "# Cálculo recuperados (confirmados menos óbitos) 90 dias\n",
    "df['% Recuperados 90d'] = 100.0 * df['Recuperados 90d'] / POP_PT\n",
    "# Cálculo recupreados (confirmados menos óbitos) 90 dias para 80+\n",
    "df['% Recuperados 80+ 90d'] = 100 * df['Recuperados 80+ 90d'] / POP_IDADE['80_plus']\n",
    "\n",
    "\n",
    "# Discard first 89 days\n",
    "df = df[ df['confirmados_90d'].notnull() ]\n",
    "\n",
    "df_90d = df\n"
   ]
  },
  {
   "cell_type": "code",
   "execution_count": null,
   "metadata": {},
   "outputs": [],
   "source": [
    "df = df_90d # Ordem temporal inversa e mostra ultimos 7 dias\n",
    "df[[\n",
    "    'Recuperados 90d', 'Recuperados 80+ 90d',\n",
    "    '% Recuperados 90d', '% Recuperados 80+ 90d',\n",
    "    'confirmados_90d', 'confirmados_80_plus_90d', # 'confirmados_perc',\n",
    "    'obitos_90d', 'obitos_80_plus_90d', # 'obitos_perc', \n",
    "    ]].iloc[::-1].head(7)\n"
   ]
  },
  {
   "cell_type": "code",
   "execution_count": null,
   "metadata": {},
   "outputs": [],
   "source": [
    "df = df_90d\n",
    "df[[\n",
    "    'Recuperados 90d', 'Recuperados 80+ 90d',\n",
    "    'confirmados_90d', 'confirmados_80_plus_90d', # 'confirmados_perc',\n",
    "    'obitos_90d', 'obitos_80_plus_90d', # 'obitos_perc', \n",
    "    ]].plot(figsize=(15,5))\n",
    "plot(axes, title='recuperados').show()\n",
    "print()\n",
    "axes = df[[\n",
    "    # 'confirmados_perc', 'obitos_perc',\n",
    "    '% Recuperados 90d', '% Recuperados 80+ 90d',\n",
    "]].plot(figsize=(15,5))\n",
    "\n",
    "xticks = None # list(reversed(list(reversed(list(df.index)))[0::7]))\n",
    "plot(axes, title='recuperados', xticks=xticks).show()\n"
   ]
  },
  {
   "source": [
    "### FOOO"
   ],
   "cell_type": "markdown",
   "metadata": {}
  },
  {
   "cell_type": "code",
   "execution_count": null,
   "metadata": {},
   "outputs": [],
   "source": [
    "# Quando é \"há 14 dias\"\n",
    "df = data.copy()\n",
    "df['past'] = df.data_dados.apply(lambda x: datetime.datetime.strptime(x, \"%d-%m-%Y %H:%M\") - datetime.timedelta(days=14))\n",
    "df[ ['past'] ].tail(3)\n"
   ]
  },
  {
   "cell_type": "code",
   "execution_count": null,
   "metadata": {},
   "outputs": [],
   "source": [
    "# Madeira\n",
    "#datetime.datetime.today() - datetime.timedelta(days=14)\n",
    "#(7382-6621) * 100_000 / 254254 # 03-17 304,4\n",
    "#(7432-6680) * 100_000 / 254254 # 04-18 300,8\n",
    "#(7478-6746) * 100_000 / 254254 # 05-19 292,8\n",
    "#(7537-6799) * 100_000 / 254254 # 06-20 295,2\n",
    "#(7570-6861) * 100_000 / 254254 # 07-03->21-02 # 279\n",
    "(7613-6904) * 100_000 / 254254 # 08-03->22-02 # 279\n",
    "\n"
   ]
  },
  {
   "cell_type": "code",
   "execution_count": null,
   "metadata": {},
   "outputs": [],
   "source": [
    "name=\"\"\n",
    "val1=-3023.0\n",
    "val2=-829.0\n",
    "# diff=-2194.0 perc=1.377848678213309\n",
    "\n",
    "diff = val1 - val2\n",
    "\n",
    "max(abs(val1), abs(val2))\n",
    "#perc = max(abs(val1), abs(val2)) / abs(diff) if diff else 0\n",
    "#print(f\"name={name} val1={val1} val2={val2} diff={diff} perc={perc}\")\n",
    "#print( diff if perc > 5 else 0 )\n",
    "\n"
   ]
  },
  {
   "cell_type": "code",
   "execution_count": null,
   "metadata": {},
   "outputs": [],
   "source": [
    "#df.confirmados.diff(14)\n",
    "#810094 - 12569.0 # 797525\n",
    "#df.confirmados_novos.tail(14).head(14).sum()\n",
    "df.tail(15).head(1)\n",
    "# 07 -> 21\n"
   ]
  },
  {
   "cell_type": "code",
   "execution_count": null,
   "metadata": {},
   "outputs": [],
   "source": [
    "data[ [ x for x in data.columns if x.startswith(\"obitos_\") and x[-1] in [\"f\",\"m\"]]].diff(1).tail(2)\n"
   ]
  },
  {
   "cell_type": "code",
   "execution_count": null,
   "metadata": {},
   "outputs": [],
   "source": [
    "#data.columns\n",
    "data.head()"
   ]
  },
  {
   "cell_type": "code",
   "execution_count": null,
   "metadata": {},
   "outputs": [],
   "source": [
    "df = data.copy()\n",
    "\n",
    "df['confirmados_1'] = df['confirmados'].diff(1).div(1)\n",
    "df['confirmados_7'] = df['confirmados'].diff(7).div(7)\n",
    "df['confirmados_14'] = df['confirmados'].diff(14).div(14)\n",
    "\n",
    "df['confirmados_segunda_derivada_1'] = df['confirmados_1'].div(df['confirmados_1'].shift(1))\n",
    "df['confirmados_segunda_derivada_7'] = df['confirmados_7'].div(df['confirmados_7'].shift(1))\n",
    "df['confirmados_segunda_derivada_14'] = df['confirmados_14'].div(df['confirmados_14'].shift(1))\n",
    "\n",
    "df = df.iloc[-15:]\n",
    "axes = df[[\n",
    "    'confirmados_segunda_derivada_1',\n",
    "    'confirmados_segunda_derivada_7',\n",
    "    'confirmados_segunda_derivada_14',\n",
    "    ]].plot(kind='line', title='Variação confirmados \"Rt\" média 7 dias', linestyle='--', marker='o', rot=0, fontsize=8, figsize=(15,5))\n",
    "axes.axhline(linewidth=1, color='grey', y=1, lw=2)\n",
    "axes.axhline(linewidth=1, color='yellow', y=0.75)\n",
    "axes.axhline(linewidth=1, color='green', y=0.50)\n",
    "axes.axhline(linewidth=1, color='orange', y=1.25)\n",
    "axes.axhline(linewidth=1, color='red', y=1.50)\n",
    "plot(axes, ylim=(0.25, 1.75)).show()\n"
   ]
  },
  {
   "cell_type": "code",
   "execution_count": null,
   "metadata": {},
   "outputs": [],
   "source": [
    "df = data.copy()\n",
    "\n",
    "cols = [x for x in df.columns if x.startswith(\"confirmados_\") and x != 'confirmados_novos']\n",
    "for col in cols:\n",
    "    df[f'{col}_7'] = df[col].diff(7).div(7)\n",
    "    df[f'{col}_7_1'] = df[f'{col}_7'].diff()\n",
    "\n",
    "cols2 = [f'{col}_7_1' for col in cols]\n",
    "foo = df[cols2].tail(1).transpose()\n",
    "foo.columns = ['foo']\n",
    "foo = foo[ foo.foo > 0 ] #.sort_values('foo')\n",
    "foo = foo.transpose()\n",
    "\n",
    "df = df.iloc[-14:]\n",
    "axes = df[\n",
    "    cols2\n",
    "    #[col for col in foo.columns if col != 'confirmados_madeira_7_1']\n",
    "].plot(kind='line', title='Confirmados média 7 dias', linestyle='--', marker='o', rot=0, fontsize=8, figsize=(15,10))\n",
    "axes.axhline(linewidth=1, color='grey')\n",
    "plot(axes).show()\n"
   ]
  },
  {
   "cell_type": "code",
   "execution_count": null,
   "metadata": {},
   "outputs": [],
   "source": [
    "c = df[-1:][ [ f\"{col}_7_1\" for col in cols]].transpose() # .sort_values(by=1)\n",
    "c.columns = ['val']\n",
    "#c.drop('data_dados', inplace=True)\n",
    "c = c.sort_values('val', ascending=False)\n",
    "c\n"
   ]
  },
  {
   "cell_type": "code",
   "execution_count": null,
   "metadata": {},
   "outputs": [],
   "source": [
    "# Ativos going up\n",
    "\n",
    "df = data.copy()\n",
    "\n",
    "df['ativos7'] = df.ativos.diff(7)\n",
    "df['ativos1'] = df.ativos.diff(1)\n",
    "df['recuperados7'] = df.recuperados.diff(7)\n",
    "df['recuperados1'] = df.recuperados.diff(1)\n",
    "df['obitos7'] = df.obitos.diff(7)\n",
    "df['obitos1'] = df.obitos.diff(1)\n",
    "df = df.iloc[-90:]\n",
    "axes = df[[\n",
    "    #'obitos7', 'obitos1',\n",
    "    'ativos7', # 'ativos1', \n",
    "    'recuperados7', # 'recuperados1'\n",
    "    ]].plot(kind='line', title='Ativos', linestyle='--', marker='o', rot=0, fontsize=8, figsize=(15,5))\n",
    "plot(axes).show()\n"
   ]
  },
  {
   "cell_type": "code",
   "execution_count": null,
   "metadata": {},
   "outputs": [],
   "source": []
  },
  {
   "cell_type": "code",
   "execution_count": null,
   "metadata": {},
   "outputs": [],
   "source": [
    "df = data.copy()\n",
    "\n",
    "for i in [1, 7, 14]:\n",
    "    df[f'internados{i}'] = df['internados'].diff(i).div(i)\n",
    "    df[f'internados_uci{i}'] = df['internados_uci'].diff(i).div(i)\n",
    "    df[f'internados_enfermaria{i}'] = df['internados_enfermaria'].diff(i).div(i)\n",
    "df['internados7_diff'] = df['internados7'].diff(1)\n",
    "df['internados_uci7_diff'] = df['internados_uci7'].diff(1)\n",
    "df['internados_enfermaria7_diff'] = df['internados_enfermaria7'].diff(1)\n",
    "#df = df.iloc[-90:]\n",
    "#df = df.iloc[-60:]\n",
    "df_internados = df\n"
   ]
  },
  {
   "cell_type": "code",
   "execution_count": null,
   "metadata": {},
   "outputs": [],
   "source": [
    "for i in [0,1]:\n",
    "    df = df_internados\n",
    "    df = df.iloc[-60:] if i else df\n",
    "    last1, last7 = round(float(df['internados_enfermaria1'][-1]), 1), round(float(df['internados_enfermaria7'][-1]), 1)\n",
    "    fig, axes = plt.subplots(figsize=(15,5))\n",
    "    for k in [\n",
    "        ('internados_enfermaria7', 'Enfermaria Média 7 dias'),\n",
    "        ('internados_enfermaria1', 'Enfermaria Variação Diária'),\n",
    "        ('internados_enfermaria7_diff', 'Enfermaria Variação 7 dias'),\n",
    "        ('internados_enfermaria14', 'Enfermaria Média 14 dias'),\n",
    "        #'internados_enfermaria',\n",
    "        ]:\n",
    "        k,v = k\n",
    "        alpha = 0.5 if k.endswith('1') else 1\n",
    "        lw = 4 if i or k.endswith('7') else 1 if k.endswith('1') or k.endswith('diff') else 2\n",
    "        marker = 'o' if i else ''\n",
    "        if k == 'internados_uci7_diff' and not i: alpha=0.1\n",
    "        axes.plot(df[k], label=v, marker=marker, lw=lw, alpha=alpha)\n",
    "    axes.axhline(linewidth=1, color='red', y=0)\n",
    "    xticks = list(reversed(list(reversed(list(df.index)))[0::7 if i else 56]))\n",
    "    suffix = \"_all\" if i == 0 else \"\"\n",
    "    plot(axes, xticks=xticks, file=f\"../../temp/variacao_enfermaria{suffix}.png\", ylim=(-20, 40), title=f'Internados Enfermaria, 1 ({last1}) e 7 ({last7}) dias').show()\n"
   ]
  },
  {
   "cell_type": "code",
   "execution_count": null,
   "metadata": {},
   "outputs": [],
   "source": [
    "for i in [0,1]:\n",
    "    df = df_internados\n",
    "    df = df.iloc[-60:] if i else df\n",
    "    last1, last7 = round(float(df['internados_uci1'][-1]), 1), round(float(df['internados_uci7'][-1]), 1)\n",
    "    fig, axes = plt.subplots(figsize=(15,5))\n",
    "    for k in [\n",
    "        ('internados_uci7', 'UCI Média 7 dias'),\n",
    "        ('internados_uci1', 'UCI Variação Diária'),\n",
    "        ('internados_uci7_diff', 'UCI Variação 7 dias'),\n",
    "        ('internados_uci14', 'UCI Média 14 dias'),\n",
    "        #'internados_uci',\n",
    "        ]:\n",
    "        k,v = k\n",
    "        alpha = 0.5 if k.endswith('1') else 1\n",
    "        lw = 4 if i or k.endswith('7') else 1 if k.endswith('1') or k.endswith('diff') else 2\n",
    "        marker = 'o' if i else ''\n",
    "        if k == 'internados_uci7_diff' and not i: alpha=0.1\n",
    "        axes.plot(df[k], label=v, marker=marker, lw=lw, alpha=alpha)\n",
    "    axes.axhline(linewidth=1, color='red', y=0)\n",
    "    xticks = list(reversed(list(reversed(list(df.index)))[0::7 if i else 56]))\n",
    "    suffix = \"_all\" if i == 0 else \"\"\n",
    "    plot(axes, xticks=xticks, file=f\"../../temp/variacao_uci{suffix}.png\", ylim=(-10, 10), title=f'Internados UCI, 1 ({last1}) e 7 ({last7}) dias',).show()\n"
   ]
  },
  {
   "cell_type": "code",
   "execution_count": null,
   "metadata": {},
   "outputs": [],
   "source": [
    "for i in [0,1]:\n",
    "    df = df_internados\n",
    "    df = df.iloc[-60:] if i else df\n",
    "    fig, axes = plt.subplots(figsize=(15,5))\n",
    "\n",
    "    axes.plot(df['internados_enfermaria'], color=\"yellow\", marker='o', lw=4, label=\"Enfermaria\")\n",
    "    #plt.ylabel('Enfermaria', color=\"yellow\")\n",
    "    #plt.ylim(0, None)\n",
    "\n",
    "    axR = axes\n",
    "    #axR = axes.twinx()\n",
    "    axR.plot(df['internados_uci'], marker='o', lw=4, color=\"red\", label='UCI')\n",
    "    #plt.ylabel('UCI', color=\"red\")\n",
    "\n",
    "    ymax=0\n",
    "    lastv={}\n",
    "    for k in ['internados_enfermaria', 'internados_uci']:\n",
    "        prev=-1\n",
    "        last = float(df[k][prev])\n",
    "        while np.isnan(last):\n",
    "            prev -= 1\n",
    "            last = float(df[k][prev])\n",
    "        lastv[k] = int(last)\n",
    "        ax = axR if k == 'internados_uci' else axes\n",
    "        color = 'red' if k == 'internados_uci' else 'yellow'\n",
    "        ax.axhline(linewidth=2, ls=\"--\", color=color, alpha=0.5, y=last)\n",
    "        ymax = max(last*1.2, ymax)\n",
    "    ymax=None\n",
    "    xticks = list(reversed(list(reversed(list(df.index)))[0::7 if i else 56]))\n",
    "    suffix = \"_all\" if i == 0 else \"\"\n",
    "    plt = plot(axes, xticks=xticks, ylim=(0, ymax), title=f'Internados Enfermaria {lastv[\"internados_enfermaria\"]} e UCI {lastv[\"internados_uci\"]}', file=f\"../../temp/diario_internados{suffix}.png\")\n",
    "    plt.show()\n"
   ]
  },
  {
   "cell_type": "code",
   "execution_count": null,
   "metadata": {},
   "outputs": [],
   "source": [
    "#df['internados_enfermaria'].tail(14)\n",
    "#df['internados_uci'].tail(14)\n",
    "#(122-97)/14\n",
    "df[ df.index == '2021-01-15' ][['internados_enfermaria', 'internados_uci']]\n"
   ]
  },
  {
   "cell_type": "code",
   "execution_count": null,
   "metadata": {},
   "outputs": [],
   "source": [
    "#[col for col in df.columns if '14' in col]\n",
    "df['internados_enfermaria14'].tail(20)\n"
   ]
  },
  {
   "source": [
    "### ---"
   ],
   "cell_type": "markdown",
   "metadata": {}
  },
  {
   "cell_type": "code",
   "execution_count": null,
   "metadata": {},
   "outputs": [],
   "source": [
    "# passado melhor que hoje\n",
    "df = data.copy()\n",
    "df['confirmados7'] = df.confirmados.diff(7).div(7)\n",
    "df['obitos7'] = df.obitos.diff(7).div(7)\n",
    "df['confirmados1'] = df.confirmados.diff(1).div(1)\n",
    "df['obitos1'] = df.obitos.diff(1).div(1)\n",
    "\n",
    "last = df.tail(1)[['confirmados1', 'confirmados7', 'obitos1', 'obitos7']]\n",
    "last"
   ]
  },
  {
   "cell_type": "code",
   "execution_count": null,
   "metadata": {},
   "outputs": [],
   "source": [
    "last_confirmados = int(last['confirmados7'])\n",
    "df['melhor_que_hoje'] = df.confirmados7 * (df.confirmados7 < last_confirmados)\n",
    "df[['melhor_que_hoje']].plot(figsize=(15,4), title=f'Dias com confirmados melhor que hoje, média {last_confirmados}')\n"
   ]
  },
  {
   "cell_type": "code",
   "execution_count": null,
   "metadata": {},
   "outputs": [],
   "source": [
    "last_obitos = int(last['obitos7'])\n",
    "df['melhor_que_hoje'] = df.obitos7 * (df.obitos7 < last_obitos)\n",
    "df[['melhor_que_hoje']].plot(figsize=(15,4), title=f'Dias com óbitos melhor que hoje (<{last_obitos})')\n"
   ]
  },
  {
   "cell_type": "code",
   "execution_count": null,
   "metadata": {},
   "outputs": [],
   "source": [
    "last_internados = int(df.tail(1).internados)\n",
    "df['melhor_que_hoje'] = df.internados * (df.internados < last_internados)\n",
    "df[['melhor_que_hoje']].plot(figsize=(15,4), title=f'Dias com internados melhor que hoje (<{last_internados})')\n",
    "plt.show()\n"
   ]
  },
  {
   "cell_type": "code",
   "execution_count": null,
   "metadata": {},
   "outputs": [],
   "source": [
    "last_internados_enfermaria = int(df.tail(1).internados_enfermaria)\n",
    "df['melhor_que_hoje'] = df.internados_enfermaria * (df.internados_enfermaria < last_internados_enfermaria)\n",
    "df[['melhor_que_hoje']].plot(figsize=(15,4), title=f'Dias com internados enfermaria melhor que hoje (<{last_internados_enfermaria})')\n",
    "plt.show()\n"
   ]
  },
  {
   "cell_type": "code",
   "execution_count": null,
   "metadata": {},
   "outputs": [],
   "source": [
    "last_internados_uci = int(df.tail(1).internados_uci)\n",
    "df['melhor_que_hoje'] = df.internados_uci * (df.internados_uci < last_internados_uci)\n",
    "df[['melhor_que_hoje']].plot(figsize=(15,4), title=f'Dias com internados UCI melhor que hoje (<{last_internados_uci})')\n",
    "plt.show()\n"
   ]
  },
  {
   "cell_type": "code",
   "execution_count": null,
   "metadata": {},
   "outputs": [],
   "source": [
    "#----"
   ]
  },
  {
   "cell_type": "code",
   "execution_count": null,
   "metadata": {},
   "outputs": [],
   "source": [
    "df = data.copy()\n",
    "df['confirmados1'] = df.confirmados.diff(1).div(1)\n",
    "df['obitos1'] = df.obitos.diff(1).div(1)\n",
    "df['confirmados7'] = df.confirmados.diff(7).div(7)\n",
    "df['obitos7'] = df.obitos.diff(7).div(7)\n"
   ]
  },
  {
   "cell_type": "code",
   "execution_count": null,
   "metadata": {},
   "outputs": [],
   "source": [
    "df[ df.index == '2020-04-01' ][['confirmados1', 'confirmados7', 'obitos1', 'obitos7', 'internados', 'internados_uci']]\n"
   ]
  },
  {
   "cell_type": "code",
   "execution_count": null,
   "metadata": {},
   "outputs": [],
   "source": [
    "df[ df.index == '2020-05-01' ][['confirmados1', 'confirmados7', 'obitos1', 'obitos7', 'internados', 'internados_uci']]\n"
   ]
  },
  {
   "cell_type": "code",
   "execution_count": null,
   "metadata": {},
   "outputs": [],
   "source": [
    "df[ df.index == '2020-06-01' ][['confirmados1', 'confirmados7', 'obitos1', 'obitos7', 'internados', 'internados_uci']]\n"
   ]
  },
  {
   "cell_type": "code",
   "execution_count": null,
   "metadata": {},
   "outputs": [],
   "source": [
    "df = data.copy()\n",
    "df['confirmados7'] = df.confirmados.diff(7).div(7)\n",
    "df['obitos7'] = df.obitos.diff(7).div(7)\n",
    "df['confirmados1'] = df.confirmados.diff(1).div(1)\n",
    "df['obitos1'] = df.obitos.diff(1).div(1)\n",
    "df.tail(1)[['confirmados7', 'confirmados1', 'obitos7', 'obitos1']]\n"
   ]
  },
  {
   "cell_type": "code",
   "execution_count": null,
   "metadata": {},
   "outputs": [],
   "source": [
    "flatten = lambda t: [item for sublist in t for item in sublist]\n",
    "idades = ['0_9', '10_19', '20_29', '30_39', '40_49', '50_59', '60_69', '70_79', '80_plus']\n",
    "\n",
    "if False:\n",
    "    df = data.copy()\n",
    "    for k in idades:\n",
    "        df[f'confirmados_{k}'] = df[f'confirmados_{k}_f'] + df[f'confirmados_{k}_m']\n",
    "    cols = [f'confirmados_{k}' for k in idades]\n",
    "\n",
    "    df[cols] # .diff(14).tail(30)\n"
   ]
  },
  {
   "cell_type": "code",
   "execution_count": null,
   "metadata": {},
   "outputs": [],
   "source": [
    "#df_amostras.tail(30)['amostras_novas'].plot(kind='line', title='Ativos', linestyle='--', marker='o', rot=0, fontsize=8, figsize=(15,4))\n",
    "#df_amostras['amostras7']=df_amostras.amostras.diff(7)\n",
    "#df_amostras.tail(10)\n",
    "\n",
    "#df['confirmados14']=df.confirmados.diff(14)\n",
    "#df.confirmados14.tail(14) * 100_000 / 10295909\n"
   ]
  },
  {
   "cell_type": "code",
   "execution_count": null,
   "metadata": {},
   "outputs": [],
   "source": []
  },
  {
   "cell_type": "code",
   "execution_count": null,
   "metadata": {},
   "outputs": [],
   "source": [
    "df = data.copy()\n",
    "\n",
    "df['confirmados_madeira14'] = df.confirmados_madeira.diff(14).div(14)\n",
    "df['confirmados_madeira7'] = df.confirmados_madeira.diff(7).div(7)\n",
    "df['confirmados_madeira1'] = df.confirmados_madeira.diff(1)\n",
    "df = df.iloc[-90:]\n",
    "axes = df[[\n",
    "    'confirmados_madeira1',\n",
    "    'confirmados_madeira7',\n",
    "    #'confirmados_madeira14',\n",
    "]].plot(kind='line', title='Confirmados Madeira, diários, média 7 e 14 dias', linestyle='--', marker='o', rot=0, fontsize=8, figsize=(15,4))\n",
    "plot(axes).show()\n"
   ]
  },
  {
   "cell_type": "code",
   "execution_count": null,
   "metadata": {},
   "outputs": [],
   "source": [
    "df.confirmados_madeira1.tail(10)\n"
   ]
  },
  {
   "cell_type": "code",
   "execution_count": null,
   "metadata": {},
   "outputs": [],
   "source": [
    "df = data.copy()\n",
    "\n",
    "df['confirmados7'] = df.confirmados.diff(7).div(7)\n",
    "df['confirmados1'] = df.confirmados.diff(1)\n",
    "df = df.iloc[-90:]\n",
    "axes = df[['confirmados1', 'confirmados7']].plot(kind='line', title='Confirmados', linestyle='--', marker='o', rot=0, fontsize=8, figsize=(15,4))\n",
    "plot(axes).show()\n"
   ]
  },
  {
   "cell_type": "code",
   "execution_count": null,
   "metadata": {},
   "outputs": [],
   "source": [
    "df = data.copy()\n",
    "df['dom-sab'] = df.data_dados.apply(lambda x: datetime.datetime.strptime(x, \"%d-%m-%Y %H:%M\").weekday() * 100 / 6)\n",
    "\n",
    "df['internados_enfermaria1'] = df.internados.diff(1)\n",
    "df = df.iloc[-90:]\n",
    "axes = df[['dom-sab', 'internados_enfermaria1']].plot(kind='line', title='Enfermaria', linestyle='--', marker='o', rot=0, fontsize=8, figsize=(15,4))\n",
    "axes.axhline(linewidth=1, color='grey')\n",
    "plot(axes).show()\n"
   ]
  },
  {
   "cell_type": "code",
   "execution_count": null,
   "metadata": {},
   "outputs": [],
   "source": [
    "\n",
    "(df['confirmados'] / df['amostras']).tail(10)\n"
   ]
  },
  {
   "cell_type": "code",
   "execution_count": null,
   "metadata": {},
   "outputs": [],
   "source": [
    "# group by\n",
    "flatten = lambda t: [item for sublist in t for item in sublist]\n",
    "idades = ['0_9', '10_19', '20_29', '30_39', '40_49', '50_59', '60_69', '70_79', '80_plus']\n"
   ]
  },
  {
   "cell_type": "code",
   "execution_count": null,
   "metadata": {},
   "outputs": [],
   "source": [
    "df = data.copy()\n",
    "\n",
    "cols_obitos_lt50 = flatten([ [f\"obitos_{x}_f\", f\"obitos_{x}_m\"] for x in idades[0:5]])\n",
    "obitos_lt50 = int(df.loc[:, cols_obitos_lt50].diff(1).sum(axis=1).tail(1))\n",
    "obitos_lt50_7d = int(df.loc[:, cols_obitos_lt50].diff(7).sum(axis=1).tail(1))\n",
    "\n",
    "obitos_lt50, obitos_lt50_7d\n"
   ]
  },
  {
   "cell_type": "code",
   "execution_count": null,
   "metadata": {},
   "outputs": [],
   "source": [
    "df = data.copy()\n",
    "\n",
    "o40 = flatten([ [f\"obitos_{x}_f\", f\"obitos_{x}_m\"] for x in idades[0:5]])\n",
    "# print(o40)\n",
    "o = df.loc[:, o40].diff(1).sum(axis=1).tail(1)\n",
    "print(f\"obitos <= 49 = {int(o)}\")\n",
    "\n",
    "p60 = flatten([ [f\"confirmados_{x}_f\", f\"confirmados_{x}_m\"] for x in idades[6:]])\n",
    "m60 = flatten([ [f\"confirmados_{x}_f\", f\"confirmados_{x}_m\"] for x in idades[:6]])\n",
    "# print(m60, p60)\n",
    "\n",
    "a=df.loc[:, p60].diff(1).sum(axis=1).tail(1)\n",
    "print(int(a))\n",
    "b=df.loc[:, m60].diff(1).sum(axis=1).tail(1)\n",
    "print(int(b))\n",
    "print(int(a+b))\n",
    "print(int(df.tail(1).confirmados_novos))"
   ]
  },
  {
   "cell_type": "code",
   "execution_count": null,
   "metadata": {},
   "outputs": [],
   "source": []
  },
  {
   "cell_type": "code",
   "execution_count": null,
   "metadata": {},
   "outputs": [],
   "source": [
    "#DATA_FILEPATH = Path.cwd() / '..' / 'data_concelhos_new.csv'\n",
    "#data = pd.read_csv(DATA_FILEPATH)\n",
    "\n",
    "#df = data.copy()\n",
    "#df = df[df.data == '11-11-2020'][[\"ars\", \"population\"]]\n",
    "#df.groupby('ars').sum()\n"
   ]
  },
  {
   "cell_type": "code",
   "execution_count": null,
   "metadata": {},
   "outputs": [],
   "source": []
  },
  {
   "cell_type": "code",
   "execution_count": null,
   "metadata": {},
   "outputs": [],
   "source": [
    "df = data.copy()\n",
    "df['confirmados_14'] = df.confirmados.diff(14)\n",
    "df['confirmados_7'] = df.confirmados.diff(7)\n",
    "#df.tail(1).confirmados_14 * 100000 / 10295909\n",
    "df[ df.index == '2021-02-16' ].confirmados_14 * 100000 / 10295909\n"
   ]
  },
  {
   "cell_type": "code",
   "execution_count": null,
   "metadata": {},
   "outputs": [],
   "source": [
    "# idades\n",
    "df = data.copy()\n",
    "for idade in POP_IDADE:\n",
    "    df[f'confirmados_{idade}'] = df[f'confirmados_{idade}_m'] + df[f'confirmados_{idade}_f']\n",
    "\n",
    "#cols = ['confirmados_0_9_m', 'confirmados_0_9_f', 'confirmados_10_19_m', 'confirmados_10_19_f']\n",
    "#cols = ['confirmados_0_9', 'confirmados_10_19', 'confirmados_20_29', 'confirmados_30_39']\n",
    "cols = [f'confirmados_{idade}' for idade in POP_IDADE]\n",
    "\n",
    "df['confirmados_7'] = df['confirmados'].diff(7).div(7)\n",
    "\n",
    "\n",
    "for col in cols:\n",
    "    # df[f\"{col}_1\"] = df[col].diff(1)\n",
    "    df[f\"{col}_7\"] = df[col].diff(7).div(7)\n",
    "    #df[f\"{col}_7_1\"] = df[f\"{col}_7\"].diff(1)\n",
    "    df[f\"{col}_7_p\"] = df[f\"{col}_7\"] / df[\"confirmados_7\"] * 100.0\n",
    "\n",
    "#print(df[-1:][[col for col in df.columns if col.endswith(\"_p\")]])\n",
    "\n",
    "#cols2 = [f\"{col}_7\" for col in cols]\n",
    "cols2 = [f\"{col}_7_p\" for col in cols]\n",
    "#cols2 = [f\"{col}_7_1\" for col in cols]\n",
    "axes = df[cols2].plot(figsize=(15,10), lw=4 )# 2) # , marker='o')\n",
    "plt.axhline(y=0)\n",
    "plt.tight_layout()\n",
    "#foo = \"0-59\" if cols == cols1 else \"60-80+\"\n",
    "foo = \"idade\"\n",
    "xticks = None # list(reversed(list(reversed(list(df.index)))[0::7]))\n",
    "#df = df.iloc[-90:]\n",
    "dia = df[-1:].index[0].strftime('%Y-%m-%d')\n",
    "plot(axes, title=f\"Confirmados % por {foo} para {dia}\", ylim=(0,26), xticks=xticks, file=f\"../../temp/confirmados_{foo}.png\") #, ylim=0).show()\n",
    "plt.ylim(0)\n",
    "plt.show()\n"
   ]
  },
  {
   "cell_type": "code",
   "execution_count": null,
   "metadata": {},
   "outputs": [],
   "source": [
    "#cols2 = [f\"{col}_1\" for col in cols]\n",
    "cols2 = [f\"{col}_7\" for col in cols]\n",
    "df[cols2].tail(15)\n",
    "\n"
   ]
  },
  {
   "cell_type": "code",
   "execution_count": null,
   "metadata": {},
   "outputs": [],
   "source": []
  },
  {
   "cell_type": "code",
   "execution_count": null,
   "metadata": {},
   "outputs": [],
   "source": [
    "df = data.copy()\n",
    "#df = df.iloc[-90:]\n",
    "\n",
    "axes = df[['ativos', 'vigilancia']].plot(figsize=(15,5), lw=4)\n",
    "axes.legend(loc=\"upper left\")\n",
    "axes.set_title(\"Vigilância vs. Activo\")\n",
    "axes.set_xlim(None, None)\n",
    "axes.autoscale()\n",
    "plt.tight_layout()\n",
    "if SAVE_IMAGES: plt.savefig(f\"../../temp/variacao_vigilancia_1.png\")\n",
    "\n",
    "df['foo'] = df['vigilancia'] / df['ativos']\n",
    "axes = df[['foo']].plot(figsize=(15,5), lw=4)\n",
    "plt.axhline(y=1)\n",
    "plot(axes, ylim=(0,5), title=\"Vigilancia por Activo\", file=f\"../../temp/variacao_vigilancia_2.png\").show()\n"
   ]
  },
  {
   "cell_type": "code",
   "execution_count": null,
   "metadata": {},
   "outputs": [],
   "source": []
  },
  {
   "cell_type": "code",
   "execution_count": null,
   "metadata": {},
   "outputs": [],
   "source": [
    "df2 = data.copy()\n",
    "for k in ['10_19', '20_29', '30_39', '40_49']:\n",
    "    df2[f'confirmados_{k}'] = df2[f'confirmados_{k}_m'] + df2[f'confirmados_{k}_f']\n",
    "df2['confirmados_10_49'] = df2['confirmados_10_19'] + df2['confirmados_20_29'] + df2['confirmados_30_39'] + df2['confirmados_40_49']\n",
    "df2['confirmados_10_49_7'] = df2['confirmados_10_49'].diff(7)\n",
    "df2['confirmados_7'] = df2['confirmados'].diff(7)\n",
    "df2[\"epc\"] = df2['internados_enfermaria'] / df2['confirmados_7']\n",
    "df2[\"upc\"] = df2['internados_uci'] / df2['confirmados_7']\n",
    "df2[\"epc_10_49\"] = df2['internados_enfermaria'] / df2['confirmados_10_49_7']\n",
    "df2[\"upc_10_49\"] = df2['internados_uci'] / df2['confirmados_10_49_7']\n",
    "df2[['epc', 'epc_10_49']].plot(figsize=(15,5))\n",
    "df2[['upc', 'upc_10_49']].plot(figsize=(15,5))\n"
   ]
  },
  {
   "cell_type": "code",
   "execution_count": null,
   "metadata": {},
   "outputs": [],
   "source": []
  }
 ]
}