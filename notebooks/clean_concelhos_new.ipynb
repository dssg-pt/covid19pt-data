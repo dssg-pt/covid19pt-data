{
 "metadata": {
  "language_info": {
   "codemirror_mode": {
    "name": "ipython",
    "version": 3
   },
   "file_extension": ".py",
   "mimetype": "text/x-python",
   "name": "python",
   "nbconvert_exporter": "python",
   "pygments_lexer": "ipython3",
   "version": "3.8.2-final"
  },
  "orig_nbformat": 2,
  "kernelspec": {
   "name": "python3",
   "display_name": "Python 3",
   "language": "python"
  }
 },
 "nbformat": 4,
 "nbformat_minor": 2,
 "cells": [
  {
   "cell_type": "code",
   "execution_count": null,
   "metadata": {},
   "outputs": [],
   "source": [
    "import pandas as pd\n",
    "import numpy as np\n",
    "from pathlib import Path\n"
   ]
  },
  {
   "cell_type": "code",
   "execution_count": null,
   "metadata": {},
   "outputs": [],
   "source": [
    "DATA_NEW_FILEPATH = Path.cwd() / '..' / 'data_concelhos_new.csv'\n",
    "df = pd.read_csv(DATA_NEW_FILEPATH) # , parse_dates=[0], index_col=[0], infer_datetime_format=True)\n"
   ]
  },
  {
   "cell_type": "code",
   "execution_count": null,
   "metadata": {},
   "outputs": [],
   "source": [
    "cols = list(df.columns)\n",
    "cols = cols[cols.index(\"ars\"):]\n",
    "\n",
    "len(cols), cols[0], cols[-1]\n"
   ]
  },
  {
   "cell_type": "code",
   "execution_count": null,
   "metadata": {},
   "outputs": [],
   "source": [
    "concelhos = list(df.concelho.unique())\n",
    "\n",
    "len(concelhos), concelhos[0], concelhos[-1]\n"
   ]
  },
  {
   "cell_type": "code",
   "execution_count": null,
   "metadata": {
    "tags": []
   },
   "outputs": [],
   "source": [
    "meta = {}\n",
    "for i, row in df.iterrows():\n",
    "    concelho = row.concelho\n",
    "    if concelho not in meta: meta[concelho] = {}\n",
    "    meta_concelho = meta[concelho]\n",
    "    for col in cols:\n",
    "        val = row[col]\n",
    "        if type(val) == float and np.isnan(val): continue\n",
    "        if col not in meta_concelho: meta_concelho[col] = val\n",
    "        elif meta_concelho[col] != val:\n",
    "            print(f\"ERRO {concelho} {col} {val} {meta_concelho[col]}\")\n",
    "\n",
    "meta\n"
   ]
  },
  {
   "cell_type": "code",
   "execution_count": null,
   "metadata": {
    "tags": []
   },
   "outputs": [],
   "source": [
    "#for concelho, row in meta.items():\n",
    "#    for col, val in row.items():\n",
    "#        df[col][df.concelho == concelho] = val\n",
    "for i, row in df.iterrows():\n",
    "    for col in cols:\n",
    "        df[col][i] = meta[row.concelho][col]\n",
    "\n",
    "df\n"
   ]
  },
  {
   "cell_type": "code",
   "execution_count": null,
   "metadata": {
    "tags": []
   },
   "outputs": [],
   "source": [
    "# df[[\"concelho\", \"confirmados_14\", \"casos_14dias\"]][~(df[\"casos_14dias\"].isna())]\n",
    "for i, row in df.iterrows():\n",
    "    if np.isnan(row.casos_14dias):\n",
    "        df.loc[i, \"casos_14dias\"] = row.confirmados_14\n",
    "        continue\n",
    "    if abs(row.casos_14dias - row.confirmados_14) > 2:\n",
    "        print(f\"FAIL {i} {row.concelho} {row.casos_14dias} {row.confirmados_14}\")\n",
    "\n",
    "df.loc[:, ['concelho', 'confirmados_14', 'casos_14dias']]\n"
   ]
  },
  {
   "cell_type": "code",
   "execution_count": null,
   "metadata": {},
   "outputs": [],
   "source": [
    "df.incidencia_categoria.unique()\n",
    "df.incidencia_categoria.loc[df.incidencia_categoria == \"[0,20)\"] = \"[0,20]\"\n",
    "df.incidencia_categoria.loc[df.incidencia_categoria == \"[0,20}\"] = \"[0,20]\"\n",
    "df.incidencia_categoria.loc[df.incidencia_categoria == \"[0,204]\"] = \"[0,240]\"\n",
    "df.incidencia_categoria.loc[df.incidencia_categoria == \"[0,240)\"] = \"[0,240]\"\n",
    "df.incidencia_categoria.loc[df.incidencia_categoria == \"[20,60)\"] = \"[20,60]\"\n",
    "df.incidencia_categoria.loc[df.incidencia_categoria == \"[60,120)\"] = \"[60,120]\"\n",
    "df.incidencia_categoria.loc[df.incidencia_categoria == \"[120,240)\"] = \"[120,240]\"\n",
    "df.incidencia_categoria.loc[df.incidencia_categoria == \"[240,480)\"] = \"[240,480]\"\n",
    "df.incidencia_categoria.loc[df.incidencia_categoria == \"[480,960)\"] = \"[480,960]\"\n",
    "df.incidencia_categoria.loc[df.incidencia_categoria == \"[960, Max)\"] = \"[960,Max]\"\n",
    "df.incidencia_categoria.loc[df.incidencia_categoria == \"[960, Max]\"] = \"[960,Max]\"\n",
    "df.incidencia_categoria.loc[df.incidencia_categoria == \"Abaixo de 20,0\"] = \"[0,20]\"\n",
    "df.incidencia_categoria.loc[df.incidencia_categoria == \"Entre 20,0 e 59,9\"] = \"[20,60]\"\n",
    "df.incidencia_categoria.loc[df.incidencia_categoria == \"Entre 60,0 e 119,9\"] = \"[60,120]\"\n",
    "df.incidencia_categoria.loc[df.incidencia_categoria == \"Entre 120,0 e 239,9\"] = \"[120,240]\"\n",
    "df.incidencia_categoria.loc[df.incidencia_categoria == \"Acima de 240,0\"] = \"[240,Max]\"\n",
    "df.incidencia_categoria.loc[df.incidencia_categoria == \"Acima de 240,0 \"] = \"[240,Max]\"\n",
    "\n",
    "sorted(df.incidencia_categoria.unique())\n"
   ]
  },
  {
   "cell_type": "code",
   "execution_count": null,
   "metadata": {},
   "outputs": [],
   "source": [
    "cols_int = [x for x in df.columns if x.startswith(\"population\")]\n",
    "cols_int += [\"casos_14dias\", \"dicofre\"]\n",
    "cols_int += [\"confirmados_14\", \"confirmados_1\", \"incidencia\"]\n",
    "df[cols_int] = df[cols_int].applymap(lambda x: int(x))\n",
    "df[[\"dicofre\"]] = df[[\"dicofre\"]].applymap(lambda x: f\"0{x}\" if x < 1000 else x)\n",
    "\n",
    "df[\"dicofre\"]\n"
   ]
  },
  {
   "cell_type": "code",
   "execution_count": null,
   "metadata": {},
   "outputs": [],
   "source": [
    "# DATA_NEW_FILEPATH_OUT = Path.cwd() / '..' / 'data_concelhos_new_out.csv'\n",
    "DATA_NEW_FILEPATH_OUT = Path.cwd() / '..' / 'data_concelhos_new.csv'\n",
    "df.to_csv(DATA_NEW_FILEPATH_OUT, index=False, sep=\",\")\n"
   ]
  },
  {
   "cell_type": "code",
   "execution_count": null,
   "metadata": {},
   "outputs": [],
   "source": []
  }
 ]
}